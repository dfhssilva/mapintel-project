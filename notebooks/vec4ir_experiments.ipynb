{
 "cells": [
  {
   "cell_type": "markdown",
   "metadata": {},
   "source": [
    "# Description:\n",
    "In this notebook we use the Vec4IR framework to test some Semantic Retrieval settings. We implement the following document representations: tfidf, average of word2vec embeddings and doc2vec.\n",
    "\n",
    "# TODO:\n",
    "- Use pre-trained word-embeddings in Setting 2: https://radimrehurek.com/gensim/auto_examples/howtos/run_downloader_api.html"
   ]
  },
  {
   "cell_type": "code",
   "execution_count": null,
   "metadata": {},
   "outputs": [],
   "source": [
    "from src.data.text_preprocessing import CorpusPreprocess\n",
    "import os\n",
    "import pandas as pd\n",
    "from nltk.corpus import stopwords\n",
    "from nltk.stem import PorterStemmer\n",
    "from string import punctuation\n",
    "from gensim.models import Word2Vec, Doc2Vec\n",
    "from sklearn.model_selection import train_test_split\n",
    "from vec4ir.doc2vec import Doc2VecInference\n",
    "from vec4ir.core import Retrieval\n",
    "from vec4ir.base import Tfidf, Matching\n",
    "from vec4ir.word2vec import WordCentroidDistance"
   ]
  },
  {
   "cell_type": "code",
   "execution_count": null,
   "metadata": {},
   "outputs": [],
   "source": [
    "data_path = os.path.join(\"..\", \"data\", \"raw\", \"bbc\")\n",
    "models_path = os.path.join(\"..\", \"models\", \"saved_models\")\n",
    "\n",
    "# Reading files into memory\n",
    "all_files = [os.path.join(dp, f) for dp, dn, fn in os.walk(os.path.expanduser(data_path)) for f in fn][1:]\n",
    "corpus = []\n",
    "for file in all_files:\n",
    "    with open(file, 'r', encoding='latin') as f:\n",
    "        corpus.append(f.read())\n",
    "\n",
    "# Saving topics from each article\n",
    "topics = [path.split(\"/\")[4] for path in all_files]\n",
    "\n",
    "# df = pd.read_csv(os.path.join(data_path, \"sts-train.csv\"))"
   ]
  },
  {
   "cell_type": "code",
   "execution_count": null,
   "metadata": {},
   "outputs": [],
   "source": [
    "# Train/ test split\n",
    "train_corpus, test_corpus, train_topics, test_topics = train_test_split(corpus, topics, test_size=0.1, random_state=0)\n",
    "\n",
    "# Preprocessing\n",
    "prep = CorpusPreprocess(stop_words=stopwords.words('english'), lowercase=True, strip_accents=True,\n",
    "                        strip_punctuation=punctuation, stemmer=PorterStemmer(), max_df=0.5, min_df=3)\n",
    "processed_train_corpus = prep.fit_transform(train_corpus, tokenize=False)\n",
    "processed_test_corpus = prep.transform(test_corpus, tokenize=False)"
   ]
  },
  {
   "cell_type": "code",
   "execution_count": null,
   "metadata": {},
   "outputs": [],
   "source": [
    "# Setting 1 - Default Matching | tfidf model | No query expansion\n",
    "match_op = Matching()\n",
    "tfidf = Tfidf()\n",
    "retrieval = Retrieval(retrieval_model=tfidf, matching=match_op)\n",
    "retrieval.fit(processed_train_corpus)\n",
    "\n",
    "# Querying using the fitted Retrieval model\n",
    "query = \"American elections republicans\"\n",
    "idx = retrieval.query(prep.transform([query], tokenize=False)[0], k=3)  # return top 3 documents\n",
    "results = [train_corpus[i] for i in idx.tolist()]\n",
    "print(\"Most similar document to query: \\\"{}\\\"\\n\\n{}\".format(query, results[0]))"
   ]
  },
  {
   "cell_type": "code",
   "execution_count": null,
   "metadata": {},
   "outputs": [],
   "source": [
    "# Setting 2 - Default Matching | WordCentroid model | No query expansion\n",
    "match_op = Matching()\n",
    "model = Word2Vec(processed_train_corpus, min_count=1)\n",
    "wcd = WordCentroidDistance(model.wv)\n",
    "retrieval = Retrieval(retrieval_model=wcd, matching=match_op)\n",
    "retrieval.fit(processed_train_corpus)\n",
    "\n",
    "# Querying using the fitted Retrieval model\n",
    "query = \"American elections republicans\"\n",
    "idx = retrieval.query(prep.transform([query], tokenize=False)[0], k=3)  # return top 3 documents\n",
    "results = [train_corpus[i] for i in idx.tolist()]\n",
    "print(\"Most similar document to query: \\\"{}\\\"\\n\\n{}\".format(query, results[0]))"
   ]
  },
  {
   "cell_type": "code",
   "execution_count": null,
   "metadata": {},
   "outputs": [],
   "source": [
    "# Setting 3 - Default Matching | Doc2vec model | No query expansion\n",
    "match_op = Matching()\n",
    "model = Doc2Vec(vector_size=40, min_count=2, epochs=200)\n",
    "model = Doc2Vec.load(os.path.join(models_path, \"old_doc2vec_model.model\"))  # loading pre-trained embeddings\n",
    "doc2vec = Doc2VecInference(model=model, analyzer=lambda x: x.split())\n",
    "retrieval = Retrieval(retrieval_model=doc2vec, matching=match_op)\n",
    "retrieval.fit(processed_train_corpus)\n",
    "\n",
    "# Querying using the fitted Retrieval model\n",
    "query = \"American elections republicans\"\n",
    "idx = retrieval.query(prep.transform([query], tokenize=False)[0], k=3)  # return top 3 documents\n",
    "results = [train_corpus[i] for i in idx.tolist()]\n",
    "print(\"Most similar document to query: \\\"{}\\\"\\n\\n{}\".format(query, results[0]))"
   ]
  }
 ],
 "metadata": {
  "kernelspec": {
   "display_name": "Python 3",
   "language": "python",
   "name": "python3"
  },
  "language_info": {
   "codemirror_mode": {
    "name": "ipython",
    "version": 3
   },
   "file_extension": ".py",
   "mimetype": "text/x-python",
   "name": "python",
   "nbconvert_exporter": "python",
   "pygments_lexer": "ipython3",
   "version": "3.7.9"
  }
 },
 "nbformat": 4,
 "nbformat_minor": 4
}
