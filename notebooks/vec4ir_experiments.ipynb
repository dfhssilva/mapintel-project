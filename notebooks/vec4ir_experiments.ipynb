{
 "cells": [
  {
   "cell_type": "markdown",
   "metadata": {},
   "source": [
    "# Description:\n",
    "In this notebook we use the Vec4IR framework to test some Semantic Retrieval settings. We implement the following document representations: tfidf, average of word2vec embeddings and doc2vec.\n",
    "\n",
    "# TODO:\n",
    "- Use pre-trained word-embeddings in Setting 2: https://radimrehurek.com/gensim/auto_examples/howtos/run_downloader_api.html"
   ]
  },
  {
   "cell_type": "code",
   "execution_count": 1,
   "metadata": {},
   "outputs": [],
   "source": [
    "from utility import CorpusPreprocess\n",
    "import os\n",
    "import pandas as pd\n",
    "from nltk.corpus import stopwords\n",
    "from string import punctuation\n",
    "from gensim.models import Word2Vec, Doc2Vec\n",
    "from sklearn.model_selection import train_test_split\n",
    "from vec4ir.doc2vec import Doc2VecInference\n",
    "from vec4ir.core import Retrieval\n",
    "from vec4ir.base import Tfidf, Matching\n",
    "from vec4ir.word2vec import WordCentroidDistance"
   ]
  },
  {
   "cell_type": "code",
   "execution_count": 5,
   "metadata": {},
   "outputs": [],
   "source": [
    "data_path = os.path.join(\"..\", \"data\", \"raw\", \"bbc\")\n",
    "\n",
    "# Reading files into memory\n",
    "all_files = [os.path.join(dp, f) for dp, dn, fn in os.walk(os.path.expanduser(data_path)) for f in fn][1:]\n",
    "corpus = []\n",
    "for file in all_files:\n",
    "    with open(file, 'r') as f:\n",
    "        corpus.append(f.read())\n",
    "\n",
    "# Saving topics from each article\n",
    "topics = [path.split(\"\\\\\")[3] for path in all_files]\n",
    "\n",
    "# df = pd.read_csv(os.path.join(data_path, \"sts-train.csv\"))"
   ]
  },
  {
   "cell_type": "code",
   "execution_count": 6,
   "metadata": {},
   "outputs": [],
   "source": [
    "# Train/ test split\n",
    "train_corpus, test_corpus, train_topics, test_topics = train_test_split(corpus, topics, test_size=0.1, random_state=0)\n",
    "\n",
    "# Preprocessing\n",
    "prep = CorpusPreprocess(stop_words=stopwords.words('english'), lowercase=True, strip_accents=True,\n",
    "                        strip_punctuation=punctuation, stemmer=True, max_df=0.5, min_df=3)\n",
    "processed_train_corpus = prep.fit_transform(train_corpus, tokenize=False)\n",
    "processed_test_corpus = prep.transform(test_corpus, tokenize=False)"
   ]
  },
  {
   "cell_type": "code",
   "execution_count": 18,
   "metadata": {},
   "outputs": [
    {
     "name": "stdout",
     "output_type": "stream",
     "text": [
      "Most similar document to query: \"American elections republicans\"\n",
      "\n",
      "February poll claim 'speculation'\n",
      "\n",
      "Reports that Tony Blair is planning a snap general election for February 2005 have been described as \"idle speculation\" by Downing Street.\n",
      "\n",
      "A spokesman said he had \"no idea\" where the reports in the Sunday Times and Sunday Telegraph had come from. The papers suggest ministers believe the government could benefit from a \"Baghdad bounce\" following successful Iraq elections in January. A British general election was last held in February in 1974. In that election, Edward Heath lost and failed to build a coalition with the Liberals. Harold Wilson took over and increased his majority later in the year in a second election\n",
      "\n",
      "The latest speculation suggests the prime minister favours a February poll in order to exploit his current opinion poll lead over Conservative leader Michael Howard. But that strategy could prompt criticism he was seeking to \"cut and run\" after less then four years of a parliamentary term. The papers report that Alan Milburn, Labour's head of elections strategy, has played a key role in the plan for a February election, which would include a New Year advertising blitz. New Labour's campaign, both newspapers said, would be centred around the slogan \"Britain is Working\". A Labour Party spokesman said the election date was ultimately a matter for Mr Blair, but he was unaware of anything to suggest it would be in February. Most commentators have been expecting an election on 5 May. The last election was in June 2001.\n",
      "\n"
     ]
    }
   ],
   "source": [
    "# Setting 1 - Default Matching | tfidf model | No query expansion\n",
    "match_op = Matching()\n",
    "tfidf = Tfidf()\n",
    "retrieval = Retrieval(retrieval_model=tfidf, matching=match_op)\n",
    "retrieval.fit(processed_train_corpus)\n",
    "\n",
    "# Querying using the fitted Retrieval model\n",
    "query = \"American elections republicans\"\n",
    "idx = retrieval.query(prep.transform([query], tokenize=False)[0], k=3)  # return top 3 documents\n",
    "results = [train_corpus[i] for i in idx.tolist()]\n",
    "print(\"Most similar document to query: \\\"{}\\\"\\n\\n{}\".format(query, results[0]))"
   ]
  },
  {
   "cell_type": "code",
   "execution_count": 19,
   "metadata": {},
   "outputs": [
    {
     "name": "stdout",
     "output_type": "stream",
     "text": [
      "Embedding shape: (37, 100)\n",
      "Most similar document to query: \"American elections republicans\"\n",
      "\n",
      "Moya clinches Cup for Spain\n",
      "\n",
      "Spain won the Davis Cup for the second time in their history when Carlos Moya beat the USA's Andy Roddick in the fourth rubber in Seville.\n",
      "\n",
      "Moya won 6-2 7-6 (7-1) 7-6 (7-5) to give the hosts an unassailable 3-1 lead with only one singles rubber remaining. Roddick battled hard and had chances in the second set, but Moya's clay-court expertise proved the difference. Mardy Fish beat Tommy Robredo 7-6 (8-6) 6-2 in the final dead rubber to cut Spain's winning margin to 3-2. Spain's only other Davis Cup title came in 2000, when they beat Australia in Barcelona. This time they chose to play the final in Seville and the city's Olympic Stadium was revamped to allow for a record crowd for a competitve tennis event of 27,000 spectators. And the home fans gave vociferous support to their players, with 18-year-old Nadal and Moya winning both Friday's singles rubbers. American twins Mike and Bob Bryan gave the visitors hope with victory over Juan Carlos Ferrero and Tommy Robredo in Saturday's doubles. But it remained an uphill task for a US team far happier on hard courts than clay, and 1998 French Open champion Moya had too much for world number two Roddick. \"This has been incredible - the moment I've been waiting for for years,\" said Moya, who missed out in 2000 through injury. \"I've prepared myself for this day. I knew that playing on clay I would have my chances to win.\n",
      "\n",
      "\"The Davis Cup is my dream. I can't ask for more. There is nothing bigger than what I've lived today.\" Moya stormed into a 4-0 lead on his way to taking the first set against Roddick and recovered immediately from dropping serve in the second. The match came down to two tie-breaks and Moya dominated both, clinching victory on his third match point. Wild celebrations followed, with an emotional Moya congratulated by his team-mates, including Nadal, who at 18 years and 187 days becomes the youngest ever victor in Davis Cup history. \"I think we put up a better fight here than in Paris two years ago,\" said Roddick, who was on the US team which lost to France in the 2002 semi-finals at Roland Garros. \"They were just better than us this weekend. I have nothing to be ashamed of, I gave it my all. \"I am not going to walk out of here with my head down, that's for sure. \"There's no miracle answer. We have to improve.\"\n",
      "\n"
     ]
    }
   ],
   "source": [
    "# Setting 2 - Default Matching | WordCentroid model | No query expansion\n",
    "match_op = Matching()\n",
    "model = Word2Vec(processed_train_corpus, min_count=1)\n",
    "wcd = WordCentroidDistance(model.wv)\n",
    "retrieval = Retrieval(retrieval_model=wcd, matching=match_op)\n",
    "retrieval.fit(processed_train_corpus)\n",
    "\n",
    "# Querying using the fitted Retrieval model\n",
    "query = \"American elections republicans\"\n",
    "idx = retrieval.query(prep.transform([query], tokenize=False)[0], k=3)  # return top 3 documents\n",
    "results = [train_corpus[i] for i in idx.tolist()]\n",
    "print(\"Most similar document to query: \\\"{}\\\"\\n\\n{}\".format(query, results[0]))"
   ]
  },
  {
   "cell_type": "code",
   "execution_count": 21,
   "metadata": {},
   "outputs": [
    {
     "name": "stdout",
     "output_type": "stream",
     "text": [
      "Most similar document to query: \"American elections republicans\"\n",
      "\n",
      "Redford's vision of Sundance\n",
      "\n",
      "Despite sporting a corduroy cap pulled low over his face plus a pair of dark glasses, Robert Redford cuts an unmistakable figure through the star-struck crowds at Sundance.\n",
      "\n",
      "It's a rare downtown appearance for the man who started the annual festival in Park City, Utah back in the 1980s. Now in its twenty-first year, Sundance continues to grow. Some 45,000 people are estimated to have descended on this small ski town with nothing but movies on the mind. It's an opportunity to meet and make deals. Redford wanted Sundance to be a platform for independent film-makers, but the commercial success of many showcased films have led to criticism that the festival is becoming too mainstream.\n",
      "\n",
      "Smaller festivals like Slamdance and XDance, which take place during the same week in Park City, are competing for Sundance's limelight. But Redford is not worried. \"The more the merrier,\" he says. \"The point was to create opportunities for people who may not have them. \"Once independent film had a place where the work could be seen, suddenly the merchants came. With them the celebrities came, then the paparazzi - and suddenly it began to take on a whole new tone,\" explains Redford.\n",
      "\n",
      "\"People started to say we had gone mainstream and Hollywood, but actually Hollywood came to us because suddenly there was good business in independent film,\" he adds. International film-makers have always been celebrated here, but 2005 is the first year a dedicated World Dramatic and Documentary competition is being held.\n",
      "\n",
      "Redford wants the festival to encompass viewpoints he believes the American media fails to reflect, particularly how the US is perceived internationally. He has never hidden the fact that he is a Democrat. But he reserves particular disdain for the current Republican administration. \"It's the ability to maintain the importance of dissent in a democratic system which right now is under threat with the attitude of this administration,\" he says. \"I think many voices are being shut down or accused of being unpatriotic if they want to express another point of view. That's very unhealthy and very dangerous.\n",
      "\n",
      "\"If we take that policy into the world, there will be the same victims and the same consequences.\" Sundance isn't just one big screening. There are discussion panels and Q&A sessions with directors tackling controversial topics like America's \"culture wars\" and the Iraq war. While Redford wishes the festival to be a forum for dissent, the profile of the audience is fairly monolithic. Educated, middle class and predominantly white Americans comes Sundance, with views from the same end of the political spectrum - anti-war and socially liberal. But Redford knows this and started the Sundance TV Channel in an effort to reach a wider audience. \"When you look at the films here, what we are presenting is very much egalitarian. And it's about good films and good story-telling be it African America, Asian, women, gay, lesbian. \"Sooner or later we will do away with those stereotypical labels and people will say 'it's just a film by so-and so'.\"\n",
      "\n"
     ]
    }
   ],
   "source": [
    "# Setting 3 - Default Matching | Doc2vec model | No query expansion\n",
    "match_op = Matching()\n",
    "model = Doc2Vec(vector_size=40, min_count=2, epochs=200)\n",
    "model = Doc2Vec.load(os.path.join(\"..\", \"models\", \"doc2vec_model\"))  # loading pre-trained embeddings\n",
    "doc2vec = Doc2VecInference(model=model, analyzer=lambda x: x.split())\n",
    "retrieval = Retrieval(retrieval_model=doc2vec, matching=match_op)\n",
    "retrieval.fit(processed_train_corpus)\n",
    "\n",
    "# Querying using the fitted Retrieval model\n",
    "query = \"American elections republicans\"\n",
    "idx = retrieval.query(prep.transform([query], tokenize=False)[0], k=3)  # return top 3 documents\n",
    "results = [train_corpus[i] for i in idx.tolist()]\n",
    "print(\"Most similar document to query: \\\"{}\\\"\\n\\n{}\".format(query, results[0]))"
   ]
  }
 ],
 "metadata": {
  "kernelspec": {
   "display_name": "Python 3",
   "language": "python",
   "name": "python3"
  },
  "language_info": {
   "codemirror_mode": {
    "name": "ipython",
    "version": 3
   },
   "file_extension": ".py",
   "mimetype": "text/x-python",
   "name": "python",
   "nbconvert_exporter": "python",
   "pygments_lexer": "ipython3",
   "version": "3.8.3"
  }
 },
 "nbformat": 4,
 "nbformat_minor": 4
}
