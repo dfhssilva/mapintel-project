{
 "cells": [
  {
   "cell_type": "markdown",
   "metadata": {},
   "source": [
    "# Testing Vector index and search with Haystack"
   ]
  },
  {
   "cell_type": "code",
   "execution_count": 1,
   "metadata": {
    "pycharm": {
     "name": "#%%\n"
    }
   },
   "outputs": [
    {
     "name": "stdout",
     "output_type": "stream",
     "text": [
      "Sun May 30 23:33:26 2021       \r\n",
      "+-----------------------------------------------------------------------------+\r\n",
      "| NVIDIA-SMI 460.73.01    Driver Version: 460.73.01    CUDA Version: 11.2     |\r\n",
      "|-------------------------------+----------------------+----------------------+\r\n",
      "| GPU  Name        Persistence-M| Bus-Id        Disp.A | Volatile Uncorr. ECC |\r\n",
      "| Fan  Temp  Perf  Pwr:Usage/Cap|         Memory-Usage | GPU-Util  Compute M. |\r\n",
      "|                               |                      |               MIG M. |\r\n",
      "|===============================+======================+======================|\r\n",
      "|   0  GeForce RTX 2060    Off  | 00000000:01:00.0  On |                  N/A |\r\n",
      "| N/A   52C    P8     5W /  N/A |     54MiB /  5934MiB |     34%      Default |\r\n",
      "|                               |                      |                  N/A |\r\n",
      "+-------------------------------+----------------------+----------------------+\r\n",
      "                                                                               \r\n",
      "+-----------------------------------------------------------------------------+\r\n",
      "| Processes:                                                                  |\r\n",
      "|  GPU   GI   CI        PID   Type   Process name                  GPU Memory |\r\n",
      "|        ID   ID                                                   Usage      |\r\n",
      "|=============================================================================|\r\n",
      "+-----------------------------------------------------------------------------+\r\n"
     ]
    }
   ],
   "source": [
    "# Make sure you have a GPU running\n",
    "! nvidia-smi"
   ]
  },
  {
   "cell_type": "code",
   "execution_count": 2,
   "metadata": {},
   "outputs": [
    {
     "name": "stderr",
     "output_type": "stream",
     "text": [
      "05/30/2021 23:33:30 - INFO - faiss.loader -   Loading faiss with AVX2 support.\n",
      "05/30/2021 23:33:30 - INFO - faiss.loader -   Could not load library with AVX2 support due to:\n",
      "ModuleNotFoundError(\"No module named 'faiss.swigfaiss_avx2'\")\n",
      "05/30/2021 23:33:30 - INFO - faiss.loader -   Loading faiss.\n",
      "05/30/2021 23:33:30 - INFO - faiss.loader -   Successfully loaded faiss.\n",
      "05/30/2021 23:33:30 - INFO - farm.modeling.prediction_head -   Better speed can be achieved with apex installed from https://www.github.com/nvidia/apex .\n"
     ]
    }
   ],
   "source": [
    "import pandas as pd\n",
    "from haystack.document_store.elasticsearch import OpenDistroElasticsearchDocumentStore\n",
    "from haystack.retriever.sparse import ElasticsearchRetriever\n",
    "from haystack.retriever import EmbeddingRetriever\n",
    "from haystack.reader.farm import FARMReader\n",
    "from haystack.reader.transformers import TransformersReader\n",
    "from haystack.pipeline import ExtractiveQAPipeline\n",
    "from haystack.utils import print_answers"
   ]
  },
  {
   "cell_type": "code",
   "execution_count": 3,
   "metadata": {},
   "outputs": [],
   "source": [
    "from typing import List, Optional\n",
    "from haystack import Document\n",
    "from haystack.reader.base import BaseReader\n",
    "\n",
    "class CrossEncoderReRanker(BaseReader):\n",
    "    \"\"\"\n",
    "    A re-ranker based on a BERT Cross-Encoder. The query and a candidate result are passed\n",
    "    simoultaneously to the trasnformer network, which then output a single score between\n",
    "    0 and 1 indicating how relevant the document is for the given query. Read the article\n",
    "    in https://www.sbert.net/examples/applications/retrieve_rerank/README.html for further\n",
    "    details.\n",
    "    \"\"\"\n",
    "\n",
    "    def __init__(\n",
    "        self,\n",
    "        cross_encoder: str = \"cross-encoder/ms-marco-TinyBERT-L-6\",\n",
    "        use_gpu: int = True,\n",
    "        top_k: int = 10\n",
    "    ):\n",
    "        \"\"\"\n",
    "        :param cross_encoder: Local path or name of cross-encoder model in Hugging Face's model hub such as ``'cross-encoder/ms-marco-TinyBERT-L-6'``\n",
    "        :param use_gpu: If < 0, then use cpu. If >= 0, this is the ordinal of the gpu to use\n",
    "        :param top_k: The maximum number of answers to return\n",
    "        \"\"\"\n",
    "\n",
    "        # # save init parameters to enable export of component config as YAML\n",
    "        # self.set_config(\n",
    "        #     cross_encoder=cross_encoder, use_gpu=use_gpu, top_k=top_k\n",
    "        # )\n",
    "\n",
    "        self.top_k = top_k\n",
    "\n",
    "        try:\n",
    "            from sentence_transformers import CrossEncoder\n",
    "        except ImportError:\n",
    "            raise ImportError(\"Can't find package `sentence-transformers` \\n\"\n",
    "                              \"You can install it via `pip install sentence-transformers` \\n\"\n",
    "                              \"For details see https://github.com/UKPLab/sentence-transformers \")\n",
    "        # pretrained embedding models coming from: https://github.com/UKPLab/sentence-transformers#pretrained-models\n",
    "        if use_gpu:\n",
    "            device = \"cuda\"\n",
    "        else:\n",
    "            device = \"cpu\"\n",
    "        self.cross_encoder = CrossEncoder(cross_encoder, device=device)\n",
    "\n",
    "    def predict(self, query: str, documents: List[Document], top_k: Optional[int] = None):\n",
    "        \"\"\"\n",
    "        Use the cross-encoder to find answers for a query in the supplied list of Document.\n",
    "        Returns dictionaries containing answers sorted by (desc.) probability.\n",
    "        Example:\n",
    "         ```python\n",
    "            |{\n",
    "            |    'query': 'What is the capital of the United States?',\n",
    "            |    'answers':[\n",
    "            |                 {'answer': 'Washington, D.C. (also known as simply Washington or D.C., \n",
    "            |                  and officially as the District of Columbia) is the capital of \n",
    "            |                  the United States. It is a federal district. The President of \n",
    "            |                  the USA and many major national government offices are in the \n",
    "            |                  territory. This makes it the political center of the United \n",
    "            |                  States of America.',\n",
    "            |                 'score': 0.717,\n",
    "            |                 'document_id': 213\n",
    "            |                 },...\n",
    "            |              ]\n",
    "            |}\n",
    "         ```\n",
    "        :param query: Query string\n",
    "        :param documents: List of Document in which to search for the answer\n",
    "        :param top_k: The maximum number of answers to return\n",
    "        :return: Dict containing query and answers\n",
    "        \"\"\"\n",
    "        if top_k is None:\n",
    "            top_k = self.top_k\n",
    "\n",
    "        # Score every document with the cross_encoder\n",
    "        cross_inp = [[query, doc.text] for doc in documents]\n",
    "        cross_scores = self.cross_encoder.predict(cross_inp)\n",
    "        answers = [\n",
    "            {\n",
    "                'answer': documents[idx].text, \n",
    "                'score': cross_scores[idx],\n",
    "                'document_id': documents[idx].id,\n",
    "                'meta': documents[idx].meta\n",
    "            }\n",
    "            for idx in range(len(documents))\n",
    "        ]\n",
    "\n",
    "        # Sort answers by the cross-encoder scores and select top-k\n",
    "        answers = sorted(\n",
    "            answers, key=lambda k: k[\"score\"], reverse=True\n",
    "        )\n",
    "        answers = answers[:top_k]\n",
    "\n",
    "        results = {\"query\": query,\n",
    "                   \"answers\": answers}\n",
    "\n",
    "        return results\n",
    "\n",
    "    def predict_batch(self, query_doc_list: List[dict], top_k: Optional[int] = None,  batch_size: Optional[int] = None):\n",
    "        raise NotImplementedError(\"Batch prediction not yet available in CrossEncoderReRanker.\")"
   ]
  },
  {
   "cell_type": "markdown",
   "metadata": {},
   "source": [
    "## Document Store\n",
    "\n",
    "Haystack finds answers to queries within the documents stored in a `DocumentStore`. In this example we will be using `OpenDistroElasticsearchDocumentStore` for its reliablity and compatibility with dense vector queries.\n",
    "\n",
    "### Start an Elasticsearch server\n",
    "You can start Elasticsearch on your local machine instance using Docker. If Docker is not readily available in your environment (eg., in Colab notebooks), then you can manually download and execute Elasticsearch from source."
   ]
  },
  {
   "cell_type": "code",
   "execution_count": 4,
   "metadata": {},
   "outputs": [],
   "source": [
    "# Recommended: Start Elasticsearch using Docker\n",
    "#! docker run -d -p 9200:9200 -p 9600:9600 -e \"discovery.type=single-node\" amazon/opendistro-for-elasticsearch:1.13.2"
   ]
  },
  {
   "cell_type": "code",
   "execution_count": 5,
   "metadata": {
    "pycharm": {
     "name": "#%%\n"
    },
    "scrolled": true
   },
   "outputs": [
    {
     "name": "stderr",
     "output_type": "stream",
     "text": [
      "/opt/conda/lib/python3.8/site-packages/elasticsearch/connection/http_urllib3.py:204: UserWarning: Connecting to https://odfe-node1:9200 using SSL with verify_certs=False is insecure.\n",
      "  warnings.warn(\n",
      "/opt/conda/lib/python3.8/site-packages/urllib3/connectionpool.py:981: InsecureRequestWarning: Unverified HTTPS request is being made to host 'odfe-node1'. Adding certificate verification is strongly advised. See: https://urllib3.readthedocs.io/en/latest/advanced-usage.html#ssl-warnings\n",
      "  warnings.warn(\n",
      "05/30/2021 23:33:31 - INFO - elasticsearch -   HEAD https://odfe-node1:9200/ [status:200 request:0.024s]\n",
      "/opt/conda/lib/python3.8/site-packages/urllib3/connectionpool.py:981: InsecureRequestWarning: Unverified HTTPS request is being made to host 'odfe-node1'. Adding certificate verification is strongly advised. See: https://urllib3.readthedocs.io/en/latest/advanced-usage.html#ssl-warnings\n",
      "  warnings.warn(\n",
      "05/30/2021 23:33:31 - WARNING - elasticsearch -   PUT https://odfe-node1:9200/document [status:400 request:0.006s]\n",
      "/opt/conda/lib/python3.8/site-packages/urllib3/connectionpool.py:981: InsecureRequestWarning: Unverified HTTPS request is being made to host 'odfe-node1'. Adding certificate verification is strongly advised. See: https://urllib3.readthedocs.io/en/latest/advanced-usage.html#ssl-warnings\n",
      "  warnings.warn(\n",
      "05/30/2021 23:33:31 - INFO - elasticsearch -   HEAD https://odfe-node1:9200/document [status:200 request:0.004s]\n",
      "/opt/conda/lib/python3.8/site-packages/urllib3/connectionpool.py:981: InsecureRequestWarning: Unverified HTTPS request is being made to host 'odfe-node1'. Adding certificate verification is strongly advised. See: https://urllib3.readthedocs.io/en/latest/advanced-usage.html#ssl-warnings\n",
      "  warnings.warn(\n",
      "05/30/2021 23:33:31 - INFO - elasticsearch -   HEAD https://odfe-node1:9200/label [status:200 request:0.005s]\n",
      "/opt/conda/lib/python3.8/site-packages/urllib3/connectionpool.py:981: InsecureRequestWarning: Unverified HTTPS request is being made to host 'odfe-node1'. Adding certificate verification is strongly advised. See: https://urllib3.readthedocs.io/en/latest/advanced-usage.html#ssl-warnings\n",
      "  warnings.warn(\n",
      "05/30/2021 23:33:33 - INFO - elasticsearch -   POST https://odfe-node1:9200/document/_search?scroll=1d&size=10000 [status:200 request:2.146s]\n",
      "/opt/conda/lib/python3.8/site-packages/urllib3/connectionpool.py:981: InsecureRequestWarning: Unverified HTTPS request is being made to host 'odfe-node1'. Adding certificate verification is strongly advised. See: https://urllib3.readthedocs.io/en/latest/advanced-usage.html#ssl-warnings\n",
      "  warnings.warn(\n",
      "05/30/2021 23:33:38 - INFO - elasticsearch -   POST https://odfe-node1:9200/_search/scroll [status:200 request:1.835s]\n",
      "/opt/conda/lib/python3.8/site-packages/urllib3/connectionpool.py:981: InsecureRequestWarning: Unverified HTTPS request is being made to host 'odfe-node1'. Adding certificate verification is strongly advised. See: https://urllib3.readthedocs.io/en/latest/advanced-usage.html#ssl-warnings\n",
      "  warnings.warn(\n",
      "05/30/2021 23:33:42 - INFO - elasticsearch -   POST https://odfe-node1:9200/_search/scroll [status:200 request:1.831s]\n",
      "/opt/conda/lib/python3.8/site-packages/urllib3/connectionpool.py:981: InsecureRequestWarning: Unverified HTTPS request is being made to host 'odfe-node1'. Adding certificate verification is strongly advised. See: https://urllib3.readthedocs.io/en/latest/advanced-usage.html#ssl-warnings\n",
      "  warnings.warn(\n",
      "05/30/2021 23:33:46 - INFO - elasticsearch -   POST https://odfe-node1:9200/_search/scroll [status:200 request:1.762s]\n",
      "/opt/conda/lib/python3.8/site-packages/urllib3/connectionpool.py:981: InsecureRequestWarning: Unverified HTTPS request is being made to host 'odfe-node1'. Adding certificate verification is strongly advised. See: https://urllib3.readthedocs.io/en/latest/advanced-usage.html#ssl-warnings\n",
      "  warnings.warn(\n",
      "05/30/2021 23:33:53 - INFO - elasticsearch -   POST https://odfe-node1:9200/_search/scroll [status:200 request:4.457s]\n",
      "/opt/conda/lib/python3.8/site-packages/urllib3/connectionpool.py:981: InsecureRequestWarning: Unverified HTTPS request is being made to host 'odfe-node1'. Adding certificate verification is strongly advised. See: https://urllib3.readthedocs.io/en/latest/advanced-usage.html#ssl-warnings\n",
      "  warnings.warn(\n",
      "05/30/2021 23:34:00 - INFO - elasticsearch -   POST https://odfe-node1:9200/_search/scroll [status:200 request:3.718s]\n",
      "/opt/conda/lib/python3.8/site-packages/urllib3/connectionpool.py:981: InsecureRequestWarning: Unverified HTTPS request is being made to host 'odfe-node1'. Adding certificate verification is strongly advised. See: https://urllib3.readthedocs.io/en/latest/advanced-usage.html#ssl-warnings\n",
      "  warnings.warn(\n",
      "05/30/2021 23:34:04 - INFO - elasticsearch -   POST https://odfe-node1:9200/_search/scroll [status:200 request:1.695s]\n",
      "/opt/conda/lib/python3.8/site-packages/urllib3/connectionpool.py:981: InsecureRequestWarning: Unverified HTTPS request is being made to host 'odfe-node1'. Adding certificate verification is strongly advised. See: https://urllib3.readthedocs.io/en/latest/advanced-usage.html#ssl-warnings\n",
      "  warnings.warn(\n",
      "05/30/2021 23:34:08 - INFO - elasticsearch -   POST https://odfe-node1:9200/_search/scroll [status:200 request:1.387s]\n",
      "/opt/conda/lib/python3.8/site-packages/urllib3/connectionpool.py:981: InsecureRequestWarning: Unverified HTTPS request is being made to host 'odfe-node1'. Adding certificate verification is strongly advised. See: https://urllib3.readthedocs.io/en/latest/advanced-usage.html#ssl-warnings\n",
      "  warnings.warn(\n",
      "05/30/2021 23:34:09 - INFO - elasticsearch -   POST https://odfe-node1:9200/_search/scroll [status:200 request:0.006s]\n",
      "/opt/conda/lib/python3.8/site-packages/urllib3/connectionpool.py:981: InsecureRequestWarning: Unverified HTTPS request is being made to host 'odfe-node1'. Adding certificate verification is strongly advised. See: https://urllib3.readthedocs.io/en/latest/advanced-usage.html#ssl-warnings\n",
      "  warnings.warn(\n",
      "05/30/2021 23:34:09 - INFO - elasticsearch -   DELETE https://odfe-node1:9200/_search/scroll [status:200 request:0.004s]\n"
     ]
    },
    {
     "name": "stdout",
     "output_type": "stream",
     "text": [
      "Document Store has 77498 documents.\n"
     ]
    }
   ],
   "source": [
    "# Connect to ODElasticsearch instance (needs to be changed for security reasons)\n",
    "document_store = OpenDistroElasticsearchDocumentStore(host='odfe-node1', \n",
    "                                                      username='admin', \n",
    "                                                      password='admin', \n",
    "                                                      scheme='https', \n",
    "                                                      verify_certs=False,\n",
    "                                                      similarity='cosine')\n",
    "print(f\"Document Store has {document_store.get_document_count()} documents.\")"
   ]
  },
  {
   "cell_type": "markdown",
   "metadata": {
    "pycharm": {
     "name": "#%% md\n"
    }
   },
   "source": [
    "## Preprocessing and writing documents\n",
    "\n",
    "Haystack provides a customizable pipeline for:\n",
    " - converting files into texts\n",
    " - cleaning texts\n",
    " - splitting texts\n",
    " - writing them to a Document Store\n",
    "\n",
    "In this example, we load the news articles from NewsAPI, apply a basic cleaning function, and index them in ODElasticsearch."
   ]
  },
  {
   "cell_type": "code",
   "execution_count": 6,
   "metadata": {},
   "outputs": [
    {
     "data": {
      "text/html": [
       "<div>\n",
       "<style scoped>\n",
       "    .dataframe tbody tr th:only-of-type {\n",
       "        vertical-align: middle;\n",
       "    }\n",
       "\n",
       "    .dataframe tbody tr th {\n",
       "        vertical-align: top;\n",
       "    }\n",
       "\n",
       "    .dataframe thead th {\n",
       "        text-align: right;\n",
       "    }\n",
       "</style>\n",
       "<table border=\"1\" class=\"dataframe\">\n",
       "  <thead>\n",
       "    <tr style=\"text-align: right;\">\n",
       "      <th></th>\n",
       "      <th>collection</th>\n",
       "      <th>datetime</th>\n",
       "      <th>topic</th>\n",
       "      <th>original</th>\n",
       "      <th>split</th>\n",
       "      <th>clean</th>\n",
       "    </tr>\n",
       "  </thead>\n",
       "  <tbody>\n",
       "    <tr>\n",
       "      <th>0</th>\n",
       "      <td>top_headlines</td>\n",
       "      <td>2021-04-18T06:25:29</td>\n",
       "      <td>sports</td>\n",
       "      <td>Barcelona Scores Four Goals in 12-Minute Span to Win Copa del Rey - Sports I...</td>\n",
       "      <td>train</td>\n",
       "      <td>barcelona score four goal 12minut span win copa del rey sport illustr barcel...</td>\n",
       "    </tr>\n",
       "    <tr>\n",
       "      <th>1</th>\n",
       "      <td>top_headlines</td>\n",
       "      <td>2021-03-25T22:25:31</td>\n",
       "      <td>business</td>\n",
       "      <td>Olive Garden parent's earnings beat, forecasts stronger sales next quarter -...</td>\n",
       "      <td>train</td>\n",
       "      <td>oliv garden parent earn beat forecast stronger sale next quarter cnbc darden...</td>\n",
       "    </tr>\n",
       "    <tr>\n",
       "      <th>2</th>\n",
       "      <td>everything</td>\n",
       "      <td>2021-03-03T14:25:31</td>\n",
       "      <td>technology</td>\n",
       "      <td>A new RPG from the creator of Final Fantasy is coming to Apple Arcade It’s d...</td>\n",
       "      <td>train</td>\n",
       "      <td>new rpg creator final fantasi come appl arcad diorama meet final fantasi fir...</td>\n",
       "    </tr>\n",
       "    <tr>\n",
       "      <th>3</th>\n",
       "      <td>everything</td>\n",
       "      <td>2021-04-15T06:25:30</td>\n",
       "      <td>technology</td>\n",
       "      <td>These are the spectacular winners of the Sony World Photography Awards The w...</td>\n",
       "      <td>train</td>\n",
       "      <td>spectacular winner soni world photographi award winner soni world photograph...</td>\n",
       "    </tr>\n",
       "    <tr>\n",
       "      <th>4</th>\n",
       "      <td>top_headlines</td>\n",
       "      <td>2021-03-11T14:25:30</td>\n",
       "      <td>sports</td>\n",
       "      <td>Sam Darnold Landing Spots: Trade partners for the Jets QB - Pro Football Net...</td>\n",
       "      <td>train</td>\n",
       "      <td>sam darnold land spot trade partner jet qb pro footbal network nfl continu w...</td>\n",
       "    </tr>\n",
       "  </tbody>\n",
       "</table>\n",
       "</div>"
      ],
      "text/plain": [
       "      collection             datetime       topic  \\\n",
       "0  top_headlines  2021-04-18T06:25:29      sports   \n",
       "1  top_headlines  2021-03-25T22:25:31    business   \n",
       "2     everything  2021-03-03T14:25:31  technology   \n",
       "3     everything  2021-04-15T06:25:30  technology   \n",
       "4  top_headlines  2021-03-11T14:25:30      sports   \n",
       "\n",
       "                                                                          original  \\\n",
       "0  Barcelona Scores Four Goals in 12-Minute Span to Win Copa del Rey - Sports I...   \n",
       "1  Olive Garden parent's earnings beat, forecasts stronger sales next quarter -...   \n",
       "2  A new RPG from the creator of Final Fantasy is coming to Apple Arcade It’s d...   \n",
       "3  These are the spectacular winners of the Sony World Photography Awards The w...   \n",
       "4  Sam Darnold Landing Spots: Trade partners for the Jets QB - Pro Football Net...   \n",
       "\n",
       "   split  \\\n",
       "0  train   \n",
       "1  train   \n",
       "2  train   \n",
       "3  train   \n",
       "4  train   \n",
       "\n",
       "                                                                             clean  \n",
       "0  barcelona score four goal 12minut span win copa del rey sport illustr barcel...  \n",
       "1  oliv garden parent earn beat forecast stronger sale next quarter cnbc darden...  \n",
       "2  new rpg creator final fantasi come appl arcad diorama meet final fantasi fir...  \n",
       "3  spectacular winner soni world photographi award winner soni world photograph...  \n",
       "4  sam darnold land spot trade partner jet qb pro footbal network nfl continu w...  "
      ]
     },
     "execution_count": 6,
     "metadata": {},
     "output_type": "execute_result"
    }
   ],
   "source": [
    "df = pd.read_csv('../data/processed/newsapi_docs.csv', header=None, names=['collection', 'datetime', 'topic', 'original', 'split', 'clean'])\n",
    "df.head()"
   ]
  },
  {
   "cell_type": "code",
   "execution_count": 6,
   "metadata": {},
   "outputs": [
    {
     "name": "stderr",
     "output_type": "stream",
     "text": [
      "05/30/2021 17:05:58 - INFO - matplotlib.font_manager -   generated new fontManager\n"
     ]
    },
    {
     "data": {
      "text/plain": [
       "<AxesSubplot:>"
      ]
     },
     "execution_count": 6,
     "metadata": {},
     "output_type": "execute_result"
    },
    {
     "data": {
      "image/png": "[encoded data removed]",
      "text/plain": [
       "<Figure size 432x288 with 1 Axes>"
      ]
     },
     "metadata": {
      "needs_background": "light"
     },
     "output_type": "display_data"
    }
   ],
   "source": [
    "# Checking number of word distribution\n",
    "df['original'].apply(lambda x: len(x.strip().split(\" \"))).plot(kind='box')"
   ]
  },
  {
   "cell_type": "code",
   "execution_count": 7,
   "metadata": {},
   "outputs": [
    {
     "name": "stdout",
     "output_type": "stream",
     "text": [
      "[{'text': 'Barcelona Scores Four Goals in 12-Minute Span to Win Copa del Rey - Sports Illustrated Barcelona dominated Athletic Bilbao on Saturday by a 4–0 score, with two goals scored by Lionel Messi. Barcelona dominated Athletic Bilbao on Saturday 4–0 to win the Copa del Rey with all four goals coming in the span of just 12 minutes.\\xa0Forward Antoine Griezmann was the first to draw blood in the 6', 'meta': {'collection': 'top_headlines', 'datetime': '2021-04-18T06:25:29', 'topic': 'sports'}}, {'text': \"Olive Garden parent's earnings beat, forecasts stronger sales next quarter - CNBC Darden Restaurants stock surges after the company reported quarterly\\xa0earnings\\xa0that topped analysts' expectations. Darden Restaurants on Thursday reported quarterly\\xa0earnings\\xa0that topped analysts' expectations as customers visited Olive Garden and its other chains more than expected.The company is forecasting th\", 'meta': {'collection': 'top_headlines', 'datetime': '2021-03-25T22:25:31', 'topic': 'business'}}, {'text': 'A new RPG from the creator of Final Fantasy is coming to Apple Arcade It’s dioramas meet Final Fantasy. That’s the first takeaway from Fantasian, a new game from Mistwalker, the studio responsible for the Blue Dragon series and The Last One.According to the early teaser and a few comments made in a Polygon interview b... Its dioramas meet Final Fantasy. Thats the first takeaway from Fantasian, a new game from Mistwalker, the studio responsible for the Blue Dragon series and The Last One.According to the early tease', 'meta': {'collection': 'everything', 'datetime': '2021-03-03T14:25:31', 'topic': 'technology'}}]\n"
     ]
    },
    {
     "name": "stderr",
     "output_type": "stream",
     "text": [
      "/opt/conda/lib/python3.8/site-packages/urllib3/connectionpool.py:981: InsecureRequestWarning: Unverified HTTPS request is being made to host 'odfe-node1'. Adding certificate verification is strongly advised. See: https://urllib3.readthedocs.io/en/latest/advanced-usage.html#ssl-warnings\n",
      "  warnings.warn(\n",
      "05/30/2021 13:31:09 - INFO - elasticsearch -   POST https://odfe-node1:9200/_bulk?refresh=wait_for [status:200 request:1.063s]\n",
      "/opt/conda/lib/python3.8/site-packages/urllib3/connectionpool.py:981: InsecureRequestWarning: Unverified HTTPS request is being made to host 'odfe-node1'. Adding certificate verification is strongly advised. See: https://urllib3.readthedocs.io/en/latest/advanced-usage.html#ssl-warnings\n",
      "  warnings.warn(\n",
      "05/30/2021 13:31:10 - INFO - elasticsearch -   POST https://odfe-node1:9200/_bulk?refresh=wait_for [status:200 request:1.029s]\n",
      "/opt/conda/lib/python3.8/site-packages/urllib3/connectionpool.py:981: InsecureRequestWarning: Unverified HTTPS request is being made to host 'odfe-node1'. Adding certificate verification is strongly advised. See: https://urllib3.readthedocs.io/en/latest/advanced-usage.html#ssl-warnings\n",
      "  warnings.warn(\n",
      "05/30/2021 13:31:11 - INFO - elasticsearch -   POST https://odfe-node1:9200/_bulk?refresh=wait_for [status:200 request:1.011s]\n",
      "/opt/conda/lib/python3.8/site-packages/urllib3/connectionpool.py:981: InsecureRequestWarning: Unverified HTTPS request is being made to host 'odfe-node1'. Adding certificate verification is strongly advised. See: https://urllib3.readthedocs.io/en/latest/advanced-usage.html#ssl-warnings\n",
      "  warnings.warn(\n",
      "05/30/2021 13:31:12 - INFO - elasticsearch -   POST https://odfe-node1:9200/_bulk?refresh=wait_for [status:200 request:1.027s]\n",
      "/opt/conda/lib/python3.8/site-packages/urllib3/connectionpool.py:981: InsecureRequestWarning: Unverified HTTPS request is being made to host 'odfe-node1'. Adding certificate verification is strongly advised. See: https://urllib3.readthedocs.io/en/latest/advanced-usage.html#ssl-warnings\n",
      "  warnings.warn(\n",
      "05/30/2021 13:31:13 - INFO - elasticsearch -   POST https://odfe-node1:9200/_bulk?refresh=wait_for [status:200 request:1.028s]\n",
      "/opt/conda/lib/python3.8/site-packages/urllib3/connectionpool.py:981: InsecureRequestWarning: Unverified HTTPS request is being made to host 'odfe-node1'. Adding certificate verification is strongly advised. See: https://urllib3.readthedocs.io/en/latest/advanced-usage.html#ssl-warnings\n",
      "  warnings.warn(\n",
      "05/30/2021 13:31:14 - INFO - elasticsearch -   POST https://odfe-node1:9200/_bulk?refresh=wait_for [status:200 request:1.019s]\n",
      "/opt/conda/lib/python3.8/site-packages/urllib3/connectionpool.py:981: InsecureRequestWarning: Unverified HTTPS request is being made to host 'odfe-node1'. Adding certificate verification is strongly advised. See: https://urllib3.readthedocs.io/en/latest/advanced-usage.html#ssl-warnings\n",
      "  warnings.warn(\n",
      "05/30/2021 13:31:16 - INFO - elasticsearch -   POST https://odfe-node1:9200/_bulk?refresh=wait_for [status:200 request:1.039s]\n",
      "/opt/conda/lib/python3.8/site-packages/urllib3/connectionpool.py:981: InsecureRequestWarning: Unverified HTTPS request is being made to host 'odfe-node1'. Adding certificate verification is strongly advised. See: https://urllib3.readthedocs.io/en/latest/advanced-usage.html#ssl-warnings\n",
      "  warnings.warn(\n",
      "05/30/2021 13:31:17 - INFO - elasticsearch -   POST https://odfe-node1:9200/_bulk?refresh=wait_for [status:200 request:1.048s]\n",
      "/opt/conda/lib/python3.8/site-packages/urllib3/connectionpool.py:981: InsecureRequestWarning: Unverified HTTPS request is being made to host 'odfe-node1'. Adding certificate verification is strongly advised. See: https://urllib3.readthedocs.io/en/latest/advanced-usage.html#ssl-warnings\n",
      "  warnings.warn(\n",
      "05/30/2021 13:31:18 - INFO - elasticsearch -   POST https://odfe-node1:9200/_bulk?refresh=wait_for [status:200 request:1.011s]\n",
      "/opt/conda/lib/python3.8/site-packages/urllib3/connectionpool.py:981: InsecureRequestWarning: Unverified HTTPS request is being made to host 'odfe-node1'. Adding certificate verification is strongly advised. See: https://urllib3.readthedocs.io/en/latest/advanced-usage.html#ssl-warnings\n",
      "  warnings.warn(\n",
      "05/30/2021 13:31:19 - INFO - elasticsearch -   POST https://odfe-node1:9200/_bulk?refresh=wait_for [status:200 request:1.030s]\n",
      "/opt/conda/lib/python3.8/site-packages/urllib3/connectionpool.py:981: InsecureRequestWarning: Unverified HTTPS request is being made to host 'odfe-node1'. Adding certificate verification is strongly advised. See: https://urllib3.readthedocs.io/en/latest/advanced-usage.html#ssl-warnings\n",
      "  warnings.warn(\n",
      "05/30/2021 13:31:20 - INFO - elasticsearch -   POST https://odfe-node1:9200/_bulk?refresh=wait_for [status:200 request:1.017s]\n",
      "/opt/conda/lib/python3.8/site-packages/urllib3/connectionpool.py:981: InsecureRequestWarning: Unverified HTTPS request is being made to host 'odfe-node1'. Adding certificate verification is strongly advised. See: https://urllib3.readthedocs.io/en/latest/advanced-usage.html#ssl-warnings\n",
      "  warnings.warn(\n",
      "05/30/2021 13:31:21 - INFO - elasticsearch -   POST https://odfe-node1:9200/_bulk?refresh=wait_for [status:200 request:1.009s]\n",
      "/opt/conda/lib/python3.8/site-packages/urllib3/connectionpool.py:981: InsecureRequestWarning: Unverified HTTPS request is being made to host 'odfe-node1'. Adding certificate verification is strongly advised. See: https://urllib3.readthedocs.io/en/latest/advanced-usage.html#ssl-warnings\n",
      "  warnings.warn(\n",
      "05/30/2021 13:31:22 - INFO - elasticsearch -   POST https://odfe-node1:9200/_bulk?refresh=wait_for [status:200 request:1.043s]\n",
      "/opt/conda/lib/python3.8/site-packages/urllib3/connectionpool.py:981: InsecureRequestWarning: Unverified HTTPS request is being made to host 'odfe-node1'. Adding certificate verification is strongly advised. See: https://urllib3.readthedocs.io/en/latest/advanced-usage.html#ssl-warnings\n",
      "  warnings.warn(\n",
      "05/30/2021 13:31:23 - INFO - elasticsearch -   POST https://odfe-node1:9200/_bulk?refresh=wait_for [status:200 request:1.029s]\n",
      "/opt/conda/lib/python3.8/site-packages/urllib3/connectionpool.py:981: InsecureRequestWarning: Unverified HTTPS request is being made to host 'odfe-node1'. Adding certificate verification is strongly advised. See: https://urllib3.readthedocs.io/en/latest/advanced-usage.html#ssl-warnings\n",
      "  warnings.warn(\n",
      "05/30/2021 13:31:24 - INFO - elasticsearch -   POST https://odfe-node1:9200/_bulk?refresh=wait_for [status:200 request:1.029s]\n",
      "/opt/conda/lib/python3.8/site-packages/urllib3/connectionpool.py:981: InsecureRequestWarning: Unverified HTTPS request is being made to host 'odfe-node1'. Adding certificate verification is strongly advised. See: https://urllib3.readthedocs.io/en/latest/advanced-usage.html#ssl-warnings\n",
      "  warnings.warn(\n",
      "05/30/2021 13:31:25 - INFO - elasticsearch -   POST https://odfe-node1:9200/_bulk?refresh=wait_for [status:200 request:1.043s]\n",
      "/opt/conda/lib/python3.8/site-packages/urllib3/connectionpool.py:981: InsecureRequestWarning: Unverified HTTPS request is being made to host 'odfe-node1'. Adding certificate verification is strongly advised. See: https://urllib3.readthedocs.io/en/latest/advanced-usage.html#ssl-warnings\n",
      "  warnings.warn(\n",
      "05/30/2021 13:31:26 - INFO - elasticsearch -   POST https://odfe-node1:9200/_bulk?refresh=wait_for [status:200 request:1.041s]\n",
      "/opt/conda/lib/python3.8/site-packages/urllib3/connectionpool.py:981: InsecureRequestWarning: Unverified HTTPS request is being made to host 'odfe-node1'. Adding certificate verification is strongly advised. See: https://urllib3.readthedocs.io/en/latest/advanced-usage.html#ssl-warnings\n",
      "  warnings.warn(\n",
      "05/30/2021 13:31:27 - INFO - elasticsearch -   POST https://odfe-node1:9200/_bulk?refresh=wait_for [status:200 request:1.016s]\n",
      "/opt/conda/lib/python3.8/site-packages/urllib3/connectionpool.py:981: InsecureRequestWarning: Unverified HTTPS request is being made to host 'odfe-node1'. Adding certificate verification is strongly advised. See: https://urllib3.readthedocs.io/en/latest/advanced-usage.html#ssl-warnings\n",
      "  warnings.warn(\n",
      "05/30/2021 13:31:28 - INFO - elasticsearch -   POST https://odfe-node1:9200/_bulk?refresh=wait_for [status:200 request:1.031s]\n",
      "/opt/conda/lib/python3.8/site-packages/urllib3/connectionpool.py:981: InsecureRequestWarning: Unverified HTTPS request is being made to host 'odfe-node1'. Adding certificate verification is strongly advised. See: https://urllib3.readthedocs.io/en/latest/advanced-usage.html#ssl-warnings\n",
      "  warnings.warn(\n"
     ]
    },
    {
     "name": "stderr",
     "output_type": "stream",
     "text": [
      "05/30/2021 13:31:29 - INFO - elasticsearch -   POST https://odfe-node1:9200/_bulk?refresh=wait_for [status:200 request:1.007s]\n",
      "/opt/conda/lib/python3.8/site-packages/urllib3/connectionpool.py:981: InsecureRequestWarning: Unverified HTTPS request is being made to host 'odfe-node1'. Adding certificate verification is strongly advised. See: https://urllib3.readthedocs.io/en/latest/advanced-usage.html#ssl-warnings\n",
      "  warnings.warn(\n",
      "05/30/2021 13:31:30 - INFO - elasticsearch -   POST https://odfe-node1:9200/_bulk?refresh=wait_for [status:200 request:0.838s]\n",
      "/opt/conda/lib/python3.8/site-packages/urllib3/connectionpool.py:981: InsecureRequestWarning: Unverified HTTPS request is being made to host 'odfe-node1'. Adding certificate verification is strongly advised. See: https://urllib3.readthedocs.io/en/latest/advanced-usage.html#ssl-warnings\n",
      "  warnings.warn(\n",
      "05/30/2021 13:31:31 - INFO - elasticsearch -   POST https://odfe-node1:9200/_bulk?refresh=wait_for [status:200 request:1.006s]\n",
      "/opt/conda/lib/python3.8/site-packages/urllib3/connectionpool.py:981: InsecureRequestWarning: Unverified HTTPS request is being made to host 'odfe-node1'. Adding certificate verification is strongly advised. See: https://urllib3.readthedocs.io/en/latest/advanced-usage.html#ssl-warnings\n",
      "  warnings.warn(\n",
      "05/30/2021 13:31:32 - INFO - elasticsearch -   POST https://odfe-node1:9200/_bulk?refresh=wait_for [status:200 request:1.003s]\n",
      "/opt/conda/lib/python3.8/site-packages/urllib3/connectionpool.py:981: InsecureRequestWarning: Unverified HTTPS request is being made to host 'odfe-node1'. Adding certificate verification is strongly advised. See: https://urllib3.readthedocs.io/en/latest/advanced-usage.html#ssl-warnings\n",
      "  warnings.warn(\n",
      "05/30/2021 13:31:33 - INFO - elasticsearch -   POST https://odfe-node1:9200/_bulk?refresh=wait_for [status:200 request:1.019s]\n",
      "/opt/conda/lib/python3.8/site-packages/urllib3/connectionpool.py:981: InsecureRequestWarning: Unverified HTTPS request is being made to host 'odfe-node1'. Adding certificate verification is strongly advised. See: https://urllib3.readthedocs.io/en/latest/advanced-usage.html#ssl-warnings\n",
      "  warnings.warn(\n",
      "05/30/2021 13:31:34 - INFO - elasticsearch -   POST https://odfe-node1:9200/_bulk?refresh=wait_for [status:200 request:1.039s]\n",
      "/opt/conda/lib/python3.8/site-packages/urllib3/connectionpool.py:981: InsecureRequestWarning: Unverified HTTPS request is being made to host 'odfe-node1'. Adding certificate verification is strongly advised. See: https://urllib3.readthedocs.io/en/latest/advanced-usage.html#ssl-warnings\n",
      "  warnings.warn(\n",
      "05/30/2021 13:31:35 - INFO - elasticsearch -   POST https://odfe-node1:9200/_bulk?refresh=wait_for [status:200 request:1.008s]\n",
      "/opt/conda/lib/python3.8/site-packages/urllib3/connectionpool.py:981: InsecureRequestWarning: Unverified HTTPS request is being made to host 'odfe-node1'. Adding certificate verification is strongly advised. See: https://urllib3.readthedocs.io/en/latest/advanced-usage.html#ssl-warnings\n",
      "  warnings.warn(\n",
      "05/30/2021 13:31:36 - INFO - elasticsearch -   POST https://odfe-node1:9200/_bulk?refresh=wait_for [status:200 request:1.034s]\n",
      "/opt/conda/lib/python3.8/site-packages/urllib3/connectionpool.py:981: InsecureRequestWarning: Unverified HTTPS request is being made to host 'odfe-node1'. Adding certificate verification is strongly advised. See: https://urllib3.readthedocs.io/en/latest/advanced-usage.html#ssl-warnings\n",
      "  warnings.warn(\n",
      "05/30/2021 13:31:37 - INFO - elasticsearch -   POST https://odfe-node1:9200/_bulk?refresh=wait_for [status:200 request:1.044s]\n",
      "/opt/conda/lib/python3.8/site-packages/urllib3/connectionpool.py:981: InsecureRequestWarning: Unverified HTTPS request is being made to host 'odfe-node1'. Adding certificate verification is strongly advised. See: https://urllib3.readthedocs.io/en/latest/advanced-usage.html#ssl-warnings\n",
      "  warnings.warn(\n",
      "05/30/2021 13:31:38 - INFO - elasticsearch -   POST https://odfe-node1:9200/_bulk?refresh=wait_for [status:200 request:1.043s]\n",
      "/opt/conda/lib/python3.8/site-packages/urllib3/connectionpool.py:981: InsecureRequestWarning: Unverified HTTPS request is being made to host 'odfe-node1'. Adding certificate verification is strongly advised. See: https://urllib3.readthedocs.io/en/latest/advanced-usage.html#ssl-warnings\n",
      "  warnings.warn(\n",
      "05/30/2021 13:31:39 - INFO - elasticsearch -   POST https://odfe-node1:9200/_bulk?refresh=wait_for [status:200 request:1.042s]\n",
      "/opt/conda/lib/python3.8/site-packages/urllib3/connectionpool.py:981: InsecureRequestWarning: Unverified HTTPS request is being made to host 'odfe-node1'. Adding certificate verification is strongly advised. See: https://urllib3.readthedocs.io/en/latest/advanced-usage.html#ssl-warnings\n",
      "  warnings.warn(\n",
      "05/30/2021 13:31:40 - INFO - elasticsearch -   POST https://odfe-node1:9200/_bulk?refresh=wait_for [status:200 request:1.031s]\n",
      "/opt/conda/lib/python3.8/site-packages/urllib3/connectionpool.py:981: InsecureRequestWarning: Unverified HTTPS request is being made to host 'odfe-node1'. Adding certificate verification is strongly advised. See: https://urllib3.readthedocs.io/en/latest/advanced-usage.html#ssl-warnings\n",
      "  warnings.warn(\n",
      "05/30/2021 13:31:41 - INFO - elasticsearch -   POST https://odfe-node1:9200/_bulk?refresh=wait_for [status:200 request:1.016s]\n",
      "/opt/conda/lib/python3.8/site-packages/urllib3/connectionpool.py:981: InsecureRequestWarning: Unverified HTTPS request is being made to host 'odfe-node1'. Adding certificate verification is strongly advised. See: https://urllib3.readthedocs.io/en/latest/advanced-usage.html#ssl-warnings\n",
      "  warnings.warn(\n",
      "05/30/2021 13:31:43 - INFO - elasticsearch -   POST https://odfe-node1:9200/_bulk?refresh=wait_for [status:200 request:1.026s]\n",
      "/opt/conda/lib/python3.8/site-packages/urllib3/connectionpool.py:981: InsecureRequestWarning: Unverified HTTPS request is being made to host 'odfe-node1'. Adding certificate verification is strongly advised. See: https://urllib3.readthedocs.io/en/latest/advanced-usage.html#ssl-warnings\n",
      "  warnings.warn(\n",
      "05/30/2021 13:31:44 - INFO - elasticsearch -   POST https://odfe-node1:9200/_bulk?refresh=wait_for [status:200 request:1.037s]\n",
      "/opt/conda/lib/python3.8/site-packages/urllib3/connectionpool.py:981: InsecureRequestWarning: Unverified HTTPS request is being made to host 'odfe-node1'. Adding certificate verification is strongly advised. See: https://urllib3.readthedocs.io/en/latest/advanced-usage.html#ssl-warnings\n",
      "  warnings.warn(\n",
      "05/30/2021 13:31:45 - INFO - elasticsearch -   POST https://odfe-node1:9200/_bulk?refresh=wait_for [status:200 request:1.030s]\n",
      "/opt/conda/lib/python3.8/site-packages/urllib3/connectionpool.py:981: InsecureRequestWarning: Unverified HTTPS request is being made to host 'odfe-node1'. Adding certificate verification is strongly advised. See: https://urllib3.readthedocs.io/en/latest/advanced-usage.html#ssl-warnings\n",
      "  warnings.warn(\n",
      "05/30/2021 13:31:46 - INFO - elasticsearch -   POST https://odfe-node1:9200/_bulk?refresh=wait_for [status:200 request:1.025s]\n",
      "/opt/conda/lib/python3.8/site-packages/urllib3/connectionpool.py:981: InsecureRequestWarning: Unverified HTTPS request is being made to host 'odfe-node1'. Adding certificate verification is strongly advised. See: https://urllib3.readthedocs.io/en/latest/advanced-usage.html#ssl-warnings\n",
      "  warnings.warn(\n",
      "05/30/2021 13:31:47 - INFO - elasticsearch -   POST https://odfe-node1:9200/_bulk?refresh=wait_for [status:200 request:1.031s]\n",
      "/opt/conda/lib/python3.8/site-packages/urllib3/connectionpool.py:981: InsecureRequestWarning: Unverified HTTPS request is being made to host 'odfe-node1'. Adding certificate verification is strongly advised. See: https://urllib3.readthedocs.io/en/latest/advanced-usage.html#ssl-warnings\n",
      "  warnings.warn(\n",
      "05/30/2021 13:31:48 - INFO - elasticsearch -   POST https://odfe-node1:9200/_bulk?refresh=wait_for [status:200 request:1.031s]\n",
      "/opt/conda/lib/python3.8/site-packages/urllib3/connectionpool.py:981: InsecureRequestWarning: Unverified HTTPS request is being made to host 'odfe-node1'. Adding certificate verification is strongly advised. See: https://urllib3.readthedocs.io/en/latest/advanced-usage.html#ssl-warnings\n",
      "  warnings.warn(\n",
      "05/30/2021 13:31:49 - INFO - elasticsearch -   POST https://odfe-node1:9200/_bulk?refresh=wait_for [status:200 request:1.009s]\n"
     ]
    },
    {
     "name": "stderr",
     "output_type": "stream",
     "text": [
      "/opt/conda/lib/python3.8/site-packages/urllib3/connectionpool.py:981: InsecureRequestWarning: Unverified HTTPS request is being made to host 'odfe-node1'. Adding certificate verification is strongly advised. See: https://urllib3.readthedocs.io/en/latest/advanced-usage.html#ssl-warnings\n",
      "  warnings.warn(\n",
      "05/30/2021 13:31:50 - INFO - elasticsearch -   POST https://odfe-node1:9200/_bulk?refresh=wait_for [status:200 request:1.007s]\n",
      "/opt/conda/lib/python3.8/site-packages/urllib3/connectionpool.py:981: InsecureRequestWarning: Unverified HTTPS request is being made to host 'odfe-node1'. Adding certificate verification is strongly advised. See: https://urllib3.readthedocs.io/en/latest/advanced-usage.html#ssl-warnings\n",
      "  warnings.warn(\n",
      "05/30/2021 13:31:51 - INFO - elasticsearch -   POST https://odfe-node1:9200/_bulk?refresh=wait_for [status:200 request:0.841s]\n",
      "/opt/conda/lib/python3.8/site-packages/urllib3/connectionpool.py:981: InsecureRequestWarning: Unverified HTTPS request is being made to host 'odfe-node1'. Adding certificate verification is strongly advised. See: https://urllib3.readthedocs.io/en/latest/advanced-usage.html#ssl-warnings\n",
      "  warnings.warn(\n",
      "05/30/2021 13:31:52 - INFO - elasticsearch -   POST https://odfe-node1:9200/_bulk?refresh=wait_for [status:200 request:1.007s]\n",
      "/opt/conda/lib/python3.8/site-packages/urllib3/connectionpool.py:981: InsecureRequestWarning: Unverified HTTPS request is being made to host 'odfe-node1'. Adding certificate verification is strongly advised. See: https://urllib3.readthedocs.io/en/latest/advanced-usage.html#ssl-warnings\n",
      "  warnings.warn(\n",
      "05/30/2021 13:31:53 - INFO - elasticsearch -   POST https://odfe-node1:9200/_bulk?refresh=wait_for [status:200 request:1.040s]\n",
      "/opt/conda/lib/python3.8/site-packages/urllib3/connectionpool.py:981: InsecureRequestWarning: Unverified HTTPS request is being made to host 'odfe-node1'. Adding certificate verification is strongly advised. See: https://urllib3.readthedocs.io/en/latest/advanced-usage.html#ssl-warnings\n",
      "  warnings.warn(\n",
      "05/30/2021 13:31:54 - INFO - elasticsearch -   POST https://odfe-node1:9200/_bulk?refresh=wait_for [status:200 request:1.040s]\n",
      "/opt/conda/lib/python3.8/site-packages/urllib3/connectionpool.py:981: InsecureRequestWarning: Unverified HTTPS request is being made to host 'odfe-node1'. Adding certificate verification is strongly advised. See: https://urllib3.readthedocs.io/en/latest/advanced-usage.html#ssl-warnings\n",
      "  warnings.warn(\n",
      "05/30/2021 13:31:55 - INFO - elasticsearch -   POST https://odfe-node1:9200/_bulk?refresh=wait_for [status:200 request:1.006s]\n",
      "/opt/conda/lib/python3.8/site-packages/urllib3/connectionpool.py:981: InsecureRequestWarning: Unverified HTTPS request is being made to host 'odfe-node1'. Adding certificate verification is strongly advised. See: https://urllib3.readthedocs.io/en/latest/advanced-usage.html#ssl-warnings\n",
      "  warnings.warn(\n",
      "05/30/2021 13:31:56 - INFO - elasticsearch -   POST https://odfe-node1:9200/_bulk?refresh=wait_for [status:200 request:1.043s]\n",
      "/opt/conda/lib/python3.8/site-packages/urllib3/connectionpool.py:981: InsecureRequestWarning: Unverified HTTPS request is being made to host 'odfe-node1'. Adding certificate verification is strongly advised. See: https://urllib3.readthedocs.io/en/latest/advanced-usage.html#ssl-warnings\n",
      "  warnings.warn(\n",
      "05/30/2021 13:31:57 - INFO - elasticsearch -   POST https://odfe-node1:9200/_bulk?refresh=wait_for [status:200 request:1.041s]\n",
      "/opt/conda/lib/python3.8/site-packages/urllib3/connectionpool.py:981: InsecureRequestWarning: Unverified HTTPS request is being made to host 'odfe-node1'. Adding certificate verification is strongly advised. See: https://urllib3.readthedocs.io/en/latest/advanced-usage.html#ssl-warnings\n",
      "  warnings.warn(\n",
      "05/30/2021 13:31:58 - INFO - elasticsearch -   POST https://odfe-node1:9200/_bulk?refresh=wait_for [status:200 request:1.035s]\n",
      "/opt/conda/lib/python3.8/site-packages/urllib3/connectionpool.py:981: InsecureRequestWarning: Unverified HTTPS request is being made to host 'odfe-node1'. Adding certificate verification is strongly advised. See: https://urllib3.readthedocs.io/en/latest/advanced-usage.html#ssl-warnings\n",
      "  warnings.warn(\n",
      "05/30/2021 13:31:59 - INFO - elasticsearch -   POST https://odfe-node1:9200/_bulk?refresh=wait_for [status:200 request:1.028s]\n",
      "/opt/conda/lib/python3.8/site-packages/urllib3/connectionpool.py:981: InsecureRequestWarning: Unverified HTTPS request is being made to host 'odfe-node1'. Adding certificate verification is strongly advised. See: https://urllib3.readthedocs.io/en/latest/advanced-usage.html#ssl-warnings\n",
      "  warnings.warn(\n",
      "05/30/2021 13:32:00 - INFO - elasticsearch -   POST https://odfe-node1:9200/_bulk?refresh=wait_for [status:200 request:1.021s]\n",
      "/opt/conda/lib/python3.8/site-packages/urllib3/connectionpool.py:981: InsecureRequestWarning: Unverified HTTPS request is being made to host 'odfe-node1'. Adding certificate verification is strongly advised. See: https://urllib3.readthedocs.io/en/latest/advanced-usage.html#ssl-warnings\n",
      "  warnings.warn(\n",
      "05/30/2021 13:32:01 - INFO - elasticsearch -   POST https://odfe-node1:9200/_bulk?refresh=wait_for [status:200 request:1.039s]\n",
      "/opt/conda/lib/python3.8/site-packages/urllib3/connectionpool.py:981: InsecureRequestWarning: Unverified HTTPS request is being made to host 'odfe-node1'. Adding certificate verification is strongly advised. See: https://urllib3.readthedocs.io/en/latest/advanced-usage.html#ssl-warnings\n",
      "  warnings.warn(\n",
      "05/30/2021 13:32:02 - INFO - elasticsearch -   POST https://odfe-node1:9200/_bulk?refresh=wait_for [status:200 request:1.028s]\n",
      "/opt/conda/lib/python3.8/site-packages/urllib3/connectionpool.py:981: InsecureRequestWarning: Unverified HTTPS request is being made to host 'odfe-node1'. Adding certificate verification is strongly advised. See: https://urllib3.readthedocs.io/en/latest/advanced-usage.html#ssl-warnings\n",
      "  warnings.warn(\n",
      "05/30/2021 13:32:03 - INFO - elasticsearch -   POST https://odfe-node1:9200/_bulk?refresh=wait_for [status:200 request:1.041s]\n",
      "/opt/conda/lib/python3.8/site-packages/urllib3/connectionpool.py:981: InsecureRequestWarning: Unverified HTTPS request is being made to host 'odfe-node1'. Adding certificate verification is strongly advised. See: https://urllib3.readthedocs.io/en/latest/advanced-usage.html#ssl-warnings\n",
      "  warnings.warn(\n",
      "05/30/2021 13:32:04 - INFO - elasticsearch -   POST https://odfe-node1:9200/_bulk?refresh=wait_for [status:200 request:1.036s]\n",
      "/opt/conda/lib/python3.8/site-packages/urllib3/connectionpool.py:981: InsecureRequestWarning: Unverified HTTPS request is being made to host 'odfe-node1'. Adding certificate verification is strongly advised. See: https://urllib3.readthedocs.io/en/latest/advanced-usage.html#ssl-warnings\n",
      "  warnings.warn(\n",
      "05/30/2021 13:32:05 - INFO - elasticsearch -   POST https://odfe-node1:9200/_bulk?refresh=wait_for [status:200 request:1.040s]\n",
      "/opt/conda/lib/python3.8/site-packages/urllib3/connectionpool.py:981: InsecureRequestWarning: Unverified HTTPS request is being made to host 'odfe-node1'. Adding certificate verification is strongly advised. See: https://urllib3.readthedocs.io/en/latest/advanced-usage.html#ssl-warnings\n",
      "  warnings.warn(\n",
      "05/30/2021 13:32:06 - INFO - elasticsearch -   POST https://odfe-node1:9200/_bulk?refresh=wait_for [status:200 request:1.039s]\n",
      "/opt/conda/lib/python3.8/site-packages/urllib3/connectionpool.py:981: InsecureRequestWarning: Unverified HTTPS request is being made to host 'odfe-node1'. Adding certificate verification is strongly advised. See: https://urllib3.readthedocs.io/en/latest/advanced-usage.html#ssl-warnings\n",
      "  warnings.warn(\n",
      "05/30/2021 13:32:08 - INFO - elasticsearch -   POST https://odfe-node1:9200/_bulk?refresh=wait_for [status:200 request:1.045s]\n",
      "/opt/conda/lib/python3.8/site-packages/urllib3/connectionpool.py:981: InsecureRequestWarning: Unverified HTTPS request is being made to host 'odfe-node1'. Adding certificate verification is strongly advised. See: https://urllib3.readthedocs.io/en/latest/advanced-usage.html#ssl-warnings\n",
      "  warnings.warn(\n",
      "05/30/2021 13:32:09 - INFO - elasticsearch -   POST https://odfe-node1:9200/_bulk?refresh=wait_for [status:200 request:1.031s]\n",
      "/opt/conda/lib/python3.8/site-packages/urllib3/connectionpool.py:981: InsecureRequestWarning: Unverified HTTPS request is being made to host 'odfe-node1'. Adding certificate verification is strongly advised. See: https://urllib3.readthedocs.io/en/latest/advanced-usage.html#ssl-warnings\n",
      "  warnings.warn(\n"
     ]
    },
    {
     "name": "stderr",
     "output_type": "stream",
     "text": [
      "05/30/2021 13:32:10 - INFO - elasticsearch -   POST https://odfe-node1:9200/_bulk?refresh=wait_for [status:200 request:1.033s]\n",
      "/opt/conda/lib/python3.8/site-packages/urllib3/connectionpool.py:981: InsecureRequestWarning: Unverified HTTPS request is being made to host 'odfe-node1'. Adding certificate verification is strongly advised. See: https://urllib3.readthedocs.io/en/latest/advanced-usage.html#ssl-warnings\n",
      "  warnings.warn(\n",
      "05/30/2021 13:32:11 - INFO - elasticsearch -   POST https://odfe-node1:9200/_bulk?refresh=wait_for [status:200 request:1.032s]\n",
      "/opt/conda/lib/python3.8/site-packages/urllib3/connectionpool.py:981: InsecureRequestWarning: Unverified HTTPS request is being made to host 'odfe-node1'. Adding certificate verification is strongly advised. See: https://urllib3.readthedocs.io/en/latest/advanced-usage.html#ssl-warnings\n",
      "  warnings.warn(\n",
      "05/30/2021 13:32:12 - INFO - elasticsearch -   POST https://odfe-node1:9200/_bulk?refresh=wait_for [status:200 request:0.897s]\n",
      "/opt/conda/lib/python3.8/site-packages/urllib3/connectionpool.py:981: InsecureRequestWarning: Unverified HTTPS request is being made to host 'odfe-node1'. Adding certificate verification is strongly advised. See: https://urllib3.readthedocs.io/en/latest/advanced-usage.html#ssl-warnings\n",
      "  warnings.warn(\n",
      "05/30/2021 13:32:13 - INFO - elasticsearch -   POST https://odfe-node1:9200/_bulk?refresh=wait_for [status:200 request:1.036s]\n",
      "/opt/conda/lib/python3.8/site-packages/urllib3/connectionpool.py:981: InsecureRequestWarning: Unverified HTTPS request is being made to host 'odfe-node1'. Adding certificate verification is strongly advised. See: https://urllib3.readthedocs.io/en/latest/advanced-usage.html#ssl-warnings\n",
      "  warnings.warn(\n",
      "05/30/2021 13:32:14 - INFO - elasticsearch -   POST https://odfe-node1:9200/_bulk?refresh=wait_for [status:200 request:1.028s]\n",
      "/opt/conda/lib/python3.8/site-packages/urllib3/connectionpool.py:981: InsecureRequestWarning: Unverified HTTPS request is being made to host 'odfe-node1'. Adding certificate verification is strongly advised. See: https://urllib3.readthedocs.io/en/latest/advanced-usage.html#ssl-warnings\n",
      "  warnings.warn(\n",
      "05/30/2021 13:32:15 - INFO - elasticsearch -   POST https://odfe-node1:9200/_bulk?refresh=wait_for [status:200 request:1.004s]\n",
      "/opt/conda/lib/python3.8/site-packages/urllib3/connectionpool.py:981: InsecureRequestWarning: Unverified HTTPS request is being made to host 'odfe-node1'. Adding certificate verification is strongly advised. See: https://urllib3.readthedocs.io/en/latest/advanced-usage.html#ssl-warnings\n",
      "  warnings.warn(\n",
      "05/30/2021 13:32:16 - INFO - elasticsearch -   POST https://odfe-node1:9200/_bulk?refresh=wait_for [status:200 request:1.017s]\n",
      "/opt/conda/lib/python3.8/site-packages/urllib3/connectionpool.py:981: InsecureRequestWarning: Unverified HTTPS request is being made to host 'odfe-node1'. Adding certificate verification is strongly advised. See: https://urllib3.readthedocs.io/en/latest/advanced-usage.html#ssl-warnings\n",
      "  warnings.warn(\n",
      "05/30/2021 13:32:17 - INFO - elasticsearch -   POST https://odfe-node1:9200/_bulk?refresh=wait_for [status:200 request:1.008s]\n",
      "/opt/conda/lib/python3.8/site-packages/urllib3/connectionpool.py:981: InsecureRequestWarning: Unverified HTTPS request is being made to host 'odfe-node1'. Adding certificate verification is strongly advised. See: https://urllib3.readthedocs.io/en/latest/advanced-usage.html#ssl-warnings\n",
      "  warnings.warn(\n",
      "05/30/2021 13:32:18 - INFO - elasticsearch -   POST https://odfe-node1:9200/_bulk?refresh=wait_for [status:200 request:1.028s]\n",
      "/opt/conda/lib/python3.8/site-packages/urllib3/connectionpool.py:981: InsecureRequestWarning: Unverified HTTPS request is being made to host 'odfe-node1'. Adding certificate verification is strongly advised. See: https://urllib3.readthedocs.io/en/latest/advanced-usage.html#ssl-warnings\n",
      "  warnings.warn(\n",
      "05/30/2021 13:32:19 - INFO - elasticsearch -   POST https://odfe-node1:9200/_bulk?refresh=wait_for [status:200 request:1.007s]\n",
      "/opt/conda/lib/python3.8/site-packages/urllib3/connectionpool.py:981: InsecureRequestWarning: Unverified HTTPS request is being made to host 'odfe-node1'. Adding certificate verification is strongly advised. See: https://urllib3.readthedocs.io/en/latest/advanced-usage.html#ssl-warnings\n",
      "  warnings.warn(\n",
      "05/30/2021 13:32:20 - INFO - elasticsearch -   POST https://odfe-node1:9200/_bulk?refresh=wait_for [status:200 request:1.010s]\n",
      "/opt/conda/lib/python3.8/site-packages/urllib3/connectionpool.py:981: InsecureRequestWarning: Unverified HTTPS request is being made to host 'odfe-node1'. Adding certificate verification is strongly advised. See: https://urllib3.readthedocs.io/en/latest/advanced-usage.html#ssl-warnings\n",
      "  warnings.warn(\n",
      "05/30/2021 13:32:21 - INFO - elasticsearch -   POST https://odfe-node1:9200/_bulk?refresh=wait_for [status:200 request:1.007s]\n",
      "/opt/conda/lib/python3.8/site-packages/urllib3/connectionpool.py:981: InsecureRequestWarning: Unverified HTTPS request is being made to host 'odfe-node1'. Adding certificate verification is strongly advised. See: https://urllib3.readthedocs.io/en/latest/advanced-usage.html#ssl-warnings\n",
      "  warnings.warn(\n",
      "05/30/2021 13:32:22 - INFO - elasticsearch -   POST https://odfe-node1:9200/_bulk?refresh=wait_for [status:200 request:1.034s]\n",
      "/opt/conda/lib/python3.8/site-packages/urllib3/connectionpool.py:981: InsecureRequestWarning: Unverified HTTPS request is being made to host 'odfe-node1'. Adding certificate verification is strongly advised. See: https://urllib3.readthedocs.io/en/latest/advanced-usage.html#ssl-warnings\n",
      "  warnings.warn(\n",
      "05/30/2021 13:32:23 - INFO - elasticsearch -   POST https://odfe-node1:9200/_bulk?refresh=wait_for [status:200 request:1.014s]\n",
      "/opt/conda/lib/python3.8/site-packages/urllib3/connectionpool.py:981: InsecureRequestWarning: Unverified HTTPS request is being made to host 'odfe-node1'. Adding certificate verification is strongly advised. See: https://urllib3.readthedocs.io/en/latest/advanced-usage.html#ssl-warnings\n",
      "  warnings.warn(\n",
      "05/30/2021 13:32:24 - INFO - elasticsearch -   POST https://odfe-node1:9200/_bulk?refresh=wait_for [status:200 request:1.031s]\n",
      "/opt/conda/lib/python3.8/site-packages/urllib3/connectionpool.py:981: InsecureRequestWarning: Unverified HTTPS request is being made to host 'odfe-node1'. Adding certificate verification is strongly advised. See: https://urllib3.readthedocs.io/en/latest/advanced-usage.html#ssl-warnings\n",
      "  warnings.warn(\n",
      "05/30/2021 13:32:25 - INFO - elasticsearch -   POST https://odfe-node1:9200/_bulk?refresh=wait_for [status:200 request:1.038s]\n",
      "/opt/conda/lib/python3.8/site-packages/urllib3/connectionpool.py:981: InsecureRequestWarning: Unverified HTTPS request is being made to host 'odfe-node1'. Adding certificate verification is strongly advised. See: https://urllib3.readthedocs.io/en/latest/advanced-usage.html#ssl-warnings\n",
      "  warnings.warn(\n",
      "05/30/2021 13:32:26 - INFO - elasticsearch -   POST https://odfe-node1:9200/_bulk?refresh=wait_for [status:200 request:1.040s]\n",
      "/opt/conda/lib/python3.8/site-packages/urllib3/connectionpool.py:981: InsecureRequestWarning: Unverified HTTPS request is being made to host 'odfe-node1'. Adding certificate verification is strongly advised. See: https://urllib3.readthedocs.io/en/latest/advanced-usage.html#ssl-warnings\n",
      "  warnings.warn(\n",
      "05/30/2021 13:32:27 - INFO - elasticsearch -   POST https://odfe-node1:9200/_bulk?refresh=wait_for [status:200 request:1.029s]\n",
      "/opt/conda/lib/python3.8/site-packages/urllib3/connectionpool.py:981: InsecureRequestWarning: Unverified HTTPS request is being made to host 'odfe-node1'. Adding certificate verification is strongly advised. See: https://urllib3.readthedocs.io/en/latest/advanced-usage.html#ssl-warnings\n",
      "  warnings.warn(\n",
      "05/30/2021 13:32:28 - INFO - elasticsearch -   POST https://odfe-node1:9200/_bulk?refresh=wait_for [status:200 request:1.036s]\n",
      "/opt/conda/lib/python3.8/site-packages/urllib3/connectionpool.py:981: InsecureRequestWarning: Unverified HTTPS request is being made to host 'odfe-node1'. Adding certificate verification is strongly advised. See: https://urllib3.readthedocs.io/en/latest/advanced-usage.html#ssl-warnings\n",
      "  warnings.warn(\n",
      "05/30/2021 13:32:29 - INFO - elasticsearch -   POST https://odfe-node1:9200/_bulk?refresh=wait_for [status:200 request:1.033s]\n"
     ]
    },
    {
     "name": "stderr",
     "output_type": "stream",
     "text": [
      "/opt/conda/lib/python3.8/site-packages/urllib3/connectionpool.py:981: InsecureRequestWarning: Unverified HTTPS request is being made to host 'odfe-node1'. Adding certificate verification is strongly advised. See: https://urllib3.readthedocs.io/en/latest/advanced-usage.html#ssl-warnings\n",
      "  warnings.warn(\n",
      "05/30/2021 13:32:30 - INFO - elasticsearch -   POST https://odfe-node1:9200/_bulk?refresh=wait_for [status:200 request:1.017s]\n",
      "/opt/conda/lib/python3.8/site-packages/urllib3/connectionpool.py:981: InsecureRequestWarning: Unverified HTTPS request is being made to host 'odfe-node1'. Adding certificate verification is strongly advised. See: https://urllib3.readthedocs.io/en/latest/advanced-usage.html#ssl-warnings\n",
      "  warnings.warn(\n",
      "05/30/2021 13:32:31 - INFO - elasticsearch -   POST https://odfe-node1:9200/_bulk?refresh=wait_for [status:200 request:1.024s]\n",
      "/opt/conda/lib/python3.8/site-packages/urllib3/connectionpool.py:981: InsecureRequestWarning: Unverified HTTPS request is being made to host 'odfe-node1'. Adding certificate verification is strongly advised. See: https://urllib3.readthedocs.io/en/latest/advanced-usage.html#ssl-warnings\n",
      "  warnings.warn(\n",
      "05/30/2021 13:32:32 - INFO - elasticsearch -   POST https://odfe-node1:9200/_bulk?refresh=wait_for [status:200 request:0.915s]\n",
      "/opt/conda/lib/python3.8/site-packages/urllib3/connectionpool.py:981: InsecureRequestWarning: Unverified HTTPS request is being made to host 'odfe-node1'. Adding certificate verification is strongly advised. See: https://urllib3.readthedocs.io/en/latest/advanced-usage.html#ssl-warnings\n",
      "  warnings.warn(\n",
      "05/30/2021 13:32:33 - INFO - elasticsearch -   POST https://odfe-node1:9200/_bulk?refresh=wait_for [status:200 request:1.040s]\n",
      "/opt/conda/lib/python3.8/site-packages/urllib3/connectionpool.py:981: InsecureRequestWarning: Unverified HTTPS request is being made to host 'odfe-node1'. Adding certificate verification is strongly advised. See: https://urllib3.readthedocs.io/en/latest/advanced-usage.html#ssl-warnings\n",
      "  warnings.warn(\n",
      "05/30/2021 13:32:34 - INFO - elasticsearch -   POST https://odfe-node1:9200/_bulk?refresh=wait_for [status:200 request:1.040s]\n",
      "/opt/conda/lib/python3.8/site-packages/urllib3/connectionpool.py:981: InsecureRequestWarning: Unverified HTTPS request is being made to host 'odfe-node1'. Adding certificate verification is strongly advised. See: https://urllib3.readthedocs.io/en/latest/advanced-usage.html#ssl-warnings\n",
      "  warnings.warn(\n",
      "05/30/2021 13:32:36 - INFO - elasticsearch -   POST https://odfe-node1:9200/_bulk?refresh=wait_for [status:200 request:1.019s]\n",
      "/opt/conda/lib/python3.8/site-packages/urllib3/connectionpool.py:981: InsecureRequestWarning: Unverified HTTPS request is being made to host 'odfe-node1'. Adding certificate verification is strongly advised. See: https://urllib3.readthedocs.io/en/latest/advanced-usage.html#ssl-warnings\n",
      "  warnings.warn(\n",
      "05/30/2021 13:32:37 - INFO - elasticsearch -   POST https://odfe-node1:9200/_bulk?refresh=wait_for [status:200 request:1.029s]\n",
      "/opt/conda/lib/python3.8/site-packages/urllib3/connectionpool.py:981: InsecureRequestWarning: Unverified HTTPS request is being made to host 'odfe-node1'. Adding certificate verification is strongly advised. See: https://urllib3.readthedocs.io/en/latest/advanced-usage.html#ssl-warnings\n",
      "  warnings.warn(\n",
      "05/30/2021 13:32:38 - INFO - elasticsearch -   POST https://odfe-node1:9200/_bulk?refresh=wait_for [status:200 request:1.040s]\n",
      "/opt/conda/lib/python3.8/site-packages/urllib3/connectionpool.py:981: InsecureRequestWarning: Unverified HTTPS request is being made to host 'odfe-node1'. Adding certificate verification is strongly advised. See: https://urllib3.readthedocs.io/en/latest/advanced-usage.html#ssl-warnings\n",
      "  warnings.warn(\n",
      "05/30/2021 13:32:39 - INFO - elasticsearch -   POST https://odfe-node1:9200/_bulk?refresh=wait_for [status:200 request:1.038s]\n",
      "/opt/conda/lib/python3.8/site-packages/urllib3/connectionpool.py:981: InsecureRequestWarning: Unverified HTTPS request is being made to host 'odfe-node1'. Adding certificate verification is strongly advised. See: https://urllib3.readthedocs.io/en/latest/advanced-usage.html#ssl-warnings\n",
      "  warnings.warn(\n",
      "05/30/2021 13:32:40 - INFO - elasticsearch -   POST https://odfe-node1:9200/_bulk?refresh=wait_for [status:200 request:1.029s]\n",
      "/opt/conda/lib/python3.8/site-packages/urllib3/connectionpool.py:981: InsecureRequestWarning: Unverified HTTPS request is being made to host 'odfe-node1'. Adding certificate verification is strongly advised. See: https://urllib3.readthedocs.io/en/latest/advanced-usage.html#ssl-warnings\n",
      "  warnings.warn(\n",
      "05/30/2021 13:32:41 - INFO - elasticsearch -   POST https://odfe-node1:9200/_bulk?refresh=wait_for [status:200 request:1.033s]\n",
      "/opt/conda/lib/python3.8/site-packages/urllib3/connectionpool.py:981: InsecureRequestWarning: Unverified HTTPS request is being made to host 'odfe-node1'. Adding certificate verification is strongly advised. See: https://urllib3.readthedocs.io/en/latest/advanced-usage.html#ssl-warnings\n",
      "  warnings.warn(\n",
      "05/30/2021 13:32:42 - INFO - elasticsearch -   POST https://odfe-node1:9200/_bulk?refresh=wait_for [status:200 request:1.004s]\n",
      "/opt/conda/lib/python3.8/site-packages/urllib3/connectionpool.py:981: InsecureRequestWarning: Unverified HTTPS request is being made to host 'odfe-node1'. Adding certificate verification is strongly advised. See: https://urllib3.readthedocs.io/en/latest/advanced-usage.html#ssl-warnings\n",
      "  warnings.warn(\n",
      "05/30/2021 13:32:43 - INFO - elasticsearch -   POST https://odfe-node1:9200/_bulk?refresh=wait_for [status:200 request:1.005s]\n",
      "/opt/conda/lib/python3.8/site-packages/urllib3/connectionpool.py:981: InsecureRequestWarning: Unverified HTTPS request is being made to host 'odfe-node1'. Adding certificate verification is strongly advised. See: https://urllib3.readthedocs.io/en/latest/advanced-usage.html#ssl-warnings\n",
      "  warnings.warn(\n",
      "05/30/2021 13:32:44 - INFO - elasticsearch -   POST https://odfe-node1:9200/_bulk?refresh=wait_for [status:200 request:1.004s]\n",
      "/opt/conda/lib/python3.8/site-packages/urllib3/connectionpool.py:981: InsecureRequestWarning: Unverified HTTPS request is being made to host 'odfe-node1'. Adding certificate verification is strongly advised. See: https://urllib3.readthedocs.io/en/latest/advanced-usage.html#ssl-warnings\n",
      "  warnings.warn(\n",
      "05/30/2021 13:32:45 - INFO - elasticsearch -   POST https://odfe-node1:9200/_bulk?refresh=wait_for [status:200 request:1.037s]\n",
      "/opt/conda/lib/python3.8/site-packages/urllib3/connectionpool.py:981: InsecureRequestWarning: Unverified HTTPS request is being made to host 'odfe-node1'. Adding certificate verification is strongly advised. See: https://urllib3.readthedocs.io/en/latest/advanced-usage.html#ssl-warnings\n",
      "  warnings.warn(\n",
      "05/30/2021 13:32:46 - INFO - elasticsearch -   POST https://odfe-node1:9200/_bulk?refresh=wait_for [status:200 request:1.033s]\n",
      "/opt/conda/lib/python3.8/site-packages/urllib3/connectionpool.py:981: InsecureRequestWarning: Unverified HTTPS request is being made to host 'odfe-node1'. Adding certificate verification is strongly advised. See: https://urllib3.readthedocs.io/en/latest/advanced-usage.html#ssl-warnings\n",
      "  warnings.warn(\n",
      "05/30/2021 13:32:47 - INFO - elasticsearch -   POST https://odfe-node1:9200/_bulk?refresh=wait_for [status:200 request:1.038s]\n",
      "/opt/conda/lib/python3.8/site-packages/urllib3/connectionpool.py:981: InsecureRequestWarning: Unverified HTTPS request is being made to host 'odfe-node1'. Adding certificate verification is strongly advised. See: https://urllib3.readthedocs.io/en/latest/advanced-usage.html#ssl-warnings\n",
      "  warnings.warn(\n",
      "05/30/2021 13:32:48 - INFO - elasticsearch -   POST https://odfe-node1:9200/_bulk?refresh=wait_for [status:200 request:1.028s]\n",
      "/opt/conda/lib/python3.8/site-packages/urllib3/connectionpool.py:981: InsecureRequestWarning: Unverified HTTPS request is being made to host 'odfe-node1'. Adding certificate verification is strongly advised. See: https://urllib3.readthedocs.io/en/latest/advanced-usage.html#ssl-warnings\n",
      "  warnings.warn(\n",
      "05/30/2021 13:32:49 - INFO - elasticsearch -   POST https://odfe-node1:9200/_bulk?refresh=wait_for [status:200 request:1.003s]\n",
      "/opt/conda/lib/python3.8/site-packages/urllib3/connectionpool.py:981: InsecureRequestWarning: Unverified HTTPS request is being made to host 'odfe-node1'. Adding certificate verification is strongly advised. See: https://urllib3.readthedocs.io/en/latest/advanced-usage.html#ssl-warnings\n",
      "  warnings.warn(\n"
     ]
    },
    {
     "name": "stderr",
     "output_type": "stream",
     "text": [
      "05/30/2021 13:32:50 - INFO - elasticsearch -   POST https://odfe-node1:9200/_bulk?refresh=wait_for [status:200 request:1.010s]\n",
      "/opt/conda/lib/python3.8/site-packages/urllib3/connectionpool.py:981: InsecureRequestWarning: Unverified HTTPS request is being made to host 'odfe-node1'. Adding certificate verification is strongly advised. See: https://urllib3.readthedocs.io/en/latest/advanced-usage.html#ssl-warnings\n",
      "  warnings.warn(\n",
      "05/30/2021 13:32:51 - INFO - elasticsearch -   POST https://odfe-node1:9200/_bulk?refresh=wait_for [status:200 request:1.008s]\n",
      "/opt/conda/lib/python3.8/site-packages/urllib3/connectionpool.py:981: InsecureRequestWarning: Unverified HTTPS request is being made to host 'odfe-node1'. Adding certificate verification is strongly advised. See: https://urllib3.readthedocs.io/en/latest/advanced-usage.html#ssl-warnings\n",
      "  warnings.warn(\n",
      "05/30/2021 13:32:52 - INFO - elasticsearch -   POST https://odfe-node1:9200/_bulk?refresh=wait_for [status:200 request:1.028s]\n",
      "/opt/conda/lib/python3.8/site-packages/urllib3/connectionpool.py:981: InsecureRequestWarning: Unverified HTTPS request is being made to host 'odfe-node1'. Adding certificate verification is strongly advised. See: https://urllib3.readthedocs.io/en/latest/advanced-usage.html#ssl-warnings\n",
      "  warnings.warn(\n",
      "05/30/2021 13:32:53 - INFO - elasticsearch -   POST https://odfe-node1:9200/_bulk?refresh=wait_for [status:200 request:0.907s]\n",
      "/opt/conda/lib/python3.8/site-packages/urllib3/connectionpool.py:981: InsecureRequestWarning: Unverified HTTPS request is being made to host 'odfe-node1'. Adding certificate verification is strongly advised. See: https://urllib3.readthedocs.io/en/latest/advanced-usage.html#ssl-warnings\n",
      "  warnings.warn(\n",
      "05/30/2021 13:32:54 - INFO - elasticsearch -   POST https://odfe-node1:9200/_bulk?refresh=wait_for [status:200 request:1.007s]\n",
      "/opt/conda/lib/python3.8/site-packages/urllib3/connectionpool.py:981: InsecureRequestWarning: Unverified HTTPS request is being made to host 'odfe-node1'. Adding certificate verification is strongly advised. See: https://urllib3.readthedocs.io/en/latest/advanced-usage.html#ssl-warnings\n",
      "  warnings.warn(\n",
      "05/30/2021 13:32:55 - INFO - elasticsearch -   POST https://odfe-node1:9200/_bulk?refresh=wait_for [status:200 request:1.008s]\n",
      "/opt/conda/lib/python3.8/site-packages/urllib3/connectionpool.py:981: InsecureRequestWarning: Unverified HTTPS request is being made to host 'odfe-node1'. Adding certificate verification is strongly advised. See: https://urllib3.readthedocs.io/en/latest/advanced-usage.html#ssl-warnings\n",
      "  warnings.warn(\n",
      "05/30/2021 13:32:56 - INFO - elasticsearch -   POST https://odfe-node1:9200/_bulk?refresh=wait_for [status:200 request:1.005s]\n",
      "/opt/conda/lib/python3.8/site-packages/urllib3/connectionpool.py:981: InsecureRequestWarning: Unverified HTTPS request is being made to host 'odfe-node1'. Adding certificate verification is strongly advised. See: https://urllib3.readthedocs.io/en/latest/advanced-usage.html#ssl-warnings\n",
      "  warnings.warn(\n",
      "05/30/2021 13:32:57 - INFO - elasticsearch -   POST https://odfe-node1:9200/_bulk?refresh=wait_for [status:200 request:1.028s]\n",
      "/opt/conda/lib/python3.8/site-packages/urllib3/connectionpool.py:981: InsecureRequestWarning: Unverified HTTPS request is being made to host 'odfe-node1'. Adding certificate verification is strongly advised. See: https://urllib3.readthedocs.io/en/latest/advanced-usage.html#ssl-warnings\n",
      "  warnings.warn(\n",
      "05/30/2021 13:32:58 - INFO - elasticsearch -   POST https://odfe-node1:9200/_bulk?refresh=wait_for [status:200 request:1.026s]\n",
      "/opt/conda/lib/python3.8/site-packages/urllib3/connectionpool.py:981: InsecureRequestWarning: Unverified HTTPS request is being made to host 'odfe-node1'. Adding certificate verification is strongly advised. See: https://urllib3.readthedocs.io/en/latest/advanced-usage.html#ssl-warnings\n",
      "  warnings.warn(\n",
      "05/30/2021 13:32:59 - INFO - elasticsearch -   POST https://odfe-node1:9200/_bulk?refresh=wait_for [status:200 request:1.034s]\n",
      "/opt/conda/lib/python3.8/site-packages/urllib3/connectionpool.py:981: InsecureRequestWarning: Unverified HTTPS request is being made to host 'odfe-node1'. Adding certificate verification is strongly advised. See: https://urllib3.readthedocs.io/en/latest/advanced-usage.html#ssl-warnings\n",
      "  warnings.warn(\n",
      "05/30/2021 13:33:00 - INFO - elasticsearch -   POST https://odfe-node1:9200/_bulk?refresh=wait_for [status:200 request:1.021s]\n",
      "/opt/conda/lib/python3.8/site-packages/urllib3/connectionpool.py:981: InsecureRequestWarning: Unverified HTTPS request is being made to host 'odfe-node1'. Adding certificate verification is strongly advised. See: https://urllib3.readthedocs.io/en/latest/advanced-usage.html#ssl-warnings\n",
      "  warnings.warn(\n",
      "05/30/2021 13:33:01 - INFO - elasticsearch -   POST https://odfe-node1:9200/_bulk?refresh=wait_for [status:200 request:1.033s]\n",
      "/opt/conda/lib/python3.8/site-packages/urllib3/connectionpool.py:981: InsecureRequestWarning: Unverified HTTPS request is being made to host 'odfe-node1'. Adding certificate verification is strongly advised. See: https://urllib3.readthedocs.io/en/latest/advanced-usage.html#ssl-warnings\n",
      "  warnings.warn(\n",
      "05/30/2021 13:33:02 - INFO - elasticsearch -   POST https://odfe-node1:9200/_bulk?refresh=wait_for [status:200 request:1.014s]\n",
      "/opt/conda/lib/python3.8/site-packages/urllib3/connectionpool.py:981: InsecureRequestWarning: Unverified HTTPS request is being made to host 'odfe-node1'. Adding certificate verification is strongly advised. See: https://urllib3.readthedocs.io/en/latest/advanced-usage.html#ssl-warnings\n",
      "  warnings.warn(\n",
      "05/30/2021 13:33:03 - INFO - elasticsearch -   POST https://odfe-node1:9200/_bulk?refresh=wait_for [status:200 request:1.036s]\n",
      "/opt/conda/lib/python3.8/site-packages/urllib3/connectionpool.py:981: InsecureRequestWarning: Unverified HTTPS request is being made to host 'odfe-node1'. Adding certificate verification is strongly advised. See: https://urllib3.readthedocs.io/en/latest/advanced-usage.html#ssl-warnings\n",
      "  warnings.warn(\n",
      "05/30/2021 13:33:04 - INFO - elasticsearch -   POST https://odfe-node1:9200/_bulk?refresh=wait_for [status:200 request:1.032s]\n",
      "/opt/conda/lib/python3.8/site-packages/urllib3/connectionpool.py:981: InsecureRequestWarning: Unverified HTTPS request is being made to host 'odfe-node1'. Adding certificate verification is strongly advised. See: https://urllib3.readthedocs.io/en/latest/advanced-usage.html#ssl-warnings\n",
      "  warnings.warn(\n",
      "05/30/2021 13:33:06 - INFO - elasticsearch -   POST https://odfe-node1:9200/_bulk?refresh=wait_for [status:200 request:1.010s]\n",
      "/opt/conda/lib/python3.8/site-packages/urllib3/connectionpool.py:981: InsecureRequestWarning: Unverified HTTPS request is being made to host 'odfe-node1'. Adding certificate verification is strongly advised. See: https://urllib3.readthedocs.io/en/latest/advanced-usage.html#ssl-warnings\n",
      "  warnings.warn(\n",
      "05/30/2021 13:33:07 - INFO - elasticsearch -   POST https://odfe-node1:9200/_bulk?refresh=wait_for [status:200 request:1.041s]\n",
      "/opt/conda/lib/python3.8/site-packages/urllib3/connectionpool.py:981: InsecureRequestWarning: Unverified HTTPS request is being made to host 'odfe-node1'. Adding certificate verification is strongly advised. See: https://urllib3.readthedocs.io/en/latest/advanced-usage.html#ssl-warnings\n",
      "  warnings.warn(\n",
      "05/30/2021 13:33:08 - INFO - elasticsearch -   POST https://odfe-node1:9200/_bulk?refresh=wait_for [status:200 request:1.012s]\n",
      "/opt/conda/lib/python3.8/site-packages/urllib3/connectionpool.py:981: InsecureRequestWarning: Unverified HTTPS request is being made to host 'odfe-node1'. Adding certificate verification is strongly advised. See: https://urllib3.readthedocs.io/en/latest/advanced-usage.html#ssl-warnings\n",
      "  warnings.warn(\n",
      "05/30/2021 13:33:09 - INFO - elasticsearch -   POST https://odfe-node1:9200/_bulk?refresh=wait_for [status:200 request:1.007s]\n",
      "/opt/conda/lib/python3.8/site-packages/urllib3/connectionpool.py:981: InsecureRequestWarning: Unverified HTTPS request is being made to host 'odfe-node1'. Adding certificate verification is strongly advised. See: https://urllib3.readthedocs.io/en/latest/advanced-usage.html#ssl-warnings\n",
      "  warnings.warn(\n",
      "05/30/2021 13:33:10 - INFO - elasticsearch -   POST https://odfe-node1:9200/_bulk?refresh=wait_for [status:200 request:1.017s]\n"
     ]
    },
    {
     "name": "stderr",
     "output_type": "stream",
     "text": [
      "/opt/conda/lib/python3.8/site-packages/urllib3/connectionpool.py:981: InsecureRequestWarning: Unverified HTTPS request is being made to host 'odfe-node1'. Adding certificate verification is strongly advised. See: https://urllib3.readthedocs.io/en/latest/advanced-usage.html#ssl-warnings\n",
      "  warnings.warn(\n",
      "05/30/2021 13:33:11 - INFO - elasticsearch -   POST https://odfe-node1:9200/_bulk?refresh=wait_for [status:200 request:1.037s]\n",
      "/opt/conda/lib/python3.8/site-packages/urllib3/connectionpool.py:981: InsecureRequestWarning: Unverified HTTPS request is being made to host 'odfe-node1'. Adding certificate verification is strongly advised. See: https://urllib3.readthedocs.io/en/latest/advanced-usage.html#ssl-warnings\n",
      "  warnings.warn(\n",
      "05/30/2021 13:33:12 - INFO - elasticsearch -   POST https://odfe-node1:9200/_bulk?refresh=wait_for [status:200 request:1.003s]\n",
      "/opt/conda/lib/python3.8/site-packages/urllib3/connectionpool.py:981: InsecureRequestWarning: Unverified HTTPS request is being made to host 'odfe-node1'. Adding certificate verification is strongly advised. See: https://urllib3.readthedocs.io/en/latest/advanced-usage.html#ssl-warnings\n",
      "  warnings.warn(\n",
      "05/30/2021 13:33:13 - INFO - elasticsearch -   POST https://odfe-node1:9200/_bulk?refresh=wait_for [status:200 request:1.036s]\n",
      "/opt/conda/lib/python3.8/site-packages/urllib3/connectionpool.py:981: InsecureRequestWarning: Unverified HTTPS request is being made to host 'odfe-node1'. Adding certificate verification is strongly advised. See: https://urllib3.readthedocs.io/en/latest/advanced-usage.html#ssl-warnings\n",
      "  warnings.warn(\n",
      "05/30/2021 13:33:14 - INFO - elasticsearch -   POST https://odfe-node1:9200/_bulk?refresh=wait_for [status:200 request:0.805s]\n",
      "/opt/conda/lib/python3.8/site-packages/urllib3/connectionpool.py:981: InsecureRequestWarning: Unverified HTTPS request is being made to host 'odfe-node1'. Adding certificate verification is strongly advised. See: https://urllib3.readthedocs.io/en/latest/advanced-usage.html#ssl-warnings\n",
      "  warnings.warn(\n",
      "05/30/2021 13:33:15 - INFO - elasticsearch -   POST https://odfe-node1:9200/_bulk?refresh=wait_for [status:200 request:1.008s]\n",
      "/opt/conda/lib/python3.8/site-packages/urllib3/connectionpool.py:981: InsecureRequestWarning: Unverified HTTPS request is being made to host 'odfe-node1'. Adding certificate verification is strongly advised. See: https://urllib3.readthedocs.io/en/latest/advanced-usage.html#ssl-warnings\n",
      "  warnings.warn(\n",
      "05/30/2021 13:33:16 - INFO - elasticsearch -   POST https://odfe-node1:9200/_bulk?refresh=wait_for [status:200 request:1.042s]\n",
      "/opt/conda/lib/python3.8/site-packages/urllib3/connectionpool.py:981: InsecureRequestWarning: Unverified HTTPS request is being made to host 'odfe-node1'. Adding certificate verification is strongly advised. See: https://urllib3.readthedocs.io/en/latest/advanced-usage.html#ssl-warnings\n",
      "  warnings.warn(\n",
      "05/30/2021 13:33:17 - INFO - elasticsearch -   POST https://odfe-node1:9200/_bulk?refresh=wait_for [status:200 request:1.019s]\n",
      "/opt/conda/lib/python3.8/site-packages/urllib3/connectionpool.py:981: InsecureRequestWarning: Unverified HTTPS request is being made to host 'odfe-node1'. Adding certificate verification is strongly advised. See: https://urllib3.readthedocs.io/en/latest/advanced-usage.html#ssl-warnings\n",
      "  warnings.warn(\n",
      "05/30/2021 13:33:18 - INFO - elasticsearch -   POST https://odfe-node1:9200/_bulk?refresh=wait_for [status:200 request:1.035s]\n",
      "/opt/conda/lib/python3.8/site-packages/urllib3/connectionpool.py:981: InsecureRequestWarning: Unverified HTTPS request is being made to host 'odfe-node1'. Adding certificate verification is strongly advised. See: https://urllib3.readthedocs.io/en/latest/advanced-usage.html#ssl-warnings\n",
      "  warnings.warn(\n",
      "05/30/2021 13:33:19 - INFO - elasticsearch -   POST https://odfe-node1:9200/_bulk?refresh=wait_for [status:200 request:1.036s]\n",
      "/opt/conda/lib/python3.8/site-packages/urllib3/connectionpool.py:981: InsecureRequestWarning: Unverified HTTPS request is being made to host 'odfe-node1'. Adding certificate verification is strongly advised. See: https://urllib3.readthedocs.io/en/latest/advanced-usage.html#ssl-warnings\n",
      "  warnings.warn(\n",
      "05/30/2021 13:33:20 - INFO - elasticsearch -   POST https://odfe-node1:9200/_bulk?refresh=wait_for [status:200 request:1.026s]\n",
      "/opt/conda/lib/python3.8/site-packages/urllib3/connectionpool.py:981: InsecureRequestWarning: Unverified HTTPS request is being made to host 'odfe-node1'. Adding certificate verification is strongly advised. See: https://urllib3.readthedocs.io/en/latest/advanced-usage.html#ssl-warnings\n",
      "  warnings.warn(\n",
      "05/30/2021 13:33:21 - INFO - elasticsearch -   POST https://odfe-node1:9200/_bulk?refresh=wait_for [status:200 request:1.006s]\n",
      "/opt/conda/lib/python3.8/site-packages/urllib3/connectionpool.py:981: InsecureRequestWarning: Unverified HTTPS request is being made to host 'odfe-node1'. Adding certificate verification is strongly advised. See: https://urllib3.readthedocs.io/en/latest/advanced-usage.html#ssl-warnings\n",
      "  warnings.warn(\n",
      "05/30/2021 13:33:22 - INFO - elasticsearch -   POST https://odfe-node1:9200/_bulk?refresh=wait_for [status:200 request:1.010s]\n",
      "/opt/conda/lib/python3.8/site-packages/urllib3/connectionpool.py:981: InsecureRequestWarning: Unverified HTTPS request is being made to host 'odfe-node1'. Adding certificate verification is strongly advised. See: https://urllib3.readthedocs.io/en/latest/advanced-usage.html#ssl-warnings\n",
      "  warnings.warn(\n",
      "05/30/2021 13:33:23 - INFO - elasticsearch -   POST https://odfe-node1:9200/_bulk?refresh=wait_for [status:200 request:1.046s]\n",
      "/opt/conda/lib/python3.8/site-packages/urllib3/connectionpool.py:981: InsecureRequestWarning: Unverified HTTPS request is being made to host 'odfe-node1'. Adding certificate verification is strongly advised. See: https://urllib3.readthedocs.io/en/latest/advanced-usage.html#ssl-warnings\n",
      "  warnings.warn(\n",
      "05/30/2021 13:33:24 - INFO - elasticsearch -   POST https://odfe-node1:9200/_bulk?refresh=wait_for [status:200 request:1.029s]\n",
      "/opt/conda/lib/python3.8/site-packages/urllib3/connectionpool.py:981: InsecureRequestWarning: Unverified HTTPS request is being made to host 'odfe-node1'. Adding certificate verification is strongly advised. See: https://urllib3.readthedocs.io/en/latest/advanced-usage.html#ssl-warnings\n",
      "  warnings.warn(\n",
      "05/30/2021 13:33:25 - INFO - elasticsearch -   POST https://odfe-node1:9200/_bulk?refresh=wait_for [status:200 request:1.067s]\n",
      "/opt/conda/lib/python3.8/site-packages/urllib3/connectionpool.py:981: InsecureRequestWarning: Unverified HTTPS request is being made to host 'odfe-node1'. Adding certificate verification is strongly advised. See: https://urllib3.readthedocs.io/en/latest/advanced-usage.html#ssl-warnings\n",
      "  warnings.warn(\n",
      "05/30/2021 13:33:26 - INFO - elasticsearch -   POST https://odfe-node1:9200/_bulk?refresh=wait_for [status:200 request:1.006s]\n",
      "/opt/conda/lib/python3.8/site-packages/urllib3/connectionpool.py:981: InsecureRequestWarning: Unverified HTTPS request is being made to host 'odfe-node1'. Adding certificate verification is strongly advised. See: https://urllib3.readthedocs.io/en/latest/advanced-usage.html#ssl-warnings\n",
      "  warnings.warn(\n",
      "05/30/2021 13:33:27 - INFO - elasticsearch -   POST https://odfe-node1:9200/_bulk?refresh=wait_for [status:200 request:1.017s]\n",
      "/opt/conda/lib/python3.8/site-packages/urllib3/connectionpool.py:981: InsecureRequestWarning: Unverified HTTPS request is being made to host 'odfe-node1'. Adding certificate verification is strongly advised. See: https://urllib3.readthedocs.io/en/latest/advanced-usage.html#ssl-warnings\n",
      "  warnings.warn(\n",
      "05/30/2021 13:33:28 - INFO - elasticsearch -   POST https://odfe-node1:9200/_bulk?refresh=wait_for [status:200 request:1.012s]\n",
      "/opt/conda/lib/python3.8/site-packages/urllib3/connectionpool.py:981: InsecureRequestWarning: Unverified HTTPS request is being made to host 'odfe-node1'. Adding certificate verification is strongly advised. See: https://urllib3.readthedocs.io/en/latest/advanced-usage.html#ssl-warnings\n",
      "  warnings.warn(\n",
      "05/30/2021 13:33:29 - INFO - elasticsearch -   POST https://odfe-node1:9200/_bulk?refresh=wait_for [status:200 request:1.049s]\n",
      "/opt/conda/lib/python3.8/site-packages/urllib3/connectionpool.py:981: InsecureRequestWarning: Unverified HTTPS request is being made to host 'odfe-node1'. Adding certificate verification is strongly advised. See: https://urllib3.readthedocs.io/en/latest/advanced-usage.html#ssl-warnings\n",
      "  warnings.warn(\n"
     ]
    },
    {
     "name": "stderr",
     "output_type": "stream",
     "text": [
      "05/30/2021 13:33:30 - INFO - elasticsearch -   POST https://odfe-node1:9200/_bulk?refresh=wait_for [status:200 request:1.034s]\n",
      "/opt/conda/lib/python3.8/site-packages/urllib3/connectionpool.py:981: InsecureRequestWarning: Unverified HTTPS request is being made to host 'odfe-node1'. Adding certificate verification is strongly advised. See: https://urllib3.readthedocs.io/en/latest/advanced-usage.html#ssl-warnings\n",
      "  warnings.warn(\n",
      "05/30/2021 13:33:31 - INFO - elasticsearch -   POST https://odfe-node1:9200/_bulk?refresh=wait_for [status:200 request:1.031s]\n",
      "/opt/conda/lib/python3.8/site-packages/urllib3/connectionpool.py:981: InsecureRequestWarning: Unverified HTTPS request is being made to host 'odfe-node1'. Adding certificate verification is strongly advised. See: https://urllib3.readthedocs.io/en/latest/advanced-usage.html#ssl-warnings\n",
      "  warnings.warn(\n",
      "05/30/2021 13:33:32 - INFO - elasticsearch -   POST https://odfe-node1:9200/_bulk?refresh=wait_for [status:200 request:1.027s]\n",
      "/opt/conda/lib/python3.8/site-packages/urllib3/connectionpool.py:981: InsecureRequestWarning: Unverified HTTPS request is being made to host 'odfe-node1'. Adding certificate verification is strongly advised. See: https://urllib3.readthedocs.io/en/latest/advanced-usage.html#ssl-warnings\n",
      "  warnings.warn(\n",
      "05/30/2021 13:33:33 - INFO - elasticsearch -   POST https://odfe-node1:9200/_bulk?refresh=wait_for [status:200 request:1.004s]\n",
      "/opt/conda/lib/python3.8/site-packages/urllib3/connectionpool.py:981: InsecureRequestWarning: Unverified HTTPS request is being made to host 'odfe-node1'. Adding certificate verification is strongly advised. See: https://urllib3.readthedocs.io/en/latest/advanced-usage.html#ssl-warnings\n",
      "  warnings.warn(\n",
      "05/30/2021 13:33:35 - INFO - elasticsearch -   POST https://odfe-node1:9200/_bulk?refresh=wait_for [status:200 request:0.935s]\n",
      "/opt/conda/lib/python3.8/site-packages/urllib3/connectionpool.py:981: InsecureRequestWarning: Unverified HTTPS request is being made to host 'odfe-node1'. Adding certificate verification is strongly advised. See: https://urllib3.readthedocs.io/en/latest/advanced-usage.html#ssl-warnings\n",
      "  warnings.warn(\n",
      "05/30/2021 13:33:36 - INFO - elasticsearch -   POST https://odfe-node1:9200/_bulk?refresh=wait_for [status:200 request:1.034s]\n",
      "/opt/conda/lib/python3.8/site-packages/urllib3/connectionpool.py:981: InsecureRequestWarning: Unverified HTTPS request is being made to host 'odfe-node1'. Adding certificate verification is strongly advised. See: https://urllib3.readthedocs.io/en/latest/advanced-usage.html#ssl-warnings\n",
      "  warnings.warn(\n",
      "05/30/2021 13:33:37 - INFO - elasticsearch -   POST https://odfe-node1:9200/_bulk?refresh=wait_for [status:200 request:1.037s]\n",
      "/opt/conda/lib/python3.8/site-packages/urllib3/connectionpool.py:981: InsecureRequestWarning: Unverified HTTPS request is being made to host 'odfe-node1'. Adding certificate verification is strongly advised. See: https://urllib3.readthedocs.io/en/latest/advanced-usage.html#ssl-warnings\n",
      "  warnings.warn(\n",
      "05/30/2021 13:33:38 - INFO - elasticsearch -   POST https://odfe-node1:9200/_bulk?refresh=wait_for [status:200 request:1.005s]\n",
      "/opt/conda/lib/python3.8/site-packages/urllib3/connectionpool.py:981: InsecureRequestWarning: Unverified HTTPS request is being made to host 'odfe-node1'. Adding certificate verification is strongly advised. See: https://urllib3.readthedocs.io/en/latest/advanced-usage.html#ssl-warnings\n",
      "  warnings.warn(\n",
      "05/30/2021 13:33:39 - INFO - elasticsearch -   POST https://odfe-node1:9200/_bulk?refresh=wait_for [status:200 request:1.008s]\n",
      "/opt/conda/lib/python3.8/site-packages/urllib3/connectionpool.py:981: InsecureRequestWarning: Unverified HTTPS request is being made to host 'odfe-node1'. Adding certificate verification is strongly advised. See: https://urllib3.readthedocs.io/en/latest/advanced-usage.html#ssl-warnings\n",
      "  warnings.warn(\n",
      "05/30/2021 13:33:40 - INFO - elasticsearch -   POST https://odfe-node1:9200/_bulk?refresh=wait_for [status:200 request:1.035s]\n",
      "/opt/conda/lib/python3.8/site-packages/urllib3/connectionpool.py:981: InsecureRequestWarning: Unverified HTTPS request is being made to host 'odfe-node1'. Adding certificate verification is strongly advised. See: https://urllib3.readthedocs.io/en/latest/advanced-usage.html#ssl-warnings\n",
      "  warnings.warn(\n",
      "05/30/2021 13:33:41 - INFO - elasticsearch -   POST https://odfe-node1:9200/_bulk?refresh=wait_for [status:200 request:1.034s]\n",
      "/opt/conda/lib/python3.8/site-packages/urllib3/connectionpool.py:981: InsecureRequestWarning: Unverified HTTPS request is being made to host 'odfe-node1'. Adding certificate verification is strongly advised. See: https://urllib3.readthedocs.io/en/latest/advanced-usage.html#ssl-warnings\n",
      "  warnings.warn(\n",
      "05/30/2021 13:33:42 - INFO - elasticsearch -   POST https://odfe-node1:9200/_bulk?refresh=wait_for [status:200 request:1.009s]\n",
      "/opt/conda/lib/python3.8/site-packages/urllib3/connectionpool.py:981: InsecureRequestWarning: Unverified HTTPS request is being made to host 'odfe-node1'. Adding certificate verification is strongly advised. See: https://urllib3.readthedocs.io/en/latest/advanced-usage.html#ssl-warnings\n",
      "  warnings.warn(\n",
      "05/30/2021 13:33:43 - INFO - elasticsearch -   POST https://odfe-node1:9200/_bulk?refresh=wait_for [status:200 request:1.039s]\n",
      "/opt/conda/lib/python3.8/site-packages/urllib3/connectionpool.py:981: InsecureRequestWarning: Unverified HTTPS request is being made to host 'odfe-node1'. Adding certificate verification is strongly advised. See: https://urllib3.readthedocs.io/en/latest/advanced-usage.html#ssl-warnings\n",
      "  warnings.warn(\n",
      "05/30/2021 13:33:44 - INFO - elasticsearch -   POST https://odfe-node1:9200/_bulk?refresh=wait_for [status:200 request:1.028s]\n",
      "/opt/conda/lib/python3.8/site-packages/urllib3/connectionpool.py:981: InsecureRequestWarning: Unverified HTTPS request is being made to host 'odfe-node1'. Adding certificate verification is strongly advised. See: https://urllib3.readthedocs.io/en/latest/advanced-usage.html#ssl-warnings\n",
      "  warnings.warn(\n",
      "05/30/2021 13:33:45 - INFO - elasticsearch -   POST https://odfe-node1:9200/_bulk?refresh=wait_for [status:200 request:1.005s]\n",
      "/opt/conda/lib/python3.8/site-packages/urllib3/connectionpool.py:981: InsecureRequestWarning: Unverified HTTPS request is being made to host 'odfe-node1'. Adding certificate verification is strongly advised. See: https://urllib3.readthedocs.io/en/latest/advanced-usage.html#ssl-warnings\n",
      "  warnings.warn(\n",
      "05/30/2021 13:33:46 - INFO - elasticsearch -   POST https://odfe-node1:9200/_bulk?refresh=wait_for [status:200 request:1.040s]\n",
      "/opt/conda/lib/python3.8/site-packages/urllib3/connectionpool.py:981: InsecureRequestWarning: Unverified HTTPS request is being made to host 'odfe-node1'. Adding certificate verification is strongly advised. See: https://urllib3.readthedocs.io/en/latest/advanced-usage.html#ssl-warnings\n",
      "  warnings.warn(\n",
      "05/30/2021 13:33:47 - INFO - elasticsearch -   POST https://odfe-node1:9200/_bulk?refresh=wait_for [status:200 request:1.030s]\n",
      "/opt/conda/lib/python3.8/site-packages/urllib3/connectionpool.py:981: InsecureRequestWarning: Unverified HTTPS request is being made to host 'odfe-node1'. Adding certificate verification is strongly advised. See: https://urllib3.readthedocs.io/en/latest/advanced-usage.html#ssl-warnings\n",
      "  warnings.warn(\n",
      "05/30/2021 13:33:48 - INFO - elasticsearch -   POST https://odfe-node1:9200/_bulk?refresh=wait_for [status:200 request:1.009s]\n",
      "/opt/conda/lib/python3.8/site-packages/urllib3/connectionpool.py:981: InsecureRequestWarning: Unverified HTTPS request is being made to host 'odfe-node1'. Adding certificate verification is strongly advised. See: https://urllib3.readthedocs.io/en/latest/advanced-usage.html#ssl-warnings\n",
      "  warnings.warn(\n",
      "05/30/2021 13:33:49 - INFO - elasticsearch -   POST https://odfe-node1:9200/_bulk?refresh=wait_for [status:200 request:1.032s]\n"
     ]
    }
   ],
   "source": [
    "# We don't need to split since the texts are short\n",
    "dicts = []\n",
    "for _, data in df.iterrows():\n",
    "    dicts.append({'text': data['original'], 'meta': data[['collection', 'datetime', 'topic']].to_dict()})\n",
    "    \n",
    "# Let's have a look at the first 3 entries:\n",
    "print(dicts[:3])\n",
    "\n",
    "# Now, let's write the dicts containing documents to our DB.\n",
    "# document_store.write_documents(dicts)"
   ]
  },
  {
   "cell_type": "markdown",
   "metadata": {},
   "source": [
    "## Initalize Retriever and Reader\n",
    "\n",
    "### Retriever\n",
    "\n",
    "Retrievers help narrowing down the scope for the Reader to smaller units of text where a given question could be answered.\n",
    "They use some simple but fast algorithm.\n",
    "\n",
    "We use the EmbeddingRetriever with SBERT."
   ]
  },
  {
   "cell_type": "code",
   "execution_count": 7,
   "metadata": {},
   "outputs": [
    {
     "name": "stderr",
     "output_type": "stream",
     "text": [
      "05/30/2021 23:03:10 - INFO - haystack.retriever.dense -   Init retriever using embeddings of model deepset/sentence_bert\n",
      "05/30/2021 23:03:10 - INFO - farm.utils -   Using device: CUDA \n",
      "05/30/2021 23:03:10 - INFO - farm.utils -   Number of GPUs: 1\n",
      "05/30/2021 23:03:10 - INFO - farm.utils -   Distributed Training: False\n",
      "05/30/2021 23:03:10 - INFO - farm.utils -   Automatic Mixed Precision: None\n",
      "05/30/2021 23:03:11 - INFO - filelock -   Lock 140552470349280 acquired on /root/.cache/huggingface/transformers/f2fa4ddfd1da74d4f9fb00a8879d6730346d543bb6576db37fecddf4b2da4ae1.e9c7ea4b16d7c4a79864df631645d5aefec00f2a258f27810e0ae70be87de670.lock\n"
     ]
    },
    {
     "data": {
      "application/vnd.jupyter.widget-view+json": {
       "model_id": "38cb5d129d8b4ef5824966eaa1f00cbd",
       "version_major": 2,
       "version_minor": 0
      },
      "text/plain": [
       "HBox(children=(HTML(value='Downloading'), FloatProgress(value=0.0, max=385.0), HTML(value='')))"
      ]
     },
     "metadata": {},
     "output_type": "display_data"
    },
    {
     "name": "stderr",
     "output_type": "stream",
     "text": [
      "05/30/2021 23:03:12 - INFO - filelock -   Lock 140552470349280 released on /root/.cache/huggingface/transformers/f2fa4ddfd1da74d4f9fb00a8879d6730346d543bb6576db37fecddf4b2da4ae1.e9c7ea4b16d7c4a79864df631645d5aefec00f2a258f27810e0ae70be87de670.lock\n"
     ]
    },
    {
     "name": "stdout",
     "output_type": "stream",
     "text": [
      "\n"
     ]
    },
    {
     "name": "stderr",
     "output_type": "stream",
     "text": [
      "05/30/2021 23:03:13 - INFO - filelock -   Lock 140552059787296 acquired on /root/.cache/huggingface/transformers/2e610e46f4b28817d45cca7015637eee4b8d4ac6f0c77f2bdf43098cab361f9a.53dde806a91354b9d84223dcf593417ea6da6a3fb31a23e2e799621881366daf.lock\n"
     ]
    },
    {
     "data": {
      "application/vnd.jupyter.widget-view+json": {
       "model_id": "e99ac512d20d433c916e720cbc3c7a48",
       "version_major": 2,
       "version_minor": 0
      },
      "text/plain": [
       "HBox(children=(HTML(value='Downloading'), FloatProgress(value=0.0, max=438006864.0), HTML(value='')))"
      ]
     },
     "metadata": {},
     "output_type": "display_data"
    },
    {
     "name": "stderr",
     "output_type": "stream",
     "text": [
      "05/30/2021 23:03:43 - INFO - filelock -   Lock 140552059787296 released on /root/.cache/huggingface/transformers/2e610e46f4b28817d45cca7015637eee4b8d4ac6f0c77f2bdf43098cab361f9a.53dde806a91354b9d84223dcf593417ea6da6a3fb31a23e2e799621881366daf.lock\n"
     ]
    },
    {
     "name": "stdout",
     "output_type": "stream",
     "text": [
      "\n"
     ]
    },
    {
     "name": "stderr",
     "output_type": "stream",
     "text": [
      "Some weights of the model checkpoint at deepset/sentence_bert were not used when initializing BertModel: ['classifier.bias', 'classifier.weight']\n",
      "- This IS expected if you are initializing BertModel from the checkpoint of a model trained on another task or with another architecture (e.g. initializing a BertForSequenceClassification model from a BertForPreTraining model).\n",
      "- This IS NOT expected if you are initializing BertModel from the checkpoint of a model that you expect to be exactly identical (initializing a BertForSequenceClassification model from a BertForSequenceClassification model).\n",
      "05/30/2021 23:03:50 - INFO - filelock -   Lock 140552382667408 acquired on /root/.cache/huggingface/transformers/e40ccd5a52ae8819bfadcaa8b736c78f3a1ebab84336a7701cf34a271933200a.d789d64ebfe299b0e416afc4a169632f903f693095b4629a7ea271d5a0cf2c99.lock\n"
     ]
    },
    {
     "data": {
      "application/vnd.jupyter.widget-view+json": {
       "model_id": "b8299bdc8308477cab2777b255b6a924",
       "version_major": 2,
       "version_minor": 0
      },
      "text/plain": [
       "HBox(children=(HTML(value='Downloading'), FloatProgress(value=0.0, max=231508.0), HTML(value='')))"
      ]
     },
     "metadata": {},
     "output_type": "display_data"
    },
    {
     "name": "stderr",
     "output_type": "stream",
     "text": [
      "05/30/2021 23:03:51 - INFO - filelock -   Lock 140552382667408 released on /root/.cache/huggingface/transformers/e40ccd5a52ae8819bfadcaa8b736c78f3a1ebab84336a7701cf34a271933200a.d789d64ebfe299b0e416afc4a169632f903f693095b4629a7ea271d5a0cf2c99.lock\n"
     ]
    },
    {
     "name": "stdout",
     "output_type": "stream",
     "text": [
      "\n"
     ]
    },
    {
     "name": "stderr",
     "output_type": "stream",
     "text": [
      "05/30/2021 23:03:52 - INFO - filelock -   Lock 140552382816608 acquired on /root/.cache/huggingface/transformers/94db90ea267e3fc9718b08857d0a301c4adf8df38df2b22d86876c2b5e1daef2.5cc6e825eb228a7a5cfd27cb4d7151e97a79fb962b31aaf1813aa102e746584b.lock\n"
     ]
    },
    {
     "data": {
      "application/vnd.jupyter.widget-view+json": {
       "model_id": "cb577f208db74a0589ff80a554764bee",
       "version_major": 2,
       "version_minor": 0
      },
      "text/plain": [
       "HBox(children=(HTML(value='Downloading'), FloatProgress(value=0.0, max=2.0), HTML(value='')))"
      ]
     },
     "metadata": {},
     "output_type": "display_data"
    },
    {
     "name": "stderr",
     "output_type": "stream",
     "text": [
      "05/30/2021 23:03:53 - INFO - filelock -   Lock 140552382816608 released on /root/.cache/huggingface/transformers/94db90ea267e3fc9718b08857d0a301c4adf8df38df2b22d86876c2b5e1daef2.5cc6e825eb228a7a5cfd27cb4d7151e97a79fb962b31aaf1813aa102e746584b.lock\n"
     ]
    },
    {
     "name": "stdout",
     "output_type": "stream",
     "text": [
      "\n"
     ]
    },
    {
     "name": "stderr",
     "output_type": "stream",
     "text": [
      "05/30/2021 23:03:54 - INFO - filelock -   Lock 140552382561968 acquired on /root/.cache/huggingface/transformers/058c0f259a3d40715957f88c3fb02faef02f13cfe69e33d6bd2f4ee07cf05def.dd8bd9bfd3664b530ea4e645105f557769387b3da9f79bdb55ed556bdd80611d.lock\n"
     ]
    },
    {
     "data": {
      "application/vnd.jupyter.widget-view+json": {
       "model_id": "b1e1cf26871c4e07afaaca65ed633a20",
       "version_major": 2,
       "version_minor": 0
      },
      "text/plain": [
       "HBox(children=(HTML(value='Downloading'), FloatProgress(value=0.0, max=112.0), HTML(value='')))"
      ]
     },
     "metadata": {},
     "output_type": "display_data"
    },
    {
     "name": "stderr",
     "output_type": "stream",
     "text": [
      "05/30/2021 23:03:55 - INFO - filelock -   Lock 140552382561968 released on /root/.cache/huggingface/transformers/058c0f259a3d40715957f88c3fb02faef02f13cfe69e33d6bd2f4ee07cf05def.dd8bd9bfd3664b530ea4e645105f557769387b3da9f79bdb55ed556bdd80611d.lock\n"
     ]
    },
    {
     "name": "stdout",
     "output_type": "stream",
     "text": [
      "\n"
     ]
    },
    {
     "name": "stderr",
     "output_type": "stream",
     "text": [
      "05/30/2021 23:03:55 - WARNING - farm.utils -   ML Logging is turned off. No parameters, metrics or artifacts will be logged to MLFlow.\n",
      "05/30/2021 23:03:55 - INFO - farm.utils -   Using device: CUDA \n",
      "05/30/2021 23:03:55 - INFO - farm.utils -   Number of GPUs: 1\n",
      "05/30/2021 23:03:55 - INFO - farm.utils -   Distributed Training: False\n",
      "05/30/2021 23:03:55 - INFO - farm.utils -   Automatic Mixed Precision: None\n",
      "05/30/2021 23:03:55 - INFO - haystack.document_store.elasticsearch -   Updating embeddings for new docs without embeddings ...\n",
      "/opt/conda/lib/python3.8/site-packages/urllib3/connectionpool.py:981: InsecureRequestWarning: Unverified HTTPS request is being made to host 'odfe-node1'. Adding certificate verification is strongly advised. See: https://urllib3.readthedocs.io/en/latest/advanced-usage.html#ssl-warnings\n",
      "  warnings.warn(\n",
      "05/30/2021 23:03:55 - INFO - elasticsearch -   POST https://odfe-node1:9200/document/_search?scroll=1d&size=10000 [status:200 request:0.071s]\n",
      "/opt/conda/lib/python3.8/site-packages/urllib3/connectionpool.py:981: InsecureRequestWarning: Unverified HTTPS request is being made to host 'odfe-node1'. Adding certificate verification is strongly advised. See: https://urllib3.readthedocs.io/en/latest/advanced-usage.html#ssl-warnings\n",
      "  warnings.warn(\n",
      "05/30/2021 23:03:55 - INFO - elasticsearch -   DELETE https://odfe-node1:9200/_search/scroll [status:200 request:0.005s]\n"
     ]
    }
   ],
   "source": [
    "# TODO: Create custom retriever for performing semantic search with binary filters \n",
    "# (e.g. I want only documents with the word \"crisis\")\n",
    "\n",
    "# Pre-trained SBERT retrieval Bi-Encoder\n",
    "emb_retriever = EmbeddingRetriever(document_store=document_store, embedding_model=\"deepset/sentence_bert\")\n",
    "\n",
    "# Adds new embeddings in the the document store using the retriever encodings\n",
    "document_store.update_embeddings(emb_retriever, update_existing_embeddings=False)"
   ]
  },
  {
   "cell_type": "markdown",
   "metadata": {},
   "source": [
    "### Reader\n",
    "\n",
    "A Reader scans the texts returned by retrievers in detail and extracts the k best answers. They are based\n",
    "on powerful, but slower deep learning models.\n",
    "\n",
    "Haystack currently supports Readers based on the frameworks FARM and Transformers.\n",
    "With both you can either load a local model or one from Hugging Face's model hub (https://huggingface.co/models).\n",
    "\n",
    "#### CrossEncoderReRanker\n",
    "\n",
    "We create a custom Reader called CrossEncoderReRanker that applies a BERT cross-encoder between the query and each document returned by the retriever."
   ]
  },
  {
   "cell_type": "code",
   "execution_count": 8,
   "metadata": {
    "pycharm": {
     "is_executing": false
    },
    "scrolled": true
   },
   "outputs": [
    {
     "name": "stderr",
     "output_type": "stream",
     "text": [
      "05/30/2021 23:04:20 - INFO - filelock -   Lock 140552072196448 acquired on /root/.cache/huggingface/transformers/7f1fbd2c3307e492c775abdae9d3f1720fb5d02c7c628792823c3f7780b668dd.ef18bb5aedaf4562d772e106aa700d985a4978e6d17f4535445dcf91aff1793a.lock\n"
     ]
    },
    {
     "data": {
      "application/vnd.jupyter.widget-view+json": {
       "model_id": "9d4e3c05d62447f59693ee31458eb85e",
       "version_major": 2,
       "version_minor": 0
      },
      "text/plain": [
       "HBox(children=(HTML(value='Downloading'), FloatProgress(value=0.0, max=612.0), HTML(value='')))"
      ]
     },
     "metadata": {},
     "output_type": "display_data"
    },
    {
     "name": "stderr",
     "output_type": "stream",
     "text": [
      "05/30/2021 23:04:20 - INFO - filelock -   Lock 140552072196448 released on /root/.cache/huggingface/transformers/7f1fbd2c3307e492c775abdae9d3f1720fb5d02c7c628792823c3f7780b668dd.ef18bb5aedaf4562d772e106aa700d985a4978e6d17f4535445dcf91aff1793a.lock\n"
     ]
    },
    {
     "name": "stdout",
     "output_type": "stream",
     "text": [
      "\n"
     ]
    },
    {
     "name": "stderr",
     "output_type": "stream",
     "text": [
      "05/30/2021 23:04:21 - INFO - filelock -   Lock 140552473390816 acquired on /root/.cache/huggingface/transformers/b863166bb3a68ffef772c554e4d3dfb63649b224f6bbce230af2440118bd1020.6d4a8837474f85fc8270e78f58a4ed4e1f88b75fadd806aa16aaa486e71eac66.lock\n"
     ]
    },
    {
     "data": {
      "application/vnd.jupyter.widget-view+json": {
       "model_id": "7984d1d14f0249058ed32059fbb48668",
       "version_major": 2,
       "version_minor": 0
      },
      "text/plain": [
       "HBox(children=(HTML(value='Downloading'), FloatProgress(value=0.0, max=267871721.0), HTML(value='')))"
      ]
     },
     "metadata": {},
     "output_type": "display_data"
    },
    {
     "name": "stderr",
     "output_type": "stream",
     "text": [
      "05/30/2021 23:04:39 - INFO - filelock -   Lock 140552473390816 released on /root/.cache/huggingface/transformers/b863166bb3a68ffef772c554e4d3dfb63649b224f6bbce230af2440118bd1020.6d4a8837474f85fc8270e78f58a4ed4e1f88b75fadd806aa16aaa486e71eac66.lock\n"
     ]
    },
    {
     "name": "stdout",
     "output_type": "stream",
     "text": [
      "\n"
     ]
    },
    {
     "name": "stderr",
     "output_type": "stream",
     "text": [
      "05/30/2021 23:04:41 - INFO - filelock -   Lock 140552380245664 acquired on /root/.cache/huggingface/transformers/83c5a03c596ad44764c8ac06988f1a689b6c73314511675a8a4e29d9dfea33d2.d789d64ebfe299b0e416afc4a169632f903f693095b4629a7ea271d5a0cf2c99.lock\n"
     ]
    },
    {
     "data": {
      "application/vnd.jupyter.widget-view+json": {
       "model_id": "989ae98fd38c41fd8358ddd320aa9484",
       "version_major": 2,
       "version_minor": 0
      },
      "text/plain": [
       "HBox(children=(HTML(value='Downloading'), FloatProgress(value=0.0, max=231508.0), HTML(value='')))"
      ]
     },
     "metadata": {},
     "output_type": "display_data"
    },
    {
     "name": "stderr",
     "output_type": "stream",
     "text": [
      "05/30/2021 23:04:42 - INFO - filelock -   Lock 140552380245664 released on /root/.cache/huggingface/transformers/83c5a03c596ad44764c8ac06988f1a689b6c73314511675a8a4e29d9dfea33d2.d789d64ebfe299b0e416afc4a169632f903f693095b4629a7ea271d5a0cf2c99.lock\n"
     ]
    },
    {
     "name": "stdout",
     "output_type": "stream",
     "text": [
      "\n"
     ]
    },
    {
     "name": "stderr",
     "output_type": "stream",
     "text": [
      "05/30/2021 23:04:44 - INFO - filelock -   Lock 140552380756272 acquired on /root/.cache/huggingface/transformers/869b6861a5ce65430d510c8cde252813337f19590e0dfb65de9ee3a19ef5a0f6.dd8bd9bfd3664b530ea4e645105f557769387b3da9f79bdb55ed556bdd80611d.lock\n"
     ]
    },
    {
     "data": {
      "application/vnd.jupyter.widget-view+json": {
       "model_id": "58851ccd79bf4008ba8bbbfc02450dbd",
       "version_major": 2,
       "version_minor": 0
      },
      "text/plain": [
       "HBox(children=(HTML(value='Downloading'), FloatProgress(value=0.0, max=112.0), HTML(value='')))"
      ]
     },
     "metadata": {},
     "output_type": "display_data"
    },
    {
     "name": "stderr",
     "output_type": "stream",
     "text": [
      "05/30/2021 23:04:45 - INFO - filelock -   Lock 140552380756272 released on /root/.cache/huggingface/transformers/869b6861a5ce65430d510c8cde252813337f19590e0dfb65de9ee3a19ef5a0f6.dd8bd9bfd3664b530ea4e645105f557769387b3da9f79bdb55ed556bdd80611d.lock\n"
     ]
    },
    {
     "name": "stdout",
     "output_type": "stream",
     "text": [
      "\n"
     ]
    },
    {
     "name": "stderr",
     "output_type": "stream",
     "text": [
      "05/30/2021 23:04:45 - INFO - filelock -   Lock 140552380756272 acquired on /root/.cache/huggingface/transformers/afb6f16d250442d294156f020a8b5e152d602952921a6d11f162a6b349ab0128.21a9fe7063198ccf1c61caed694d678a7974022394d277a08eca70b1cb6c1dd6.lock\n"
     ]
    },
    {
     "data": {
      "application/vnd.jupyter.widget-view+json": {
       "model_id": "d0eed6ca3f7a4e0aa682f04d156eea31",
       "version_major": 2,
       "version_minor": 0
      },
      "text/plain": [
       "HBox(children=(HTML(value='Downloading'), FloatProgress(value=0.0, max=541.0), HTML(value='')))"
      ]
     },
     "metadata": {},
     "output_type": "display_data"
    },
    {
     "name": "stderr",
     "output_type": "stream",
     "text": [
      "05/30/2021 23:04:46 - INFO - filelock -   Lock 140552380756272 released on /root/.cache/huggingface/transformers/afb6f16d250442d294156f020a8b5e152d602952921a6d11f162a6b349ab0128.21a9fe7063198ccf1c61caed694d678a7974022394d277a08eca70b1cb6c1dd6.lock\n"
     ]
    },
    {
     "name": "stdout",
     "output_type": "stream",
     "text": [
      "\n"
     ]
    }
   ],
   "source": [
    "# reader = TransformersReader(model_name_or_path=\"distilbert-base-uncased-distilled-squad\", tokenizer=\"distilbert-base-uncased\", use_gpu=-1)\n",
    "reader = CrossEncoderReRanker()"
   ]
  },
  {
   "cell_type": "markdown",
   "metadata": {},
   "source": [
    "### Pipeline\n",
    "\n",
    "With a Haystack `Pipeline` you can stick together your building blocks to a search pipeline.\n",
    "Under the hood, `Pipelines` are Directed Acyclic Graphs (DAGs) that you can easily customize for your own use cases.\n",
    "To speed things up, Haystack also comes with a few predefined Pipelines. One of them is the `ExtractiveQAPipeline` that combines a retriever and a reader to answer our questions.\n",
    "You can learn more about `Pipelines` in the [docs](https://haystack.deepset.ai/docs/latest/pipelinesmd)."
   ]
  },
  {
   "cell_type": "code",
   "execution_count": 9,
   "metadata": {
    "pycharm": {
     "is_executing": false
    }
   },
   "outputs": [],
   "source": [
    "pipe = ExtractiveQAPipeline(reader, emb_retriever)"
   ]
  },
  {
   "cell_type": "markdown",
   "metadata": {},
   "source": [
    "## Voilà! Ask a question!"
   ]
  },
  {
   "cell_type": "code",
   "execution_count": 12,
   "metadata": {
    "pycharm": {
     "is_executing": false
    }
   },
   "outputs": [
    {
     "name": "stderr",
     "output_type": "stream",
     "text": [
      "05/30/2021 23:05:25 - WARNING - farm.data_handler.processor -   Currently no support in Processor for returning problematic ids\n",
      "Inferencing Samples: 100%|██████████| 1/1 [00:00<00:00, 19.98 Batches/s]\n",
      "/opt/conda/lib/python3.8/site-packages/urllib3/connectionpool.py:981: InsecureRequestWarning: Unverified HTTPS request is being made to host 'odfe-node1'. Adding certificate verification is strongly advised. See: https://urllib3.readthedocs.io/en/latest/advanced-usage.html#ssl-warnings\n",
      "  warnings.warn(\n",
      "05/30/2021 23:05:26 - INFO - elasticsearch -   POST https://odfe-node1:9200/document/_search [status:200 request:0.616s]\n"
     ]
    },
    {
     "data": {
      "application/vnd.jupyter.widget-view+json": {
       "model_id": "1f878d7c32b24aebb6c1202187ac7eaa",
       "version_major": 2,
       "version_minor": 0
      },
      "text/plain": [
       "HBox(children=(HTML(value='Batches'), FloatProgress(value=0.0, max=4.0), HTML(value='')))"
      ]
     },
     "metadata": {},
     "output_type": "display_data"
    },
    {
     "name": "stdout",
     "output_type": "stream",
     "text": [
      "\n"
     ]
    }
   ],
   "source": [
    "# You can configure how many candidates the reader and retriever shall return\n",
    "# The higher top_k_retriever, the better (but also the slower) your answers. \n",
    "prediction = pipe.run(query=\"Brexit\", \n",
    "                      top_k_retriever=100, top_k_reader=10)"
   ]
  },
  {
   "cell_type": "code",
   "execution_count": 13,
   "metadata": {
    "pycharm": {
     "is_executing": false,
     "name": "#%%\n"
    }
   },
   "outputs": [
    {
     "name": "stdout",
     "output_type": "stream",
     "text": [
      "{   'answers': [   {   'answer': 'Brexit Led Over 440 Finance Firms to Shift '\n",
      "                                 'Some Business to EU The U.K.’s departure '\n",
      "                                 'from the European Union pushed more than 440 '\n",
      "                                 'financial firms to move at least some of '\n",
      "                                 'their operations, staff, assets or legal '\n",
      "                                 'entities from Britain to the bloc. Londons '\n",
      "                                 'future as a financial center has been in the '\n",
      "                                 'spotlight after Brexit came into effect at '\n",
      "                                 'the start of the year.The U.K.s departure '\n",
      "                                 'from the European Union pushed more than 440 '\n",
      "                                 'financial firm',\n",
      "                       'document_id': 'f7edef17-be7a-4905-a8cf-a865b4f9822e',\n",
      "                       'meta': {   'collection': 'everything',\n",
      "                                   'datetime': '2021-04-16T06:27:05',\n",
      "                                   'topic': 'business'},\n",
      "                       'score': 0.26026693},\n",
      "                   {   'answer': 'Brexit Britain’s\\xa0Biggest Test Might Be\\xa0'\n",
      "                                 'the Ability to Survive Leaving the EU has '\n",
      "                                 'hardened the divisions between the U.K.’s '\n",
      "                                 'constituent nations and there’s a growing '\n",
      "                                 'sense that things will come to a head. Sign '\n",
      "                                 'up for our Beyond Brexit weekly newsletter, '\n",
      "                                 'follow us @Brexit\\xa0and\\xa0subscribe to our '\n",
      "                                 'podcast.Prime Minister Boris Johnson has a '\n",
      "                                 'fondness for grand projects, but few are as '\n",
      "                                 'eye-catching as th',\n",
      "                       'document_id': 'd583b38b-ba77-4259-af22-9f4cee023472',\n",
      "                       'meta': {   'collection': 'everything',\n",
      "                                   'datetime': '2021-04-11T06:25:30',\n",
      "                                   'topic': 'business'},\n",
      "                       'score': 0.1877957},\n",
      "                   {   'answer': 'Brexit: EU takes action against UK over '\n",
      "                                 'extension of NI grace period First step '\n",
      "                                 'towards legal proceedings over breach of '\n",
      "                                 'Northern Ireland Protocol The European Union '\n",
      "                                 'is formally launching legal action against '\n",
      "                                 'the UK for unilaterally extending the '\n",
      "                                 'post-Brexit grace periods on trade in '\n",
      "                                 'Northern Ireland in an alleged violation of '\n",
      "                                 'international law',\n",
      "                       'document_id': '2912f075-4973-405f-92c6-6c6a883f8626',\n",
      "                       'meta': {   'collection': 'everything',\n",
      "                                   'datetime': '2021-03-15T14:25:30',\n",
      "                                   'topic': 'general'},\n",
      "                       'score': 0.17500775},\n",
      "                   {   'answer': 'Brexit vote could be a nailbiter, and other '\n",
      "                                 \"MoneyWatch headlines U.K.'s Brexit vote \"\n",
      "                                 'could be tight; Clinton and Trump trade '\n",
      "                                 'barbs on economy; judge rules Starbucks '\n",
      "                                 '\"latte lawsuit\" can proceed. These headlines '\n",
      "                                 'and more from CBS MoneyWatch. Copyright © '\n",
      "                                 '2021 CBS Interactive Inc. All rights '\n",
      "                                 'reserved.',\n",
      "                       'document_id': '2fb9da34-a1b7-4646-b380-787bc28fe11a',\n",
      "                       'meta': {   'collection': 'everything',\n",
      "                                   'datetime': '2021-04-18T22:25:32',\n",
      "                                   'topic': 'general'},\n",
      "                       'score': 0.106649905},\n",
      "                   {   'answer': 'Brexiteer Nigel Farage steps down as leader '\n",
      "                                 'of Reform UK - Reuters India Brexit '\n",
      "                                 'campaigner Nigel Farage said on Saturday he '\n",
      "                                 'would step down as the leader of Reform UK, '\n",
      "                                 'the rebranded Brexit Party he launched two '\n",
      "                                 'years ago to campaign for what was commonly '\n",
      "                                 'known as \"no deal Brexit\". By Reuters '\n",
      "                                 'StaffFILE PHOTO: Brexit Party leader Nigel '\n",
      "                                 'Farage holds a Union Jack flag during a '\n",
      "                                 'plenary session at the European Parliament '\n",
      "                                 'in Brussels, Belgium January 29, 2020. '\n",
      "                                 'REUTERS/Francois Leno',\n",
      "                       'document_id': 'fc0eeea5-75aa-4535-b0ff-a7e088b02066',\n",
      "                       'meta': {   'collection': 'everything',\n",
      "                                   'datetime': '2021-03-06T22:25:31',\n",
      "                                   'topic': 'general'},\n",
      "                       'score': 0.10421855},\n",
      "                   {   'answer': 'Brexiteer Nigel Farage steps down as leader '\n",
      "                                 'of Reform UK Brexit campaigner Nigel Farage '\n",
      "                                 'said on Saturday he would step down as the '\n",
      "                                 'leader of Reform UK, the rebranded Brexit '\n",
      "                                 'Party he launched two years ago to campaign '\n",
      "                                 'for what was commonly known as \"no deal '\n",
      "                                 'Brexit\". By Reuters StaffFILE PHOTO: British '\n",
      "                                 'Brexit Party leader Nigel Farage speaks '\n",
      "                                 'during a visit at Dover harbour, in Dover, '\n",
      "                                 'Britain August 12, 2020. REUTERS/Matthew '\n",
      "                                 'ChildsLONDON (Reuters) - Brexit cam',\n",
      "                       'document_id': 'f31d0478-1bff-4049-99f3-a1883e4c4256',\n",
      "                       'meta': {   'collection': 'everything',\n",
      "                                   'datetime': '2021-03-06T22:25:31',\n",
      "                                   'topic': 'general'},\n",
      "                       'score': 0.07916043},\n",
      "                   {   'answer': 'Belfast Riot\\xa0Shows Brexit Dangers Ahead '\n",
      "                                 'For British Prime Minister Boris Johnson, '\n",
      "                                 'rioting on the streets in Northern Ireland '\n",
      "                                 'is a reminder that once the pandemic fades, '\n",
      "                                 'the U.K. will have to face up to the '\n",
      "                                 'long-term consequences of Brexit. For '\n",
      "                                 'British Prime Minister Boris Johnson, '\n",
      "                                 'rioting on the streets in Northern Ireland '\n",
      "                                 'is a reminder that once the pandemic fades, '\n",
      "                                 'the U.K. will have to face up to the '\n",
      "                                 'long-term consequences of Brexit.',\n",
      "                       'document_id': '23de8edf-d254-4a51-acd9-d5b6e1fc7003',\n",
      "                       'meta': {   'collection': 'everything',\n",
      "                                   'datetime': '2021-04-08T14:25:31',\n",
      "                                   'topic': 'business'},\n",
      "                       'score': 0.04727097},\n",
      "                   {   'answer': 'Brexit Will Ruin More U.K. Small Businesses, '\n",
      "                                 'Economist Warns More small companies are '\n",
      "                                 'likely to go out of business as a '\n",
      "                                 'consequence of Brexit, a former joint head '\n",
      "                                 'of the U.K.’s Government Economic Service '\n",
      "                                 'has warned a new commission on trade. '\n",
      "                                 'Photographer: Nathan Stirk/Getty Images\\xa0'\n",
      "                                 'Sign up\\xa0for our Beyond Brexit weekly '\n",
      "                                 'newsletter, follow us\\xa0@Brexit\\xa0and\\xa0'\n",
      "                                 'subscribe\\xa0to our podcast.More small '\n",
      "                                 'companies are likely to go out of business '\n",
      "                                 'as ',\n",
      "                       'document_id': 'd5d91e76-d560-415f-acb9-01039b395f93',\n",
      "                       'meta': {   'collection': 'everything',\n",
      "                                   'datetime': '2021-04-15T14:25:31',\n",
      "                                   'topic': 'business'},\n",
      "                       'score': 0.041092645},\n",
      "                   {   'answer': 'U.K. Plans Sweeping Markets Review to Give '\n",
      "                                 'London a Brexit Edge The U.K. is preparing a '\n",
      "                                 'wide-ranging review of financial markets to '\n",
      "                                 'defend the City of London’s global '\n",
      "                                 'pre-eminence after Brexit. The U.K. is '\n",
      "                                 'preparing a wide-ranging review of financial '\n",
      "                                 'markets to defend the City of Londons global '\n",
      "                                 'pre-eminence after Brexit.In an interview '\n",
      "                                 'with Bloomberg, Economic Secretary to the '\n",
      "                                 'Treasury Jo',\n",
      "                       'document_id': 'e490edca-1f48-448b-918a-106538dccefe',\n",
      "                       'meta': {   'collection': 'everything',\n",
      "                                   'datetime': '2021-03-11T14:25:30',\n",
      "                                   'topic': 'business'},\n",
      "                       'score': 0.034253012},\n",
      "                   {   'answer': 'More than 440 finance firms are moving '\n",
      "                                 'assets worth over $1.2 trillion to the EU '\n",
      "                                 'post-Brexit - Markets Insider Over 440 '\n",
      "                                 'financial firms are moving offices, '\n",
      "                                 'employees, legal entities and assets out of '\n",
      "                                 'the UK after Brexit. Dublin gained most in '\n",
      "                                 'the relocation. Fog shrouds the Canary Wharf '\n",
      "                                 'business district including global financial '\n",
      "                                 'institutions Citigroup Inc., State Street '\n",
      "                                 'Corp., Barclays Plc, HSBC Holdings Plc and '\n",
      "                                 'the commercial office block No. 1 Canada',\n",
      "                       'document_id': '99def4de-6d77-43c6-8e3d-319aad031c51',\n",
      "                       'meta': {   'collection': 'top_headlines',\n",
      "                                   'datetime': '2021-04-17T22:25:32',\n",
      "                                   'topic': 'business'},\n",
      "                       'score': 0.031896256}],\n",
      "    'query': 'Brexit'}\n"
     ]
    }
   ],
   "source": [
    "print_answers(prediction)"
   ]
  },
  {
   "cell_type": "code",
   "execution_count": null,
   "metadata": {},
   "outputs": [],
   "source": []
  }
 ],
 "metadata": {
  "kernelspec": {
   "display_name": "Python 3",
   "language": "python",
   "name": "python3"
  },
  "language_info": {
   "codemirror_mode": {
    "name": "ipython",
    "version": 3
   },
   "file_extension": ".py",
   "mimetype": "text/x-python",
   "name": "python",
   "nbconvert_exporter": "python",
   "pygments_lexer": "ipython3",
   "version": "3.8.8"
  }
 },
 "nbformat": 4,
 "nbformat_minor": 2
}
