{
 "cells": [
  {
   "cell_type": "markdown",
   "metadata": {},
   "source": [
    "# Description:\n",
    "In this notebook we do a brief Proof of Concept (POC) about OCR application on pdf and image files. We first transform all files (pdf, png, ...) to png files, then we use the pretrained OCR model to extract the files' text. More on the OCR model at: https://github.com/sirfz/tesserocr.\n",
    "\n",
    "# TODO:\n",
    "- Look into package that converts pdfs with text to txt files"
   ]
  },
  {
   "cell_type": "code",
   "execution_count": 1,
   "metadata": {},
   "outputs": [],
   "source": [
    "import os\n",
    "import shutil\n",
    "import re\n",
    "from tesserocr import PyTessBaseAPI\n",
    "from pdf2image import convert_from_path\n",
    "import tempfile\n",
    "\n",
    "from src import PROJECT_ROOT"
   ]
  },
  {
   "cell_type": "code",
   "execution_count": 2,
   "metadata": {},
   "outputs": [],
   "source": [
    "# input, intermediate and output paths\n",
    "inp_path = os.path.join(PROJECT_ROOT, \"data\", \"raw\")\n",
    "out_path = os.path.join(PROJECT_ROOT, \"outputs\", \"ocr\")\n",
    "\n",
    "# list pdf files in inp_path\n",
    "pdf_files_inp = [os.path.join(inp_path, file) for file in os.listdir(inp_path) if file.endswith(\".pdf\")]\n",
    "\n",
    "# list png files in inp_path\n",
    "png_files_inp = [os.path.join(inp_path, file) for file in os.listdir(inp_path) if file.endswith(\".png\")]"
   ]
  },
  {
   "cell_type": "code",
   "execution_count": 3,
   "metadata": {},
   "outputs": [],
   "source": [
    "with tempfile.TemporaryDirectory() as path:\n",
    "    # converts pdf files in inp_path to png files\n",
    "    for file in pdf_files_inp:\n",
    "        convert_from_path(file, output_folder=path, fmt='png')\n",
    "    \n",
    "    # list png files\n",
    "    png_files_inter = [os.path.join(path, file) for file in os.listdir(path) if file.endswith(\".png\")]\n",
    "    \n",
    "    # merge png filesZZZ\n",
    "    png_files = png_files_inp + png_files_inter\n",
    "    \n",
    "    # extracts text from png files in the directory to txt files\n",
    "    with PyTessBaseAPI() as api:\n",
    "        for file in png_files:\n",
    "            api.SetImageFile(file)\n",
    "            full_path = os.path.join(out_path, os.path.splitext(os.path.basename(file))[0] + '.txt')\n",
    "            txt_file = open(full_path, \"w\")\n",
    "            txt_file.write(api.GetUTF8Text())\n",
    "            txt_file.close()"
   ]
  },
  {
   "cell_type": "code",
   "execution_count": null,
   "metadata": {},
   "outputs": [],
   "source": []
  }
 ],
 "metadata": {
  "kernelspec": {
   "display_name": "Python 3 (ipykernel)",
   "language": "python",
   "name": "python3"
  },
  "language_info": {
   "codemirror_mode": {
    "name": "ipython",
    "version": 3
   },
   "file_extension": ".py",
   "mimetype": "text/x-python",
   "name": "python",
   "nbconvert_exporter": "python",
   "pygments_lexer": "ipython3",
   "version": "3.7.11"
  }
 },
 "nbformat": 4,
 "nbformat_minor": 4
}
