{
 "cells": [
  {
   "cell_type": "markdown",
   "metadata": {},
   "source": [
    "# Description:\n",
    "\n",
    "This notebook contains several experiments related with analysing the features of the embedding vectors of each document. We hypothesize that even though the features don't have an exact meaning like in PCA, we can still extract some interpretation by looking at the feature values."
   ]
  },
  {
   "cell_type": "code",
   "execution_count": 1,
   "metadata": {},
   "outputs": [],
   "source": [
    "import os\n",
    "import numpy as np\n",
    "from sklearn.metrics.pairwise import cosine_similarity\n",
    "import matplotlib.pyplot as plt\n",
    "import seaborn as sns\n",
    "import pandas as pd\n",
    "from sentence_transformers import SentenceTransformer, util\n",
    "import torch\n",
    "\n",
    "from src import PROJECT_ROOT"
   ]
  },
  {
   "cell_type": "code",
   "execution_count": 2,
   "metadata": {},
   "outputs": [
    {
     "data": {
      "text/plain": [
       "(15500, 6)"
      ]
     },
     "execution_count": 2,
     "metadata": {},
     "output_type": "execute_result"
    }
   ],
   "source": [
    "data_file = os.path.join(PROJECT_ROOT, \"data\",\"processed\", \"newsapi_docs.csv\")\n",
    "df = pd.read_csv(data_file, header=None, names=['collection', 'datetime', 'topic', 'original', 'split', 'clean'])\n",
    "df = df.loc[df['split'] == 'test']\n",
    "df.shape"
   ]
  },
  {
   "cell_type": "code",
   "execution_count": 3,
   "metadata": {},
   "outputs": [
    {
     "data": {
      "text/html": [
       "<div>\n",
       "<style scoped>\n",
       "    .dataframe tbody tr th:only-of-type {\n",
       "        vertical-align: middle;\n",
       "    }\n",
       "\n",
       "    .dataframe tbody tr th {\n",
       "        vertical-align: top;\n",
       "    }\n",
       "\n",
       "    .dataframe thead th {\n",
       "        text-align: right;\n",
       "    }\n",
       "</style>\n",
       "<table border=\"1\" class=\"dataframe\">\n",
       "  <thead>\n",
       "    <tr style=\"text-align: right;\">\n",
       "      <th></th>\n",
       "      <th>collection</th>\n",
       "      <th>datetime</th>\n",
       "      <th>topic</th>\n",
       "      <th>original</th>\n",
       "      <th>split</th>\n",
       "      <th>clean</th>\n",
       "    </tr>\n",
       "  </thead>\n",
       "  <tbody>\n",
       "    <tr>\n",
       "      <th>61998</th>\n",
       "      <td>top_headlines</td>\n",
       "      <td>2021-03-05T06:25:28</td>\n",
       "      <td>technology</td>\n",
       "      <td>Monster Hunter Mii Fighters coming to Super Sm...</td>\n",
       "      <td>test</td>\n",
       "      <td>monster hunter mii fighter come super smash br...</td>\n",
       "    </tr>\n",
       "    <tr>\n",
       "      <th>61999</th>\n",
       "      <td>top_headlines</td>\n",
       "      <td>2021-04-14T14:25:30</td>\n",
       "      <td>entertainment</td>\n",
       "      <td>Universal's Latest Dracula Spinoff Has Found a...</td>\n",
       "      <td>test</td>\n",
       "      <td>univers latest dracula spinoff ha found new di...</td>\n",
       "    </tr>\n",
       "    <tr>\n",
       "      <th>62000</th>\n",
       "      <td>everything</td>\n",
       "      <td>2021-03-28T22:25:31</td>\n",
       "      <td>technology</td>\n",
       "      <td>New York rolls out first digital COVID-19 vacc...</td>\n",
       "      <td>test</td>\n",
       "      <td>new york roll first digit covid19 vaccin passp...</td>\n",
       "    </tr>\n",
       "    <tr>\n",
       "      <th>62001</th>\n",
       "      <td>everything</td>\n",
       "      <td>2021-03-05T14:25:32</td>\n",
       "      <td>entertainment</td>\n",
       "      <td>'What I Like About You' is a binge-worthy earl...</td>\n",
       "      <td>test</td>\n",
       "      <td>like bingeworthi earli 2000 hidden gem frantic...</td>\n",
       "    </tr>\n",
       "    <tr>\n",
       "      <th>62002</th>\n",
       "      <td>top_headlines</td>\n",
       "      <td>2021-04-08T22:25:30</td>\n",
       "      <td>health</td>\n",
       "      <td>Blood Test Developed to Detect Depression and ...</td>\n",
       "      <td>test</td>\n",
       "      <td>blood test develop detect depress bipolar diso...</td>\n",
       "    </tr>\n",
       "  </tbody>\n",
       "</table>\n",
       "</div>"
      ],
      "text/plain": [
       "          collection             datetime          topic  \\\n",
       "61998  top_headlines  2021-03-05T06:25:28     technology   \n",
       "61999  top_headlines  2021-04-14T14:25:30  entertainment   \n",
       "62000     everything  2021-03-28T22:25:31     technology   \n",
       "62001     everything  2021-03-05T14:25:32  entertainment   \n",
       "62002  top_headlines  2021-04-08T22:25:30         health   \n",
       "\n",
       "                                                original split  \\\n",
       "61998  Monster Hunter Mii Fighters coming to Super Sm...  test   \n",
       "61999  Universal's Latest Dracula Spinoff Has Found a...  test   \n",
       "62000  New York rolls out first digital COVID-19 vacc...  test   \n",
       "62001  'What I Like About You' is a binge-worthy earl...  test   \n",
       "62002  Blood Test Developed to Detect Depression and ...  test   \n",
       "\n",
       "                                                   clean  \n",
       "61998  monster hunter mii fighter come super smash br...  \n",
       "61999  univers latest dracula spinoff ha found new di...  \n",
       "62000  new york roll first digit covid19 vaccin passp...  \n",
       "62001  like bingeworthi earli 2000 hidden gem frantic...  \n",
       "62002  blood test develop detect depress bipolar diso...  "
      ]
     },
     "execution_count": 3,
     "metadata": {},
     "output_type": "execute_result"
    }
   ],
   "source": [
    "df.head()"
   ]
  },
  {
   "cell_type": "markdown",
   "metadata": {},
   "source": [
    "## Using Doc2vec and analyzing the dimension patterns"
   ]
  },
  {
   "cell_type": "code",
   "execution_count": 4,
   "metadata": {},
   "outputs": [
    {
     "data": {
      "text/plain": [
       "(15500, 100)"
      ]
     },
     "execution_count": 4,
     "metadata": {},
     "output_type": "execute_result"
    }
   ],
   "source": [
    "embeddings_file = os.path.join(PROJECT_ROOT, \"outputs/saved_embeddings/test_doc2vecdbowd100n5mc2t12.npy\")\n",
    "embeddings = np.load(embeddings_file)\n",
    "embeddings.shape"
   ]
  },
  {
   "cell_type": "code",
   "execution_count": 5,
   "metadata": {},
   "outputs": [
    {
     "name": "stdout",
     "output_type": "stream",
     "text": [
      "Original text: \n",
      " Monster Hunter Mii Fighters coming to Super Smash Bros. Ultimate - Polygon It’s good news/bad news for Monster Hunter fans who play Super Smash Bros. Ultimate. The latest batch of Mii Fighter DLC includes Monster Hunter- and Ghosts ’n Goblins-inspired costumes. New Mii Fighter costumes de-confirm a dedicated MonHun guest fighter \n",
      "\n",
      "Cleaned text: \n",
      " monster hunter mii fighter come super smash bro ultim polygon good newsbad news monster hunter fan play super smash bro ultim latest batch mii fighter dlc includ monster hunter ghost n goblinsinspir costum new mii fighter costum deconfirm dedic monhun guest fighter \n",
      "\n",
      "Embedding: \n",
      " [ 0.22425303  0.31620178 -0.4054977  -0.05132221  0.15841803 -0.16505075\n",
      "  0.25143152  0.1761244   0.1834964   0.14328592  0.04947448 -0.25164276\n",
      " -0.49051663  0.54755086 -0.30411965  0.25085327  0.17503786  0.13767435\n",
      "  0.02607295 -0.06913625 -0.41918325  1.0457077  -0.05953033  0.09149338\n",
      " -0.73371917 -0.1804911   0.07087918 -0.01273903  0.72640663  0.07944229\n",
      " -0.5044201  -0.02516374  0.2879404  -0.63965094  0.09296621 -0.1953493\n",
      " -0.1541572   0.14374834  0.02718512 -0.18239179  0.5108309  -0.21455716\n",
      " -0.3643484  -0.1278303  -0.12392832 -0.2584033  -0.03186791  0.35356143\n",
      " -0.2886001  -0.07033128  0.3936892  -0.6816492   0.42973363  0.12497605\n",
      " -0.26641634  0.32431707  0.32372466  0.3707874   0.29267862  0.15074605\n",
      " -0.15859933 -0.47102097 -0.29121444 -1.0132318  -0.3613643   0.09830233\n",
      " -0.02779831 -0.14787151 -0.60524035 -0.58084995 -0.1439813   0.2784991\n",
      " -0.08759783 -0.38044637 -0.10272805 -0.33016962 -0.45651692 -0.01823806\n",
      " -0.1259386   0.03444593  0.24746253 -0.27713147  0.6359057   0.06958685\n",
      "  0.22434872 -0.21993399  0.06367629 -0.18671635  0.38139245  0.13612667\n",
      " -0.3508166  -0.23278283 -0.3244425   0.08299538 -0.07381719 -0.38852763\n",
      " -0.05830082  0.5912257   0.04025395  0.25821793]\n"
     ]
    }
   ],
   "source": [
    "# What is the embedding for the 1st article?\n",
    "print('Original text: \\n', df.iloc[0]['original'], '\\n')\n",
    "print('Cleaned text: \\n', df.iloc[0]['clean'], '\\n')\n",
    "print('Embedding: \\n', embeddings[0, :])"
   ]
  },
  {
   "cell_type": "code",
   "execution_count": 6,
   "metadata": {},
   "outputs": [
    {
     "name": "stdout",
     "output_type": "stream",
     "text": [
      "Original texts: \n",
      " ['Monster Hunter Mii Fighters coming to Super Smash Bros. Ultimate - Polygon It’s good news/bad news for Monster Hunter fans who play Super Smash Bros. Ultimate. The latest batch of Mii Fighter DLC includes Monster Hunter- and Ghosts ’n Goblins-inspired costumes. New Mii Fighter costumes de-confirm a dedicated MonHun guest fighter'\n",
      " 'Sorry, Monster Hunter fans: Monster Hunter Mii Fighters are coming to Smash Bros. It’s good news/bad news for Monster Hunter fans who play Super Smash Bros. Ultimate. The latest batch of Mii Fighter DLC includes Monster Hunter- and Ghosts ’n Goblins-inspired costumes. Image: Nintendo  New Mii Fighter costumes ‘de-confirm’ a dedicated MonHun guest fighter  Continue reading'\n",
      " 'Monster Hunter Stories 2: Wings Of Ruin will land on PC in July - Rock Paper Shotgun Bond with your monsties and also your besties Capcom have hatched some good news for PC-playing Monster Hunter fans. The upcoming Monster Hunter Stories 2: Wings Of Ruin is launching on PC in July simultaneous with the Nintendo Switch release. D'\n",
      " 'Horizon Zero Dawn’s Aloy is coming to Fortnite Aloy, star of Horizon Zero Dawn on the PS4, will be the latest licensed character to join the cast of Fortnite when she’s added to the battle royale game on April 15th. Shell be available on April 15thAloy, star of Sonys 2017 open-world hit Horizon Zero Dawn, will soon be dropping on Fortnites battle royale island. The character will be available in the games item'\n",
      " 'Watch the new Super Smash Bros. gameplay reveal of Pyra and Mythra Game director Masahiro Sakurai presents Super Smash Bros. Ultimate’s new DLC fighters Pyra and Mythra from Xenoblade Chronicles 2. The new episode of Mr. Sakurai Presents starts at 9 a.m. ET/6 a.m. PT on Thursday, March 4. Image: Nintendo  Game director Masahiro Sakurai presents Ultimate’s new DLC  Continue reading'] \n",
      "\n",
      "Embeddings: \n",
      " [[ 0.22425303  0.31620178 -0.4054977  -0.05132221  0.15841803 -0.16505075\n",
      "   0.25143152  0.1761244   0.1834964   0.14328592  0.04947448 -0.25164276\n",
      "  -0.49051663  0.54755086 -0.30411965  0.25085327  0.17503786  0.13767435\n",
      "   0.02607295 -0.06913625 -0.41918325  1.0457077  -0.05953033  0.09149338\n",
      "  -0.73371917 -0.1804911   0.07087918 -0.01273903  0.72640663  0.07944229\n",
      "  -0.5044201  -0.02516374  0.2879404  -0.63965094  0.09296621 -0.1953493\n",
      "  -0.1541572   0.14374834  0.02718512 -0.18239179  0.5108309  -0.21455716\n",
      "  -0.3643484  -0.1278303  -0.12392832 -0.2584033  -0.03186791  0.35356143\n",
      "  -0.2886001  -0.07033128  0.3936892  -0.6816492   0.42973363  0.12497605\n",
      "  -0.26641634  0.32431707  0.32372466  0.3707874   0.29267862  0.15074605\n",
      "  -0.15859933 -0.47102097 -0.29121444 -1.0132318  -0.3613643   0.09830233\n",
      "  -0.02779831 -0.14787151 -0.60524035 -0.58084995 -0.1439813   0.2784991\n",
      "  -0.08759783 -0.38044637 -0.10272805 -0.33016962 -0.45651692 -0.01823806\n",
      "  -0.1259386   0.03444593  0.24746253 -0.27713147  0.6359057   0.06958685\n",
      "   0.22434872 -0.21993399  0.06367629 -0.18671635  0.38139245  0.13612667\n",
      "  -0.3508166  -0.23278283 -0.3244425   0.08299538 -0.07381719 -0.38852763\n",
      "  -0.05830082  0.5912257   0.04025395  0.25821793]\n",
      " [ 0.05467601  0.3027606  -0.2071748  -0.29932636  0.14924172 -0.19179247\n",
      "   0.18627891  0.08604924  0.02193929  0.1810054  -0.02385259 -0.45620897\n",
      "  -0.5305364   0.7440899  -0.29618245  0.32546276  0.15793346  0.2320661\n",
      "  -0.11251875 -0.05396651 -0.42313728  1.1718361   0.121771    0.16797782\n",
      "  -0.70631665  0.03929529  0.16345903  0.08350848  0.8709141   0.00861878\n",
      "  -0.6372033   0.02378351  0.14625701 -0.5790732   0.11934591 -0.11066073\n",
      "  -0.00507327  0.23963755  0.05168174 -0.19926853  0.5067097  -0.22736225\n",
      "  -0.36695972 -0.1631412   0.13677865 -0.03097915 -0.10869194  0.2982186\n",
      "  -0.23040901 -0.15605658  0.3889059  -0.60687304  0.4337795   0.09559751\n",
      "  -0.10548304  0.37061393  0.47092244  0.37973678  0.44032648  0.15951963\n",
      "  -0.01096468 -0.5651181  -0.32358193 -0.90617305 -0.05257364  0.12158612\n",
      "   0.09225209 -0.00314591 -0.60405034 -0.7372763  -0.40671223  0.17641906\n",
      "  -0.27227563 -0.36429438 -0.07267749 -0.34631693 -0.45764372 -0.02900705\n",
      "  -0.12560606 -0.1231683   0.26601157 -0.22753789  0.61610687  0.02666625\n",
      "   0.34216028 -0.0534354   0.02404272 -0.32752323  0.16728255  0.36912492\n",
      "  -0.25015268 -0.20452173 -0.3720691   0.03387298  0.01099503 -0.34319255\n",
      "  -0.09299345  0.5513916   0.13958244  0.21173851]\n",
      " [ 0.3085094   0.5604136  -0.4526595   0.3213519  -0.13496032  0.2015468\n",
      "   0.18720666  0.3079339   0.0824959   0.48061097 -0.1306424  -0.5196183\n",
      "  -0.5247555  -0.19205454 -0.17488739  0.20026468  0.19274426  0.2898499\n",
      "  -0.07820449  0.16152905 -0.31250086  0.81589466 -0.16932632  0.24575587\n",
      "  -0.3538373  -0.35705647  0.3645862   0.47487092  0.6476544   0.22002439\n",
      "  -0.37691456 -0.22111146  0.50667214 -0.31044823 -0.5019687   0.03544532\n",
      "  -0.40517375  0.16469893 -0.1874699   0.03397077  0.7274081  -0.3224278\n",
      "  -0.29960233 -0.02037896  0.01428127 -0.6458782  -0.14961396  0.4672722\n",
      "  -0.14360696  0.22867176  0.7471601  -0.11824199 -0.25226617  0.141436\n",
      "  -0.12268855  0.41698536  0.36922058  0.38496718  0.43315417 -0.21165696\n",
      "   0.0020457  -0.17285556 -0.30142877 -0.21156144 -0.30679274  0.47387382\n",
      "  -0.18890798 -0.26701814 -0.32350472 -0.15254487  0.08095984 -0.04199066\n",
      "   0.00186402 -0.16519089 -0.08678111 -0.33066893 -0.58742815 -0.01137799\n",
      "  -0.26889947 -0.07700154  0.5636464  -0.23186736  0.5484301  -0.1924208\n",
      "   0.13856724 -0.5750086  -0.20084856 -0.24102193  0.17403945  0.37147543\n",
      "  -0.26664066 -0.13849115  0.19915159  0.11132345 -0.25092173 -0.40195847\n",
      "  -0.37248966  0.18132384  0.47662035 -0.05583168]\n",
      " [-0.41663635  0.42526847 -0.2567988   0.40836444 -0.12821409 -0.3513263\n",
      "  -0.10901206  0.451138   -0.01391725 -0.42728126  0.35085547  0.25939968\n",
      "  -0.4181016   1.0611188  -0.23681308  0.13944726  0.42279598  0.17884229\n",
      "  -0.21926287  0.1165216  -0.3504621   1.0726544  -0.40248212  0.35608396\n",
      "  -0.8115056   0.06977456  0.2978265  -0.3246724   0.51054746 -0.00850856\n",
      "  -0.5507573   0.44039327 -0.00488445 -0.16158769 -0.02504529 -0.16489522\n",
      "   0.20572342 -0.00850929 -0.2755469  -0.14366089  0.5101975  -0.40636563\n",
      "  -0.59571093 -0.30225262 -0.21316493 -0.13602799 -0.23890646  0.5130457\n",
      "  -0.6095094   0.3966824   0.87270164 -0.4825552   0.2655429   0.10914747\n",
      "   0.22854033  0.31197542  0.24164812  0.49818444  0.58647937  0.33207667\n",
      "  -0.03669741  0.10242353 -0.3449411  -0.72131985 -0.02062919  0.22270624\n",
      "   0.05125216 -0.5910198  -0.5948201  -0.60158354  0.24174498  0.19826724\n",
      "  -0.3579062  -0.24097845 -0.35446715 -0.16297375 -0.22864231 -0.39721975\n",
      "  -0.06387898  0.44235808  0.12903863 -0.28996253 -0.07469228  0.10297766\n",
      "   0.12766154  0.01177926  0.1811677  -0.49023104  0.35511968  0.28079325\n",
      "  -0.15188135 -0.33500385  0.27745864 -0.40094534 -0.3225498  -0.46654782\n",
      "  -0.15306647  0.16221142 -0.23958158 -0.506112  ]\n",
      " [-0.5368952   0.7448738   0.19765499 -0.39953798 -0.04052285 -0.20205173\n",
      "  -0.07034601  0.3116687   0.16780202 -0.09148286 -0.09808882 -0.19594754\n",
      "  -0.60734767  0.64079773  0.11658047 -0.11620531  0.1687443  -0.01115935\n",
      "   0.16496925 -0.38686004 -0.7370532   1.0154883   0.01625357  0.22326404\n",
      "  -1.1709566   0.24398166  0.27067634 -0.07081825  0.04581978  0.362009\n",
      "  -0.31061366  0.05055995  0.00920776 -0.5457959  -0.74286765 -0.08695488\n",
      "  -0.3712735  -0.22556792  0.07423316 -0.10230061  0.29596302 -0.02024243\n",
      "  -0.68170977 -0.15517318  0.03338582 -0.02969907 -0.29749838  0.19235733\n",
      "  -0.5234966   0.25201184  0.12850802 -0.17927197  0.28412345  0.34813264\n",
      "  -0.37335703  0.416824   -0.14690836  0.00368429  0.07401173  0.24691105\n",
      "   0.35417515 -0.4225719  -0.4111016  -0.8287189  -0.05017651  0.23051658\n",
      "   0.12280224  0.2608942  -0.65424997 -0.16995971 -0.1471148   0.00244267\n",
      "  -0.08100624 -0.03475921 -0.08558983 -0.4607459  -0.3769571   0.13951701\n",
      "  -0.29382917 -0.16007294  0.22248301  0.00430738  0.30653903  0.44139028\n",
      "  -0.03279484 -0.34032443  0.03105863 -0.4375828  -0.06676021  0.004608\n",
      "  -0.0471122  -0.01734693 -0.19505292  0.05751727 -0.17085052  0.01532244\n",
      "  -0.20983231  0.05547785  0.16859719  0.2982226 ]]\n"
     ]
    }
   ],
   "source": [
    "# Finding the 5 most similar documents to the document above\n",
    "similarity = cosine_similarity(embeddings[0, :].reshape(1, -1), embeddings)\n",
    "arg_sort = np.argsort(similarity.flatten())[::-1]\n",
    "print('Original texts: \\n', df.iloc[arg_sort]['original'].head().values, '\\n')\n",
    "print('Embeddings: \\n', embeddings[arg_sort][:5])"
   ]
  },
  {
   "cell_type": "code",
   "execution_count": 7,
   "metadata": {},
   "outputs": [
    {
     "data": {
      "image/png": "[encoded data removed]",
      "text/plain": [
       "<Figure size 936x648 with 2 Axes>"
      ]
     },
     "metadata": {
      "needs_background": "light"
     },
     "output_type": "display_data"
    }
   ],
   "source": [
    "# Visualizing the feature vectors relationship between the close articles\n",
    "plt.figure(figsize=(13,9))\n",
    "sns.heatmap(embeddings[arg_sort][:5])\n",
    "plt.show()"
   ]
  },
  {
   "cell_type": "markdown",
   "metadata": {},
   "source": [
    "It looks that the related documents all have high values in dimension 21. Let's further investigate this dimension and see what other documents have high values in it. The same happens with dimension 24 and 63 with low values. Let's explore."
   ]
  },
  {
   "cell_type": "code",
   "execution_count": 8,
   "metadata": {},
   "outputs": [
    {
     "data": {
      "text/plain": [
       "array([\"Netflix wants in on streaming new blockbusters, signs exclusive deal with Sony - The A.V. Club Variety announced that Netflix has signed a deal with Sony that will give the streaming site rights to stream Sony's new releases, starting 2022. Netflix also gets to include older titles from Sony's library. When the next films in the Spider-Man, Venom, and Jumanji series leave theaters next year, theyll be heading to a new streaming home. Variety reports that Netflix has won a nearly two-year auction fo\",\n",
       "       'The Russo Brothers Directed the Latest ‘Fortnite’ Cinematic Opener (EXCLUSIVE) - Variety Anthony and Joe Russo are huge fans of “Fortnite” — and the filmmakers, known for their blockbuster Marvel movies, teamed with Epic Games to direct the cinematic opener for the popular battle royale game’s latest installment. Epic on Tuesday launched “Fortnit Anthony and Joe Russo are huge fans of “Fortnite” — and the filmmakers, known for their blockbuster Marvel movies, teamed with Epic Games to co-direct the cinematic opener for the popular battle roya',\n",
       "       'Releasing the Snyder Cut won’t end the calls to #ReleasetheSnyderCut - Polygon Next week, the fans clamoring for WB to #ReleaseTheSnyderCut will get their wish with the release of Zack Snyder’s Justice League on HBO Max. To them, the four-hour movie will right the perceived wrongs of a studio that compromised the director’s vision. For  Earlier this week, something funny happened on HBO Max. Some viewers claimed that when they went to stream the new Tom & Jerry movie, they got something very different: Zack Snyders Justice Leagu',\n",
       "       \"'Godzilla vs. Kong' box office sets global pandemic record - Los Angeles Times Warner Bros.' 'Godzilla Vs. Kong' debuted to $121.8 million in international markets, while Universal's 'Nobody' was solid in the U.S. This weekends international rollout of Warner Bros. Godzilla vs. Kong set a new pandemic record for a Hollywood film, a hopeful sign of an imminent return to moviegoing.The film, which opens in Nor\",\n",
       "       \"[AP] Russia says troop buildup near Ukraine is a response to NATO - The Associated Press MOSCOW (AP) — Russia's defense minister said Tuesday that the country's massive military buildup in the west was part of readiness drills amid what he described as threats from NATO. Defense... MOSCOW (AP) Russias defense minister said Tuesday that the countrys massive military buildup in the west was part of readiness drills amid what he described as threats from NATO.Defense Minister Se\",\n",
       "       \"Hogwarts Legacy Transgender Characters Will Be Part of Game – - /FILM Hogwarts Legacy transgender characters customization will be part of the Harry Potter video game's launch in 2022, per the development team. In what appears to be a direct refute of\\xa0Harry Potter creator\\xa0J.K. Rowling‘s poisonous transphobia, the\\xa0upcoming\\xa0Harry Potter video game\\xa0Hogwarts Legacy will allow players to customize their characte\",\n",
       "       \"Every one of Hulu's 'Into the Dark' horror movies, ranked Horror fans looking for their next great binge should head Into the Dark.\\xa0This week, Hulu's scary movie anthology wraps up its second season of holiday-centric horrors with Blood Moon, a chilling werewolf story celebrating the spring full moon (which yes, we Horror fans looking for their next great binge should head Into the Dark.\\xa0This week, Hulu's scary movie anthology wraps up its second season of holiday-centric horrors with Blood Moon, a chilling w\",\n",
       "       'New trailers: Without Remorse, Thunder Force, and a new teaser for The Falcon and The Winter Soldier Michael B. Jordan in Without Remorse, Melissa McCarthy and Octavia Spencer in Thunder Force, Colin Farrell in Voyagers and the next MCU/Disney Plus series The Falcon and The Winter Soldier Plus Voyagers, a sexy space flick where theyre all on drugsPhoto by AaronP/Bauer-Griffin/GC ImagesI had the end of WandaVision spoiled before I watched it because I basically work on the internet',\n",
       "       \"How to watch 'Godzilla vs. Kong' What: Godzilla vs. KongWhere to watch: In theaters and on HBO MaxPremiere date: March 31, 2021Get your popcorn ready: The first big huge titanic blockbuster of spring/summer 2021 is set to arrive in the form of Godzilla vs. Kong, the latest Warner Br What: Godzilla vs. KongWhere to watch: In theaters and on HBO MaxPremiere date: March 31, 2021Get your popcorn ready: The first bighuge titanic blockbuster of spring/summer 2021 is set to\",\n",
       "       'Lil Nas X and GOP South Dakota Gov Kristi Noem got into a Twitter fight over his Satan-themed sneaker range made with human blood Summary List PlacementLil Nas X hit argued with South Dakota Gov. Kristi Noem after the Republican seized on his Satan-themed sneaker range to warn that America is engaged in a battle for its soul.\\xa0The rapper announced over the weekend that he is releasing t Lil Nas X hit argued with South Dakota Gov. Kristi Noem after the Republican seized on his Satan-themed sneaker range to warn that America is engaged in a battle for its soul.\\xa0The rapper announced '],\n",
       "      dtype=object)"
      ]
     },
     "execution_count": 8,
     "metadata": {},
     "output_type": "execute_result"
    }
   ],
   "source": [
    "# Top 10 21st dimension articles\n",
    "df.iloc[np.argsort(embeddings[:, 21])[::-1]]['original'].head(10).values"
   ]
  },
  {
   "cell_type": "markdown",
   "metadata": {},
   "source": [
    "Dimension 21 seems to be about entertainment (movies, music, netflix, hule, hbo) with the exception of the article talking about Russia."
   ]
  },
  {
   "cell_type": "code",
   "execution_count": 9,
   "metadata": {},
   "outputs": [
    {
     "data": {
      "text/plain": [
       "array([\"Chicago review board releases body cam footage of fatal police shooting of 13-year-old boy Chicago's independent police review board on Thursday released the body camera footage of an officer's fatal shooting of 13-year-old Adam Toledo on March 29.The big picture: Tension continues to rise nationwide in response to police misconduct and racism. Thu Chicago's independent police review board on Thursday released the body camera footage of an officer's fatal shooting of 13-year-old Adam Toledo on March 29.The big picture: Tension continues to ri\",\n",
       "       \"Manhattan prosecutors are focusing their investigation on Trump's Seven Springs Estate in New York Manhattan investigators are reportedly focusing on Trump's Seven Springs estate in New York which he tried unsuccessfully to develop. New York prosecutors have intensified their investigation into Donald Trump's Seven Springs estate in New York as they continue to probe his finances, the Wall Street Journal reported.Investigators\",\n",
       "       'Schumer, Gillibrand Say Cuomo Should Resign Washington (AP) -- US Senate Leader Schumer, Sen. Gillibrand say NY Gov. Cuomo should resign amid mounting sexual misconduct allegations. Andrew Cuomo, governor of New YorkAllegationsWashington (AP) -- US Senate Leader Schumer, Sen. Gillibrand say NY Gov. Cuomo should resign amid mounting sexual misconduct allegations.Be',\n",
       "       \"Brian Hoyer might be the other piece to Jets' quarterback puzzle - New York Post  Now that the Jets are locked in on drafting their new, young starting quarterback, they are trying to figure out who his veteran backup will be. Brian Hoyer, who has played for seven teams over 12  Now that the Jets are locked in on drafting their new, young starting quarterback, they are trying to figure out who his veteran backup will be.Brian Hoyer, who has played for seven teams over 12 s\",\n",
       "       'Morgan Stanley Books Archegos Loss, but Profit Hits a High - The Wall Street Journal Morgan Stanley Books Archegos Loss, but Profit Hits a High\\xa0\\xa0The Wall Street JournalMorgan Stanley had $911 million in first-quarter losses tied to Archegos fund meltdown\\xa0\\xa0CNBCMorgan Stanley CEO James Gorman on the nearly $1 billi Morgan Stanley lost $911 million when Archegos Capital Management imploded last month, tarnishing a record-setting quarter for the Wall Street firm.The New York-based bank reaped big gains from the',\n",
       "       'News24.com | Root wants England to be \\'brave\\' against Indian spinners Joe Root has urged his England team to be \"braver\" and to free themselves from fear in the fourth and final Test against India starting on Thursday. Joe Root has urged his England team to be \"braver\" and to free themselves from fear in the fourth and final Test against India starting on Thursday.The tourists have sustained heavy defeats in the ',\n",
       "       'Talbot shines, Fiala scores in Wild shootout win over Knights - Reuters Cam Talbot made 35 saves and stopped all three shots in the shootout and Kevin Fiala scored the shootout winner as the Minnesota Wild defeated the Vegas Golden Knights 3-2 on Thursday night in Las Vegas. By Field Level MediaCam Talbot made 35 saves and stopped all three shots in the shootout and Kevin Fiala scored the shootout winner as the Minnesota Wild defeated the Vegas Golden Knights 3-2 on Th',\n",
       "       'French food group Danone keeps goals after weak start to 2021 - Reuters Danone on Tuesday kept its goal of returning to profitable growth in the second half of 2021 after posting a 3.3% fall in first quarter sales, as COVID-19 lockdowns continued to dent its bottled water and baby food sales. By Reuters StaffPARIS, April 20 (Reuters) - Danone on Tuesday kept its goal of returning to profitable growth in the second half of 2021 after posting a 3.3% fall in first quarter sales, as COVID-1',\n",
       "       'Indian shares gain on boost from tech stocks - Reuters Indian shares rose on Tuesday, supported by gains in IT stocks, while global equities advanced ahead of a slew of central bank meetings, starting with the U.S. Federal Reserve. By Reuters StaffBENGALURU, March 16 (Reuters) - Indian shares rose on Tuesday, supported by gains in IT stocks, while global equities advanced ahead of a slew of central bank meetings, starting wit',\n",
       "       'Jeff Bezos’ Earth Fund has a new leader Jeff Bezos named the new president and CEO of his Earth Fund. Andrew Steer will take the helm at the Earth Fund after leaving his role at one of the environmental organizations Bezos gave a grant to for its efforts on climate change. Were learning more about the future of Bezos climate-focused fundAndrew Steer speaks at the opening ceremony for New York Citys Climate Week in 2010.Jeff Bezos Earth Fund has a new leader and a n'],\n",
       "      dtype=object)"
      ]
     },
     "execution_count": 9,
     "metadata": {},
     "output_type": "execute_result"
    }
   ],
   "source": [
    "# Bottom 10 24th dimension articles\n",
    "df.iloc[np.argsort(embeddings[:, 24])]['original'].head(10).values"
   ]
  },
  {
   "cell_type": "markdown",
   "metadata": {},
   "source": [
    "Dimension 24 seems to be about US justice, sports, related articles"
   ]
  },
  {
   "cell_type": "code",
   "execution_count": 10,
   "metadata": {},
   "outputs": [
    {
     "data": {
      "text/plain": [
       "array(['Lil Nas X and GOP South Dakota Gov Kristi Noem got into a Twitter fight over his Satan-themed sneaker range made with human blood Summary List PlacementLil Nas X hit argued with South Dakota Gov. Kristi Noem after the Republican seized on his Satan-themed sneaker range to warn that America is engaged in a battle for its soul.\\xa0The rapper announced over the weekend that he is releasing t Lil Nas X hit argued with South Dakota Gov. Kristi Noem after the Republican seized on his Satan-themed sneaker range to warn that America is engaged in a battle for its soul.\\xa0The rapper announced ',\n",
       "       \"Chipotle goes glam with new beauty collaboration, with an eye toward Gen Z consumers - Yahoo Finance Here's why a Chipotle and e.l.f. beauty collaboration just makes sense. Chipotle (CMG) and e.l.f. Beauty (ELF) have come together yet again to serve up a makeup collection with a key audience in mind - Generation Z.The new collaboration, dubbed 'e.l.f x Chipotle,' incl\",\n",
       "       'TIME and The Harris Poll Partner for Exclusive Polling Data on America’s Most Pressing Health Topics (New York, NY — April 2, 2021) — TIME and The Harris Poll have partnered for a series of exclusive polls focusing on consumer health behavior and confidence during the coronavirus pandemic and vaccine rollout. The partnership will provide data-driven insights (New York, NY — April 2, 2021) — TIME and The Harris Poll have partnered for a series of exclusive polls focusing on consumer health behavior and confidence during the coronavirus pandemic and vaccin',\n",
       "       \"Facebook invests in audio with short-form Soundbites feature, podcast support, and a Clubhouse clone Facebook today officially announced a suite of new audio products -- an indication that it's taking the threat from Clubhouse and other audio platforms more ... (Bloomberg) -- China Evergrande New Energy Vehicle Group Ltd.s expansive pop-up showroom sits at the heart of Shanghais National Exhibition and Convention Center. With nine models on display, its har\",\n",
       "       'Personal care brand Vedix aims to clock Rs 500 crore revenue over the next five years Vedix has already served a million customers and every month, the brand continues to add about 50,000 new customers, Vedix Business Head Jatin Gujrati said, adding that repeat purchase on the platform is about 60-65 per cent. Direct to consumers (D2C) personal care brand Vedix aims to grow its revenue by more than four-fold to Rs 500 crore over the next five years as it adds more products to its portfolio, expands its rea',\n",
       "       'Facebook stock surges as Mark Zuckerberg downplays Apple privacy clampdown - New York Post  Facebook shares jumped Friday after Mark Zuckerberg played down the risk that the social media giant faces in an upcoming change to Apple’s privacy policies. “I’m confident that we’re gonna b Facebook shares jumped Friday after Mark Zuckerberg played down the risk that the social media giant faces in an upcoming change to Apple’s privacy policies. Im confident that were gonna be able to',\n",
       "       'Just Cavalli watches to expand footprint in India via distribution Founder and CEO of Time Management Services, the parent company of the Italian Brand Just Cavali, Marco Sieber said, “We stand for diversity, and are daring to be different in terms of products, design and expression colours.” Just Cavallis India retail partner and distributors AP Group has announced that it will spend $2 million in its expansion plans to make 200 points of sale available for its watch division in the comi',\n",
       "       '50 years ago today, Ali and Frazier stepped into the ring and delivered a divided nation its greatest sporting - Deadspin Professional boxing had come a long way in the half-century that preceded March 8, 1971, the night Joe Frazier and Muhammad Ali stepped into the Madison Square Garden ring for what remains history’s greatest heavyweight championship fight. Professional boxing had come a long way in the half-century that preceded March 8, 1971, the night Joe Frazier and Muhammad Ali stepped into the Madison Square Garden ring for what remains historys g',\n",
       "       \"Tencent's Timi gaming studio generated $10 billion in 2020, sources say - Financial Post Chinese tech giant Tencent’s Timi Studios, maker of popular video games Honor of Kings and Call of Duty Mobile, generated revenue of $10 billion last year, two Article contentChinese tech giant Tencents Timi Studios, maker of popular video games Honor of Kings and Call of Duty Mobile, generated revenue of $10 billion last year, two people with direct know\",\n",
       "       'Alamo Drafthouse Files for Chapter 11, Announces Sale to Altamont Capital, Fortress Investment - Variety Alamo Drafthouse Cinema, the Texas-based theater chain that has become a favorite with cinephiles for its dine-in service and fan-forward approach to exhibition, has filed for Chapter 11. The bankruptcy filing comes as part of an asset purchase agreement with Alamo Drafthouse Cinema, the Texas-based theater chain that has become a favorite with cinephiles for its dine-in service and fan-forward approach to exhibition, has filed for Chapter 11. The bankrup'],\n",
       "      dtype=object)"
      ]
     },
     "execution_count": 10,
     "metadata": {},
     "output_type": "execute_result"
    }
   ],
   "source": [
    "# Bottom 10 63rd dimension articles\n",
    "df.iloc[np.argsort(embeddings[:, 63])]['original'].head(10).values"
   ]
  },
  {
   "cell_type": "markdown",
   "metadata": {},
   "source": [
    "## Testing SBERT"
   ]
  },
  {
   "cell_type": "code",
   "execution_count": 11,
   "metadata": {},
   "outputs": [
    {
     "data": {
      "application/vnd.jupyter.widget-view+json": {
       "model_id": "2dcb89c7209e4a8f9d5575582a5fcfd5",
       "version_major": 2,
       "version_minor": 0
      },
      "text/plain": [
       "  0%|          | 0.00/305M [00:00<?, ?B/s]"
      ]
     },
     "metadata": {},
     "output_type": "display_data"
    },
    {
     "name": "stdout",
     "output_type": "stream",
     "text": [
      "cuda:0\n"
     ]
    }
   ],
   "source": [
    "# SBERT model\n",
    "model = SentenceTransformer('paraphrase-distilroberta-base-v2')\n",
    "\n",
    "# Check if CUDA is available and switch to GPU (optional - it detects automatically)\n",
    "if torch.cuda.is_available():\n",
    "    model = model.to(torch.device(\"cuda\"))\n",
    "print(model.device)\n",
    "\n",
    "# Encode all sentences - this will require a substancial amount of RAM\n",
    "embeddings = model.encode(df['original'].tolist())"
   ]
  },
  {
   "cell_type": "code",
   "execution_count": 12,
   "metadata": {},
   "outputs": [],
   "source": [
    "# Compute cosine similarity between all pairs\n",
    "cos_sim = util.pytorch_cos_sim(embeddings, embeddings)"
   ]
  },
  {
   "cell_type": "code",
   "execution_count": null,
   "metadata": {},
   "outputs": [],
   "source": [
    "# Get top K most similar documents\n",
    "top_values, flat_idx = torch.topk((cos_sim - torch.eye(cos_sim.shape[0])).flatten(), 1000, largest=True)\n",
    "orig_idx = [np.unravel_index(i, cos_sim.shape) for i in flat_idx]\n",
    "\n",
    "print(\"Top-1000 most similar pairs:\")\n",
    "for v, (i, j) in zip(top_values, orig_idx):\n",
    "    print(\"{} \\t {} \\t {:.4f} \\n\".format(df['original'].iloc[i], df['original'].iloc[j], v))"
   ]
  },
  {
   "cell_type": "code",
   "execution_count": null,
   "metadata": {},
   "outputs": [],
   "source": [
    "# What is the embedding for the 1st article?\n",
    "print('Original text: \\n', df.iloc[0]['original'], '\\n')\n",
    "print('Embedding: \\n', embeddings[0, :])"
   ]
  },
  {
   "cell_type": "code",
   "execution_count": null,
   "metadata": {},
   "outputs": [],
   "source": [
    "# Finding the 5 most similar documents to the document above\n",
    "arg_sort = torch.topk(cos_sim[0], 5).indices\n",
    "print('Original texts: \\n', df.iloc[arg_sort]['original'].values, '\\n')\n",
    "print('Embeddings: \\n', embeddings[arg_sort])"
   ]
  },
  {
   "cell_type": "code",
   "execution_count": null,
   "metadata": {},
   "outputs": [],
   "source": [
    "# Visualizing the feature vectors relationship between the close articles\n",
    "plt.figure(figsize=(13,9))\n",
    "sns.heatmap(embeddings[arg_sort])\n",
    "plt.show()"
   ]
  },
  {
   "cell_type": "code",
   "execution_count": null,
   "metadata": {},
   "outputs": [],
   "source": []
  }
 ],
 "metadata": {
  "kernelspec": {
   "display_name": "Python 3 (ipykernel)",
   "language": "python",
   "name": "python3"
  },
  "language_info": {
   "codemirror_mode": {
    "name": "ipython",
    "version": 3
   },
   "file_extension": ".py",
   "mimetype": "text/x-python",
   "name": "python",
   "nbconvert_exporter": "python",
   "pygments_lexer": "ipython3",
   "version": "3.7.11"
  }
 },
 "nbformat": 4,
 "nbformat_minor": 4
}
