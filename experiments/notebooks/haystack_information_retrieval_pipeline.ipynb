{
 "cells": [
  {
   "cell_type": "markdown",
   "metadata": {},
   "source": [
    "# Testing Vector index and search with Haystack"
   ]
  },
  {
   "cell_type": "code",
   "execution_count": 1,
   "metadata": {
    "pycharm": {
     "name": "#%%\n"
    }
   },
   "outputs": [
    {
     "name": "stdout",
     "output_type": "stream",
     "text": [
      "Sun Jul  4 15:01:02 2021       \r\n",
      "+-----------------------------------------------------------------------------+\r\n",
      "| NVIDIA-SMI 465.31       Driver Version: 465.31       CUDA Version: 11.3     |\r\n",
      "|-------------------------------+----------------------+----------------------+\r\n",
      "| GPU  Name        Persistence-M| Bus-Id        Disp.A | Volatile Uncorr. ECC |\r\n",
      "| Fan  Temp  Perf  Pwr:Usage/Cap|         Memory-Usage | GPU-Util  Compute M. |\r\n",
      "|                               |                      |               MIG M. |\r\n",
      "|===============================+======================+======================|\r\n",
      "|   0  NVIDIA GeForce ...  Off  | 00000000:01:00.0  On |                  N/A |\r\n",
      "| N/A   56C    P0    20W /  N/A |     55MiB /  5934MiB |     40%      Default |\r\n",
      "|                               |                      |                  N/A |\r\n",
      "+-------------------------------+----------------------+----------------------+\r\n",
      "                                                                               \r\n",
      "+-----------------------------------------------------------------------------+\r\n",
      "| Processes:                                                                  |\r\n",
      "|  GPU   GI   CI        PID   Type   Process name                  GPU Memory |\r\n",
      "|        ID   ID                                                   Usage      |\r\n",
      "|=============================================================================|\r\n",
      "+-----------------------------------------------------------------------------+\r\n"
     ]
    }
   ],
   "source": [
    "# Make sure you have a GPU running\n",
    "! nvidia-smi"
   ]
  },
  {
   "cell_type": "code",
   "execution_count": 2,
   "metadata": {},
   "outputs": [
    {
     "name": "stderr",
     "output_type": "stream",
     "text": [
      "07/04/2021 15:01:05 - INFO - faiss.loader -   Loading faiss with AVX2 support.\n",
      "07/04/2021 15:01:05 - INFO - faiss.loader -   Could not load library with AVX2 support due to:\n",
      "ModuleNotFoundError(\"No module named 'faiss.swigfaiss_avx2'\")\n",
      "07/04/2021 15:01:05 - INFO - faiss.loader -   Loading faiss.\n",
      "07/04/2021 15:01:05 - INFO - faiss.loader -   Successfully loaded faiss.\n",
      "07/04/2021 15:01:05 - INFO - farm.modeling.prediction_head -   Better speed can be achieved with apex installed from https://www.github.com/nvidia/apex .\n"
     ]
    }
   ],
   "source": [
    "import os\n",
    "import pandas as pd\n",
    "from haystack.document_store.elasticsearch import OpenDistroElasticsearchDocumentStore\n",
    "from haystack.retriever import EmbeddingRetriever\n",
    "from haystack.reader.transformers import TransformersReader\n",
    "from haystack.pipeline import ExtractiveQAPipeline\n",
    "from haystack.utils import print_answers\n",
    "\n",
    "from src import PROJECT_ROOT"
   ]
  },
  {
   "cell_type": "code",
   "execution_count": 3,
   "metadata": {},
   "outputs": [],
   "source": [
    "from typing import List, Optional\n",
    "from haystack import Document\n",
    "from haystack.reader.base import BaseReader\n",
    "\n",
    "class CrossEncoderReRanker(BaseReader):\n",
    "    \"\"\"\n",
    "    A re-ranker based on a BERT Cross-Encoder. The query and a candidate result are passed\n",
    "    simoultaneously to the trasnformer network, which then output a single score between\n",
    "    0 and 1 indicating how relevant the document is for the given query. Read the article\n",
    "    in https://www.sbert.net/examples/applications/retrieve_rerank/README.html for further\n",
    "    details.\n",
    "    \"\"\"\n",
    "\n",
    "    def __init__(\n",
    "        self,\n",
    "        cross_encoder: str = \"cross-encoder/ms-marco-TinyBERT-L-6\",\n",
    "        use_gpu: int = True,\n",
    "        top_k: int = 10\n",
    "    ):\n",
    "        \"\"\"\n",
    "        :param cross_encoder: Local path or name of cross-encoder model in Hugging Face's model hub such as ``'cross-encoder/ms-marco-TinyBERT-L-6'``\n",
    "        :param use_gpu: If < 0, then use cpu. If >= 0, this is the ordinal of the gpu to use\n",
    "        :param top_k: The maximum number of answers to return\n",
    "        \"\"\"\n",
    "\n",
    "        # # save init parameters to enable export of component config as YAML\n",
    "        # self.set_config(\n",
    "        #     cross_encoder=cross_encoder, use_gpu=use_gpu, top_k=top_k\n",
    "        # )\n",
    "\n",
    "        self.top_k = top_k\n",
    "\n",
    "        try:\n",
    "            from sentence_transformers import CrossEncoder\n",
    "        except ImportError:\n",
    "            raise ImportError(\"Can't find package `sentence-transformers` \\n\"\n",
    "                              \"You can install it via `pip install sentence-transformers` \\n\"\n",
    "                              \"For details see https://github.com/UKPLab/sentence-transformers \")\n",
    "        # pretrained embedding models coming from: https://github.com/UKPLab/sentence-transformers#pretrained-models\n",
    "        if use_gpu:\n",
    "            device = \"cuda\"\n",
    "        else:\n",
    "            device = \"cpu\"\n",
    "        self.cross_encoder = CrossEncoder(cross_encoder, device=device)\n",
    "\n",
    "    def predict(self, query: str, documents: List[Document], top_k: Optional[int] = None):\n",
    "        \"\"\"\n",
    "        Use the cross-encoder to find answers for a query in the supplied list of Document.\n",
    "        Returns dictionaries containing answers sorted by (desc.) probability.\n",
    "        Example:\n",
    "         ```python\n",
    "            |{\n",
    "            |    'query': 'What is the capital of the United States?',\n",
    "            |    'answers':[\n",
    "            |                 {'answer': 'Washington, D.C. (also known as simply Washington or D.C., \n",
    "            |                  and officially as the District of Columbia) is the capital of \n",
    "            |                  the United States. It is a federal district. The President of \n",
    "            |                  the USA and many major national government offices are in the \n",
    "            |                  territory. This makes it the political center of the United \n",
    "            |                  States of America.',\n",
    "            |                 'score': 0.717,\n",
    "            |                 'document_id': 213\n",
    "            |                 },...\n",
    "            |              ]\n",
    "            |}\n",
    "         ```\n",
    "        :param query: Query string\n",
    "        :param documents: List of Document in which to search for the answer\n",
    "        :param top_k: The maximum number of answers to return\n",
    "        :return: Dict containing query and answers\n",
    "        \"\"\"\n",
    "        if top_k is None:\n",
    "            top_k = self.top_k\n",
    "\n",
    "        # Score every document with the cross_encoder\n",
    "        cross_inp = [[query, doc.text] for doc in documents]\n",
    "        cross_scores = self.cross_encoder.predict(cross_inp)\n",
    "        answers = [\n",
    "            {\n",
    "                'answer': documents[idx].text, \n",
    "                'score': cross_scores[idx],\n",
    "                'document_id': documents[idx].id,\n",
    "                'meta': documents[idx].meta\n",
    "            }\n",
    "            for idx in range(len(documents))\n",
    "        ]\n",
    "\n",
    "        # Sort answers by the cross-encoder scores and select top-k\n",
    "        answers = sorted(\n",
    "            answers, key=lambda k: k[\"score\"], reverse=True\n",
    "        )\n",
    "        answers = answers[:top_k]\n",
    "\n",
    "        results = {\"query\": query,\n",
    "                   \"answers\": answers}\n",
    "\n",
    "        return results\n",
    "\n",
    "    def predict_batch(self, query_doc_list: List[dict], top_k: Optional[int] = None,  batch_size: Optional[int] = None):\n",
    "        raise NotImplementedError(\"Batch prediction not yet available in CrossEncoderReRanker.\")"
   ]
  },
  {
   "cell_type": "markdown",
   "metadata": {},
   "source": [
    "## Document Store\n",
    "\n",
    "Haystack finds answers to queries within the documents stored in a `DocumentStore`. In this example we will be using `OpenDistroElasticsearchDocumentStore` for its reliablity and compatibility with dense vector queries.\n",
    "\n",
    "### Start an Elasticsearch server\n",
    "You can start Elasticsearch on your local machine instance using Docker. If Docker is not readily available in your environment (eg., in Colab notebooks), then you can manually download and execute Elasticsearch from source."
   ]
  },
  {
   "cell_type": "code",
   "execution_count": 4,
   "metadata": {},
   "outputs": [],
   "source": [
    "# Recommended: Start Elasticsearch using Docker\n",
    "#! docker run -d -p 9200:9200 -p 9600:9600 -e \"discovery.type=single-node\" amazon/opendistro-for-elasticsearch:1.13.2"
   ]
  },
  {
   "cell_type": "code",
   "execution_count": 5,
   "metadata": {
    "pycharm": {
     "name": "#%%\n"
    },
    "scrolled": true
   },
   "outputs": [
    {
     "name": "stderr",
     "output_type": "stream",
     "text": [
      "/usr/local/lib/python3.7/dist-packages/elasticsearch/connection/http_urllib3.py:206: UserWarning: Connecting to https://odfe-node1:9200 using SSL with verify_certs=False is insecure.\n",
      "  % self.host\n",
      "/usr/lib/python3/dist-packages/urllib3/connectionpool.py:1006: InsecureRequestWarning: Unverified HTTPS request is being made to host 'odfe-node1'. Adding certificate verification is strongly advised. See: https://urllib3.readthedocs.io/en/latest/advanced-usage.html#ssl-warnings\n",
      "  InsecureRequestWarning,\n",
      "07/04/2021 15:01:06 - INFO - elasticsearch -   HEAD https://odfe-node1:9200/ [status:200 request:0.039s]\n",
      "/usr/lib/python3/dist-packages/urllib3/connectionpool.py:1006: InsecureRequestWarning: Unverified HTTPS request is being made to host 'odfe-node1'. Adding certificate verification is strongly advised. See: https://urllib3.readthedocs.io/en/latest/advanced-usage.html#ssl-warnings\n",
      "  InsecureRequestWarning,\n",
      "07/04/2021 15:01:06 - WARNING - elasticsearch -   PUT https://odfe-node1:9200/document [status:400 request:0.007s]\n",
      "/usr/lib/python3/dist-packages/urllib3/connectionpool.py:1006: InsecureRequestWarning: Unverified HTTPS request is being made to host 'odfe-node1'. Adding certificate verification is strongly advised. See: https://urllib3.readthedocs.io/en/latest/advanced-usage.html#ssl-warnings\n",
      "  InsecureRequestWarning,\n",
      "07/04/2021 15:01:06 - INFO - elasticsearch -   HEAD https://odfe-node1:9200/document [status:200 request:0.007s]\n",
      "/usr/lib/python3/dist-packages/urllib3/connectionpool.py:1006: InsecureRequestWarning: Unverified HTTPS request is being made to host 'odfe-node1'. Adding certificate verification is strongly advised. See: https://urllib3.readthedocs.io/en/latest/advanced-usage.html#ssl-warnings\n",
      "  InsecureRequestWarning,\n",
      "07/04/2021 15:01:06 - INFO - elasticsearch -   HEAD https://odfe-node1:9200/label [status:200 request:0.004s]\n",
      "/usr/lib/python3/dist-packages/urllib3/connectionpool.py:1006: InsecureRequestWarning: Unverified HTTPS request is being made to host 'odfe-node1'. Adding certificate verification is strongly advised. See: https://urllib3.readthedocs.io/en/latest/advanced-usage.html#ssl-warnings\n",
      "  InsecureRequestWarning,\n",
      "07/04/2021 15:01:06 - INFO - elasticsearch -   POST https://odfe-node1:9200/document/_count [status:200 request:0.011s]\n"
     ]
    },
    {
     "name": "stdout",
     "output_type": "stream",
     "text": [
      "Document Store has 336389 documents.\n"
     ]
    }
   ],
   "source": [
    "# Connect to ODElasticsearch instance (needs to be changed for security reasons)\n",
    "document_store = OpenDistroElasticsearchDocumentStore(host='odfe-node1', \n",
    "                                                      username='admin', \n",
    "                                                      password='admin', \n",
    "                                                      scheme='https', \n",
    "                                                      verify_certs=False,\n",
    "                                                      similarity='cosine',\n",
    "                                                      return_embedding=True)\n",
    "print(f\"Document Store has {document_store.get_document_count()} documents.\")"
   ]
  },
  {
   "cell_type": "markdown",
   "metadata": {
    "pycharm": {
     "name": "#%% md\n"
    }
   },
   "source": [
    "## Preprocessing and writing documents\n",
    "\n",
    "Haystack provides a customizable pipeline for:\n",
    " - converting files into texts\n",
    " - cleaning texts\n",
    " - splitting texts\n",
    " - writing them to a Document Store\n",
    "\n",
    "In this example, we load the news articles from NewsAPI, apply a basic cleaning function, and index them in ODElasticsearch."
   ]
  },
  {
   "cell_type": "code",
   "execution_count": 6,
   "metadata": {},
   "outputs": [
    {
     "data": {
      "text/html": [
       "<div>\n",
       "<style scoped>\n",
       "    .dataframe tbody tr th:only-of-type {\n",
       "        vertical-align: middle;\n",
       "    }\n",
       "\n",
       "    .dataframe tbody tr th {\n",
       "        vertical-align: top;\n",
       "    }\n",
       "\n",
       "    .dataframe thead th {\n",
       "        text-align: right;\n",
       "    }\n",
       "</style>\n",
       "<table border=\"1\" class=\"dataframe\">\n",
       "  <thead>\n",
       "    <tr style=\"text-align: right;\">\n",
       "      <th></th>\n",
       "      <th>collection</th>\n",
       "      <th>datetime</th>\n",
       "      <th>topic</th>\n",
       "      <th>original</th>\n",
       "      <th>split</th>\n",
       "      <th>clean</th>\n",
       "    </tr>\n",
       "  </thead>\n",
       "  <tbody>\n",
       "    <tr>\n",
       "      <th>0</th>\n",
       "      <td>top_headlines</td>\n",
       "      <td>2021-04-18T06:25:29</td>\n",
       "      <td>sports</td>\n",
       "      <td>Barcelona Scores Four Goals in 12-Minute Span to Win Copa del Rey - Sports I...</td>\n",
       "      <td>train</td>\n",
       "      <td>barcelona score four goal 12minut span win copa del rey sport illustr barcel...</td>\n",
       "    </tr>\n",
       "    <tr>\n",
       "      <th>1</th>\n",
       "      <td>top_headlines</td>\n",
       "      <td>2021-03-25T22:25:31</td>\n",
       "      <td>business</td>\n",
       "      <td>Olive Garden parent's earnings beat, forecasts stronger sales next quarter -...</td>\n",
       "      <td>train</td>\n",
       "      <td>oliv garden parent earn beat forecast stronger sale next quarter cnbc darden...</td>\n",
       "    </tr>\n",
       "    <tr>\n",
       "      <th>2</th>\n",
       "      <td>everything</td>\n",
       "      <td>2021-03-03T14:25:31</td>\n",
       "      <td>technology</td>\n",
       "      <td>A new RPG from the creator of Final Fantasy is coming to Apple Arcade It’s d...</td>\n",
       "      <td>train</td>\n",
       "      <td>new rpg creator final fantasi come appl arcad diorama meet final fantasi fir...</td>\n",
       "    </tr>\n",
       "    <tr>\n",
       "      <th>3</th>\n",
       "      <td>everything</td>\n",
       "      <td>2021-04-15T06:25:30</td>\n",
       "      <td>technology</td>\n",
       "      <td>These are the spectacular winners of the Sony World Photography Awards The w...</td>\n",
       "      <td>train</td>\n",
       "      <td>spectacular winner soni world photographi award winner soni world photograph...</td>\n",
       "    </tr>\n",
       "    <tr>\n",
       "      <th>4</th>\n",
       "      <td>top_headlines</td>\n",
       "      <td>2021-03-11T14:25:30</td>\n",
       "      <td>sports</td>\n",
       "      <td>Sam Darnold Landing Spots: Trade partners for the Jets QB - Pro Football Net...</td>\n",
       "      <td>train</td>\n",
       "      <td>sam darnold land spot trade partner jet qb pro footbal network nfl continu w...</td>\n",
       "    </tr>\n",
       "  </tbody>\n",
       "</table>\n",
       "</div>"
      ],
      "text/plain": [
       "      collection             datetime       topic  \\\n",
       "0  top_headlines  2021-04-18T06:25:29      sports   \n",
       "1  top_headlines  2021-03-25T22:25:31    business   \n",
       "2     everything  2021-03-03T14:25:31  technology   \n",
       "3     everything  2021-04-15T06:25:30  technology   \n",
       "4  top_headlines  2021-03-11T14:25:30      sports   \n",
       "\n",
       "                                                                          original  \\\n",
       "0  Barcelona Scores Four Goals in 12-Minute Span to Win Copa del Rey - Sports I...   \n",
       "1  Olive Garden parent's earnings beat, forecasts stronger sales next quarter -...   \n",
       "2  A new RPG from the creator of Final Fantasy is coming to Apple Arcade It’s d...   \n",
       "3  These are the spectacular winners of the Sony World Photography Awards The w...   \n",
       "4  Sam Darnold Landing Spots: Trade partners for the Jets QB - Pro Football Net...   \n",
       "\n",
       "   split  \\\n",
       "0  train   \n",
       "1  train   \n",
       "2  train   \n",
       "3  train   \n",
       "4  train   \n",
       "\n",
       "                                                                             clean  \n",
       "0  barcelona score four goal 12minut span win copa del rey sport illustr barcel...  \n",
       "1  oliv garden parent earn beat forecast stronger sale next quarter cnbc darden...  \n",
       "2  new rpg creator final fantasi come appl arcad diorama meet final fantasi fir...  \n",
       "3  spectacular winner soni world photographi award winner soni world photograph...  \n",
       "4  sam darnold land spot trade partner jet qb pro footbal network nfl continu w...  "
      ]
     },
     "execution_count": 6,
     "metadata": {},
     "output_type": "execute_result"
    }
   ],
   "source": [
    "data_file = os.path.join(PROJECT_ROOT, \"data\",\"processed\", \"newsapi_docs.csv\")\n",
    "df = pd.read_csv(data_file, header=None, names=['collection', 'datetime', 'topic', 'original', 'split', 'clean'])\n",
    "df.head()"
   ]
  },
  {
   "cell_type": "code",
   "execution_count": 7,
   "metadata": {},
   "outputs": [
    {
     "data": {
      "text/plain": [
       "<AxesSubplot:>"
      ]
     },
     "execution_count": 7,
     "metadata": {},
     "output_type": "execute_result"
    },
    {
     "data": {
      "image/png": "[encoded data removed]",
      "text/plain": [
       "<Figure size 432x288 with 1 Axes>"
      ]
     },
     "metadata": {
      "needs_background": "light"
     },
     "output_type": "display_data"
    }
   ],
   "source": [
    "# Checking number of word distribution\n",
    "df['original'].apply(lambda x: len(x.strip().split(\" \"))).plot(kind='box')"
   ]
  },
  {
   "cell_type": "code",
   "execution_count": 8,
   "metadata": {},
   "outputs": [
    {
     "name": "stdout",
     "output_type": "stream",
     "text": [
      "[{'text': 'Barcelona Scores Four Goals in 12-Minute Span to Win Copa del Rey - Sports Illustrated Barcelona dominated Athletic Bilbao on Saturday by a 4–0 score, with two goals scored by Lionel Messi. Barcelona dominated Athletic Bilbao on Saturday 4–0 to win the Copa del Rey with all four goals coming in the span of just 12 minutes.\\xa0Forward Antoine Griezmann was the first to draw blood in the 6', 'meta': {'collection': 'top_headlines', 'datetime': '2021-04-18T06:25:29', 'topic': 'sports'}}, {'text': \"Olive Garden parent's earnings beat, forecasts stronger sales next quarter - CNBC Darden Restaurants stock surges after the company reported quarterly\\xa0earnings\\xa0that topped analysts' expectations. Darden Restaurants on Thursday reported quarterly\\xa0earnings\\xa0that topped analysts' expectations as customers visited Olive Garden and its other chains more than expected.The company is forecasting th\", 'meta': {'collection': 'top_headlines', 'datetime': '2021-03-25T22:25:31', 'topic': 'business'}}, {'text': 'A new RPG from the creator of Final Fantasy is coming to Apple Arcade It’s dioramas meet Final Fantasy. That’s the first takeaway from Fantasian, a new game from Mistwalker, the studio responsible for the Blue Dragon series and The Last One.According to the early teaser and a few comments made in a Polygon interview b... Its dioramas meet Final Fantasy. Thats the first takeaway from Fantasian, a new game from Mistwalker, the studio responsible for the Blue Dragon series and The Last One.According to the early tease', 'meta': {'collection': 'everything', 'datetime': '2021-03-03T14:25:31', 'topic': 'technology'}}]\n"
     ]
    }
   ],
   "source": [
    "# We don't need to split since the texts are short\n",
    "dicts = []\n",
    "for _, data in df.iterrows():\n",
    "    dicts.append({'text': data['original'], 'meta': data[['collection', 'datetime', 'topic']].to_dict()})\n",
    "    \n",
    "# Let's have a look at the first 3 entries:\n",
    "print(dicts[:3])\n",
    "\n",
    "# Now, let's write the dicts containing documents to our DB.\n",
    "# document_store.write_documents(dicts)"
   ]
  },
  {
   "cell_type": "markdown",
   "metadata": {},
   "source": [
    "## Initalize Retriever and Reader\n",
    "\n",
    "### Retriever\n",
    "\n",
    "Retrievers help narrowing down the scope for the Reader to smaller units of text where a given question could be answered.\n",
    "They use some simple but fast algorithm.\n",
    "\n",
    "We use the EmbeddingRetriever with SBERT."
   ]
  },
  {
   "cell_type": "code",
   "execution_count": 9,
   "metadata": {},
   "outputs": [
    {
     "name": "stderr",
     "output_type": "stream",
     "text": [
      "07/04/2021 15:01:42 - INFO - haystack.retriever.dense -   Init retriever using embeddings of model sentence-transformers/msmarco-distilbert-base-v2\n",
      "07/04/2021 15:01:42 - INFO - farm.utils -   Using device: CUDA \n",
      "07/04/2021 15:01:42 - INFO - farm.utils -   Number of GPUs: 1\n",
      "07/04/2021 15:01:42 - INFO - farm.utils -   Distributed Training: False\n",
      "07/04/2021 15:01:42 - INFO - farm.utils -   Automatic Mixed Precision: None\n",
      "07/04/2021 15:01:52 - WARNING - farm.utils -   ML Logging is turned off. No parameters, metrics or artifacts will be logged to MLFlow.\n",
      "07/04/2021 15:01:52 - INFO - farm.utils -   Using device: CUDA \n",
      "07/04/2021 15:01:52 - INFO - farm.utils -   Number of GPUs: 1\n",
      "07/04/2021 15:01:52 - INFO - farm.utils -   Distributed Training: False\n",
      "07/04/2021 15:01:52 - INFO - farm.utils -   Automatic Mixed Precision: None\n",
      "07/04/2021 15:01:52 - INFO - haystack.document_store.elasticsearch -   Updating embeddings for new docs without embeddings ...\n",
      "/usr/lib/python3/dist-packages/urllib3/connectionpool.py:1006: InsecureRequestWarning: Unverified HTTPS request is being made to host 'odfe-node1'. Adding certificate verification is strongly advised. See: https://urllib3.readthedocs.io/en/latest/advanced-usage.html#ssl-warnings\n",
      "  InsecureRequestWarning,\n",
      "07/04/2021 15:01:53 - INFO - elasticsearch -   POST https://odfe-node1:9200/document/_search?scroll=1d&size=10000 [status:200 request:0.011s]\n",
      "/usr/lib/python3/dist-packages/urllib3/connectionpool.py:1006: InsecureRequestWarning: Unverified HTTPS request is being made to host 'odfe-node1'. Adding certificate verification is strongly advised. See: https://urllib3.readthedocs.io/en/latest/advanced-usage.html#ssl-warnings\n",
      "  InsecureRequestWarning,\n",
      "07/04/2021 15:01:53 - INFO - elasticsearch -   DELETE https://odfe-node1:9200/_search/scroll [status:200 request:0.004s]\n"
     ]
    }
   ],
   "source": [
    "# TODO: Create custom retriever for performing semantic search with binary filters \n",
    "# (e.g. I want only documents with the word \"crisis\")\n",
    "\n",
    "# Pre-trained SBERT retrieval Bi-Encoder\n",
    "emb_retriever = EmbeddingRetriever(document_store=document_store, embedding_model=\"sentence-transformers/msmarco-distilbert-base-v2\")\n",
    "\n",
    "# Adds new embeddings in the the document store using the retriever encodings\n",
    "document_store.update_embeddings(emb_retriever, update_existing_embeddings=False)"
   ]
  },
  {
   "cell_type": "markdown",
   "metadata": {},
   "source": [
    "### Reader\n",
    "\n",
    "A Reader scans the texts returned by retrievers in detail and extracts the k best answers. They are based\n",
    "on powerful, but slower deep learning models.\n",
    "\n",
    "Haystack currently supports Readers based on the frameworks FARM and Transformers.\n",
    "With both you can either load a local model or one from Hugging Face's model hub (https://huggingface.co/models).\n",
    "\n",
    "#### CrossEncoderReRanker\n",
    "\n",
    "We create a custom Reader called CrossEncoderReRanker that applies a BERT cross-encoder between the query and each document returned by the retriever."
   ]
  },
  {
   "cell_type": "code",
   "execution_count": 10,
   "metadata": {
    "pycharm": {
     "is_executing": false
    },
    "scrolled": true
   },
   "outputs": [],
   "source": [
    "# reader = TransformersReader(model_name_or_path=\"distilbert-base-uncased-distilled-squad\", tokenizer=\"distilbert-base-uncased\", use_gpu=-1)\n",
    "reader = CrossEncoderReRanker()"
   ]
  },
  {
   "cell_type": "markdown",
   "metadata": {},
   "source": [
    "### Pipeline\n",
    "\n",
    "With a Haystack `Pipeline` you can stick together your building blocks to a search pipeline.\n",
    "Under the hood, `Pipelines` are Directed Acyclic Graphs (DAGs) that you can easily customize for your own use cases.\n",
    "To speed things up, Haystack also comes with a few predefined Pipelines. One of them is the `ExtractiveQAPipeline` that combines a retriever and a reader to answer our questions.\n",
    "You can learn more about `Pipelines` in the [docs](https://haystack.deepset.ai/docs/latest/pipelinesmd)."
   ]
  },
  {
   "cell_type": "code",
   "execution_count": 11,
   "metadata": {
    "pycharm": {
     "is_executing": false
    }
   },
   "outputs": [],
   "source": [
    "pipe = ExtractiveQAPipeline(reader, emb_retriever)"
   ]
  },
  {
   "cell_type": "markdown",
   "metadata": {},
   "source": [
    "## Voilà! Ask a question!"
   ]
  },
  {
   "cell_type": "code",
   "execution_count": 12,
   "metadata": {
    "pycharm": {
     "is_executing": false
    }
   },
   "outputs": [
    {
     "name": "stderr",
     "output_type": "stream",
     "text": [
      "07/04/2021 15:01:58 - WARNING - farm.data_handler.processor -   Currently no support in Processor for returning problematic ids\n",
      "Inferencing Samples: 100%|██████████| 1/1 [00:00<00:00,  8.46 Batches/s]\n",
      "/usr/lib/python3/dist-packages/urllib3/connectionpool.py:1006: InsecureRequestWarning: Unverified HTTPS request is being made to host 'odfe-node1'. Adding certificate verification is strongly advised. See: https://urllib3.readthedocs.io/en/latest/advanced-usage.html#ssl-warnings\n",
      "  InsecureRequestWarning,\n",
      "07/04/2021 15:01:58 - INFO - elasticsearch -   POST https://odfe-node1:9200/document/_search [status:200 request:0.307s]\n"
     ]
    },
    {
     "data": {
      "application/vnd.jupyter.widget-view+json": {
       "model_id": "95bff257429f40c6b6a63c3b8b1ec6f5",
       "version_major": 2,
       "version_minor": 0
      },
      "text/plain": [
       "Batches:   0%|          | 0/4 [00:00<?, ?it/s]"
      ]
     },
     "metadata": {},
     "output_type": "display_data"
    }
   ],
   "source": [
    "# You can configure how many candidates the reader and retriever shall return\n",
    "# The higher top_k_retriever, the better (but also the slower) your answers. \n",
    "prediction = pipe.run(query=\"Brexit\", \n",
    "                      top_k_retriever=100, top_k_reader=10)"
   ]
  },
  {
   "cell_type": "code",
   "execution_count": 13,
   "metadata": {
    "pycharm": {
     "is_executing": false,
     "name": "#%%\n"
    }
   },
   "outputs": [
    {
     "name": "stdout",
     "output_type": "stream",
     "text": [
      "{   'answers': [   {   'answer': \"Brexit is just weeks old, and it's already \"\n",
      "                                 'threatening fragile political stability in '\n",
      "                                 \"Northern Ireland Northern Ireland's Brexit \"\n",
      "                                 'backlash has arrived. It snuck in through a '\n",
      "                                 'side door the European Union rashly opened '\n",
      "                                 'last week when it threatened to trigger the '\n",
      "                                 'most contentious part of the Brexit deal, '\n",
      "                                 'article 16 of the Northern Ireland protocol, '\n",
      "                                 \"and has quickly (CNN)Northern Ireland's \"\n",
      "                                 'Brexit backlash has arrived. It snuck in '\n",
      "                                 'through a side door the European Union '\n",
      "                                 'rashly opened last week when it threatened '\n",
      "                                 'to trigger the most contentious part of the '\n",
      "                                 'Brexit d',\n",
      "                       'document_id': 'cea088f0-35ac-4091-94be-1672bae0cb82',\n",
      "                       'meta': {   'author': 'Nic Robertson, CNN',\n",
      "                                   'category': 'general',\n",
      "                                   'publishedat': '2021-02-06T05:17:52Z',\n",
      "                                   'source': 'cnn',\n",
      "                                   'umap_embeddings': [   0.2826843857765198,\n",
      "                                                          5.556615829467773],\n",
      "                                   'url': 'https://www.cnn.com/2021/02/06/uk/brexit-northern-ireland-violence-threat-intl/index.html',\n",
      "                                   'urltoimage': 'https://cdn.cnn.com/cnnnext/dam/assets/210205200242-belfast-brexit-grafitti-super-tease.jpg'},\n",
      "                       'score': 0.6829691},\n",
      "                   {   'answer': 'Brexit Is Nipping at London’s Role as a '\n",
      "                                 'Financial Powerhouse - The New York Times '\n",
      "                                 'Britain and the European Union don’t trust '\n",
      "                                 'each other much, and global banks are caught '\n",
      "                                 'in the middle. Next year, Britains financial '\n",
      "                                 'sector is still expected to be one of the '\n",
      "                                 'largest in the world: The amount of money it '\n",
      "                                 'manages is about 10 times the size of the '\n",
      "                                 'British economy. The business that actua',\n",
      "                       'document_id': 'ab340f5c-df01-4fcc-840b-922c890fcb09',\n",
      "                       'meta': {   'author': 'Eshe Nelson, Jack Ewing',\n",
      "                                   'category': 'general',\n",
      "                                   'publishedat': '2020-11-27T08:00:00Z',\n",
      "                                   'source': None,\n",
      "                                   'umap_embeddings': [   0.13810192048549652,\n",
      "                                                          5.608475208282471],\n",
      "                                   'url': 'https://www.nytimes.com/2020/11/27/business/brexit-london-financial-center.html',\n",
      "                                   'urltoimage': 'https://static01.nyt.com/images/2020/11/25/business/00london-finance-1/00london-finance-1-facebookJumbo.jpg'},\n",
      "                       'score': 0.6353975},\n",
      "                   {   'answer': 'Brexit deal: British PM set to win Commons '\n",
      "                                 'backing Labour leader Keir Starmer indicates '\n",
      "                                 'party support for vote on pact in parliament '\n",
      "                                 'European Union member states have started '\n",
      "                                 'reviewing the trade and co-operation deal '\n",
      "                                 'agreed with Britain on Christmas Eve as MPs '\n",
      "                                 'prepare for a return to Westminster next '\n",
      "                                 'week to vote on it.EU chief ',\n",
      "                       'document_id': '6866b5cd-74c0-457b-a27a-d411833b1214',\n",
      "                       'meta': {   'author': 'Denis Staunton',\n",
      "                                   'category': 'general',\n",
      "                                   'publishedat': '2020-12-25T22:00:57Z',\n",
      "                                   'source': 'the-irish-times',\n",
      "                                   'umap_embeddings': [   0.2213640958070755,\n",
      "                                                          5.6026997566223145],\n",
      "                                   'url': 'https://www.irishtimes.com/news/world/brexit-deal-british-pm-set-to-win-commons-backing-1.4445403',\n",
      "                                   'urltoimage': 'https://www.irishtimes.com/image-creator/?id=1.4445402&origw=1440'},\n",
      "                       'score': 0.30408686},\n",
      "                   {   'answer': 'Brexit Led Over 440 Finance Firms to Shift '\n",
      "                                 'Some Business to EU The U.K.’s departure '\n",
      "                                 'from the European Union pushed more than 440 '\n",
      "                                 'financial firms to move at least some of '\n",
      "                                 'their operations, staff, assets or legal '\n",
      "                                 'entities from Britain to the bloc. Londons '\n",
      "                                 'future as a financial center has been in the '\n",
      "                                 'spotlight after Brexit came into effect at '\n",
      "                                 'the start of the year.The U.K.s departure '\n",
      "                                 'from the European Union pushed more than 440 '\n",
      "                                 'financial firm',\n",
      "                       'document_id': 'a6324db6-daf6-4619-85d4-deb7dedd0f07',\n",
      "                       'meta': {   'author': 'Tom Metcalf',\n",
      "                                   'category': 'business',\n",
      "                                   'publishedat': '2021-04-15T23:01:00Z',\n",
      "                                   'source': 'bloomberg',\n",
      "                                   'umap_embeddings': [   0.11991896480321884,\n",
      "                                                          5.587780952453613],\n",
      "                                   'url': 'https://www.bloomberg.com/news/articles/2021-04-15/brexit-led-over-440-finance-firms-to-shift-some-business-to-eu',\n",
      "                                   'urltoimage': 'https://assets.bwbx.io/images/users/iqjWHBFdfxIU/iKR_dZmlcFAI/v1/1200x800.jpg'},\n",
      "                       'score': 0.26026747},\n",
      "                   {   'answer': 'News24.com | Brexit becomes reality as UK '\n",
      "                                 'quits EU single market Britain on Thursday '\n",
      "                                 'finally severed its turbulent half-century '\n",
      "                                 'partnership with Europe, quitting the EU '\n",
      "                                 'single market and customs union to go its '\n",
      "                                 'own way four-and-a-half years after its '\n",
      "                                 'shock vote to leave the bloc. Britain '\n",
      "                                 'finally quit the European Union four years '\n",
      "                                 'after it voted to leave the bloc after it\\xa0'\n",
      "                                 'secured a free-trade agreement with '\n",
      "                                 'Brussels.Britain is the first member state '\n",
      "                                 'to leave t',\n",
      "                       'document_id': '67a37e8d-7019-4a92-9ecd-5058df6cb6f3',\n",
      "                       'meta': {   'author': None,\n",
      "                                   'category': 'general',\n",
      "                                   'publishedat': '2021-01-01T05:22:14Z',\n",
      "                                   'source': 'news24',\n",
      "                                   'umap_embeddings': [   0.14590170979499817,\n",
      "                                                          5.553318500518799],\n",
      "                                   'url': 'https://www.news24.com/news24/World/News/brexit-becomes-reality-as-uk-quits-eu-single-market-20210101',\n",
      "                                   'urltoimage': 'https://cdn.24.co.za/files/Cms/General/d/9615/b738620466c8469a977200a402cc41ac.jpg'},\n",
      "                       'score': 0.21275556},\n",
      "                   {   'answer': 'Brexit Britain’s\\xa0Biggest Test Might Be\\xa0'\n",
      "                                 'the Ability to Survive Leaving the EU has '\n",
      "                                 'hardened the divisions between the U.K.’s '\n",
      "                                 'constituent nations and there’s a growing '\n",
      "                                 'sense that things will come to a head. Sign '\n",
      "                                 'up for our Beyond Brexit weekly newsletter, '\n",
      "                                 'follow us @Brexit\\xa0and\\xa0subscribe to our '\n",
      "                                 'podcast.Prime Minister Boris Johnson has a '\n",
      "                                 'fondness for grand projects, but few are as '\n",
      "                                 'eye-catching as th',\n",
      "                       'document_id': 'c71978bb-2de0-4354-88a9-9cc5e957d1fa',\n",
      "                       'meta': {   'author': 'Rodney Jefferson, Dara Doyle',\n",
      "                                   'category': 'business',\n",
      "                                   'publishedat': '2021-04-11T04:01:11Z',\n",
      "                                   'source': 'bloomberg',\n",
      "                                   'umap_embeddings': [   0.18819522857666016,\n",
      "                                                          5.607281684875488],\n",
      "                                   'url': 'https://www.bloomberg.com/news/articles/2021-04-11/brexit-britain-s-biggest-test-might-be-the-ability-to-survive',\n",
      "                                   'urltoimage': 'https://assets.bwbx.io/images/users/iqjWHBFdfxIU/iE_pvnngtsPE/v0/1200x800.jpg'},\n",
      "                       'score': 0.18779553},\n",
      "                   {   'answer': 'Brexit contains a lucky break for '\n",
      "                                 'terrorists, Europol sources say Summary List '\n",
      "                                 'PlacementThe UK will no longer have access '\n",
      "                                 'to multiple databases critical for combating '\n",
      "                                 'transnational crime and terrorism after the '\n",
      "                                 'first of the year because it has thus far '\n",
      "                                 'failed to come to a Brexit agreement with '\n",
      "                                 'European security agencies and The UK will '\n",
      "                                 'no longer have access to multiple databases '\n",
      "                                 'critical for combating transnational crime '\n",
      "                                 'and terrorism after the first of the year '\n",
      "                                 'because it has thus far failed to come to a '\n",
      "                                 'Brexit agreeme',\n",
      "                       'document_id': '51076c38-df41-48e2-aab7-3de058236c9c',\n",
      "                       'meta': {   'author': 'Mitch Prothero',\n",
      "                                   'category': 'business',\n",
      "                                   'publishedat': '2020-12-31T14:40:30Z',\n",
      "                                   'source': 'business-insider',\n",
      "                                   'umap_embeddings': [   0.1583700180053711,\n",
      "                                                          5.590651988983154],\n",
      "                                   'url': 'https://www.businessinsider.com/brexit-makes-it-harder-to-track-terrorists-europol-sources-say-2020-12',\n",
      "                                   'urltoimage': 'https://i.insider.com/5feddf54a18a450018cb65e2?width=1200&format=jpeg'},\n",
      "                       'score': 0.17319593},\n",
      "                   {   'answer': \"Joe Biden's Secretary of State pick Tony \"\n",
      "                                 'Blinken said Brexit was like a dog being run '\n",
      "                                 \"over by a car and a 'total mess' Antony \"\n",
      "                                 'Blinken said that Brexit was like \"the dog '\n",
      "                                 'that caught the car and the car goes into '\n",
      "                                 'reverse and runs over the dog.\" Joe Biden\\'s '\n",
      "                                 'pick for Secretary of State Antony Blinken '\n",
      "                                 'last year described Brexit as a \"total mess\" '\n",
      "                                 'and said that the process resembled a dog '\n",
      "                                 'being run over by a car, in comments that '\n",
      "                                 'further underli',\n",
      "                       'document_id': '965ab026-8d67-4c41-833b-51db2387073b',\n",
      "                       'meta': {   'author': 'tcolson@businessinsider.com '\n",
      "                                             '(Thomas Colson)',\n",
      "                                   'category': 'business',\n",
      "                                   'publishedat': '2020-11-23T12:37:32Z',\n",
      "                                   'source': 'business-insider',\n",
      "                                   'umap_embeddings': [   0.2626054286956787,\n",
      "                                                          5.556283473968506],\n",
      "                                   'url': 'https://www.businessinsider.com/joe-bidens-secretary-of-state-pick-tony-blinken-brexit-mess-2020-11',\n",
      "                                   'urltoimage': 'https://i.insider.com/5fbba9ba32f2170011f7093d?width=1200&format=jpeg'},\n",
      "                       'score': 0.16411597},\n",
      "                   {   'answer': 'Brexiteer Nigel Farage steps down as leader '\n",
      "                                 'of Reform UK - Reuters India Brexit '\n",
      "                                 'campaigner Nigel Farage said on Saturday he '\n",
      "                                 'would step down as the leader of Reform UK, '\n",
      "                                 'the rebranded Brexit Party he launched two '\n",
      "                                 'years ago to campaign for what was commonly '\n",
      "                                 'known as \"no deal Brexit\". By Reuters '\n",
      "                                 'StaffFILE PHOTO: Brexit Party leader Nigel '\n",
      "                                 'Farage holds a Union Jack flag during a '\n",
      "                                 'plenary session at the European Parliament '\n",
      "                                 'in Brussels, Belgium January 29, 2020. '\n",
      "                                 'REUTERS/Francois Leno',\n",
      "                       'document_id': 'bde214f4-b906-42f8-92fd-2af1bbaf4b1d',\n",
      "                       'meta': {   'author': 'Reuters Staff',\n",
      "                                   'category': 'general',\n",
      "                                   'publishedat': '2021-03-06T21:32:00Z',\n",
      "                                   'source': 'reuters',\n",
      "                                   'umap_embeddings': [   0.25581201910972595,\n",
      "                                                          5.5590033531188965],\n",
      "                                   'url': 'https://www.reuters.com/article/us-britain-politics-farage-idUSKBN2AY0OR',\n",
      "                                   'urltoimage': 'https://static.reuters.com/resources/r/?m=02&d=20210306&t=2&i=1553991559&r=LYNXMPEH250HX&w=800'},\n",
      "                       'score': 0.10421833},\n",
      "                   {   'answer': 'Brexit deal ready to be launched as UK and '\n",
      "                                 'EU agree final details Sides agree on '\n",
      "                                 'fisheries, level-playing-field guarantees '\n",
      "                                 'and fulfilment of obligations After gloomy '\n",
      "                                 'briefings from both sides on Tuesday about '\n",
      "                                 'the prospects of a post-Brexit deal by '\n",
      "                                 'Christmas, Wednesday morning saw a dramatic '\n",
      "                                 'upswing in the mood as British and European '\n",
      "                                 'Union sources ag',\n",
      "                       'document_id': 'f9f72205-a7e9-4999-b1f1-94466a1737a5',\n",
      "                       'meta': {   'author': 'Denis Staunton',\n",
      "                                   'category': 'general',\n",
      "                                   'publishedat': '2020-12-24T06:00:00Z',\n",
      "                                   'source': 'the-irish-times',\n",
      "                                   'umap_embeddings': [   0.13486376404762268,\n",
      "                                                          5.6162872314453125],\n",
      "                                   'url': 'https://www.irishtimes.com/news/world/uk/brexit-deal-ready-to-be-launched-as-uk-and-eu-agree-final-details-1.4444977',\n",
      "                                   'urltoimage': 'https://www.irishtimes.com/image-creator/?id=1.4444975&origw=1440'},\n",
      "                       'score': 0.08974316}],\n",
      "    'query': 'Brexit'}\n"
     ]
    }
   ],
   "source": [
    "print_answers(prediction)"
   ]
  },
  {
   "cell_type": "code",
   "execution_count": null,
   "metadata": {},
   "outputs": [],
   "source": []
  }
 ],
 "metadata": {
  "kernelspec": {
   "display_name": "Python 3 (ipykernel)",
   "language": "python",
   "name": "python3"
  },
  "language_info": {
   "codemirror_mode": {
    "name": "ipython",
    "version": 3
   },
   "file_extension": ".py",
   "mimetype": "text/x-python",
   "name": "python",
   "nbconvert_exporter": "python",
   "pygments_lexer": "ipython3",
   "version": "3.7.11"
  }
 },
 "nbformat": 4,
 "nbformat_minor": 2
}
