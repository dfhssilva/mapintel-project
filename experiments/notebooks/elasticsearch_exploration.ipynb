{
 "cells": [
  {
   "cell_type": "markdown",
   "metadata": {},
   "source": [
    "# Description:\n",
    "In this notebook we explore the MongoDB instance where we keep our news documents. We see some examples of documents stored, the time at which each batch of documents was inserted, provide a function to remove batch of documents given their insertion time, analyze the distribution of time at which each document is published, analyze the distribution of category of documents as well as their sources, analyze the relationship between category and source, provide a function to remove documents with no content or description and a function to check/ remove duplicate documents based on description and content combined. This function was used previoulsy the creation of the unique index of content and description. With this index there shouldn't be any duplicate documents.\n",
    "\n",
    "# TODO:\n",
    "- UPDATE THIS TO GET DATA FROM ELASTICSEARCH OVER MONGODB   "
   ]
  },
  {
   "cell_type": "code",
   "execution_count": 1,
   "metadata": {},
   "outputs": [],
   "source": [
    "import os\n",
    "from datetime import datetime, timedelta\n",
    "from pprint import pprint\n",
    "from elasticsearch import Elasticsearch\n",
    "import pandas as pd\n",
    "import matplotlib.pyplot as plt"
   ]
  },
  {
   "cell_type": "code",
   "execution_count": 2,
   "metadata": {},
   "outputs": [],
   "source": [
    "# Connecting to Elasticsearch\n",
    "es = Elasticsearch(\n",
    "    hosts=['odfe-node1', '0.0.0.0'],\n",
    "    http_auth=('admin', 'admin'),\n",
    "    scheme=\"https\",\n",
    "    verify_certs=False\n",
    ")"
   ]
  },
  {
   "cell_type": "code",
   "execution_count": 3,
   "metadata": {},
   "outputs": [
    {
     "output_type": "execute_result",
     "data": {
      "text/plain": [
       "{'.opendistro_security': {'aliases': {}},\n",
       " 'document': {'aliases': {}},\n",
       " 'label': {'aliases': {}},\n",
       " 'security-auditlog-2021.08.05': {'aliases': {}}}"
      ]
     },
     "metadata": {},
     "execution_count": 3
    }
   ],
   "source": [
    "# List indices\n",
    "es.indices.get_alias(\"*\")"
   ]
  },
  {
   "source": [
    "## Get random document"
   ],
   "cell_type": "markdown",
   "metadata": {}
  },
  {
   "cell_type": "code",
   "execution_count": 4,
   "metadata": {},
   "outputs": [
    {
     "output_type": "stream",
     "name": "stdout",
     "text": [
      "Document ID: dc67d9fe-8020-4bb6-8878-0b1ec8baa112 \n {'text': \"Gov. Larry Hogan to update Maryland's COVID-19 vaccination plan Tuesday - WBAL TV Baltimore Gov. Larry Hogan and state health officials plan to provide an overview of Maryland's COVID-19 vaccination plan. ANNAPOLIS, Md. —TUESDAY at 3 p.m. -- Gov. Larry Hogan and state health officials plan to provide an overview of Maryland's COVID-19 vaccination plan. Watch it live on WBAL-TV 11, WBALTV.com/nowcast, \", 'embedding': [-0.17567341029644012, -0.5241833925247192, 0.4313260316848755, -0.0863744467496872, -0.18458202481269836, -0.8593564629554749, -0.7901385426521301, 0.21458008885383606, 0.42209261655807495, -0.7684335708618164, -0.11245536804199219, 0.016612349078059196, -0.0765092670917511, 0.5376741290092468, 0.5210342407226562, 0.06201391667127609, -0.14926759898662567, -0.326467365026474, 0.3537862300872803, -0.23642179369926453, 0.3825759291648865, -0.46651792526245117, 0.051621925085783005, 0.6784964799880981, -0.8505579233169556, 0.24547921121120453, 0.5952048301696777, -0.3096165955066681, -0.5004310011863708, 0.1866014003753662, -0.4955126643180847, 0.20587024092674255, -0.18213807046413422, 0.11736150085926056, -0.06455044448375702, 0.30223652720451355, 0.18162573873996735, 0.4087491035461426, 0.42377912998199463, 1.1870718002319336, 0.16251644492149353, -0.8494247794151306, -0.4684419333934784, -0.24211175739765167, -0.25790560245513916, -0.2691185176372528, 0.6673743724822998, -0.15481896698474884, -0.39587146043777466, -0.9094085097312927, -0.05755245313048363, 0.22443029284477234, -0.13120466470718384, 0.38666918873786926, -0.3799067437648773, -0.025199366733431816, 0.48160865902900696, -0.6032321453094482, 0.18564705550670624, -0.034050293266773224, -0.4437647759914398, -0.1963929831981659, -0.26071685552597046, 0.6033188700675964, -0.05159273371100426, -0.10290192067623138, 0.2401922345161438, 0.586280107498169, -0.0060426779091358185, -0.6220528483390808, -0.014284065924584866, 0.85179603099823, -0.22608682513237, 0.15008866786956787, 0.6445133686065674, -0.08426497876644135, 0.023231124505400658, 0.5959222912788391, 0.2016552835702896, -0.03223612904548645, -0.20707520842552185, -0.3911827802658081, -0.5601927638053894, 0.4447570741176605, 0.2478121519088745, 0.20631150901317596, 0.01267535611987114, -0.19544172286987305, 0.059047162532806396, 0.1541273444890976, -0.4783097803592682, -0.27082309126853943, 0.3359394371509552, -0.11782151460647583, -0.1510314643383026, -0.36267971992492676, -0.07020401209592819, 0.05063987150788307, -0.01670987904071808, -0.48656001687049866, 0.41505029797554016, -0.612005352973938, -0.5723617672920227, 0.13432000577449799, -0.34991833567619324, 0.013471882790327072, 0.19649621844291687, 0.05042163282632828, -0.536880612373352, 0.29398900270462036, -0.9834436774253845, 0.11413340270519257, -0.07256577163934708, -0.0013867670204490423, -0.048385608941316605, -0.14896884560585022, 0.3840852379798889, -0.2827836573123932, -0.7902091145515442, 0.0979350209236145, -0.19616080820560455, 0.46152716875076294, -0.1870553195476532, -0.055905282497406006, 0.4888422191143036, 0.2574782371520996, -0.1709759682416916, 0.047903966158628464, 0.07084166258573532, -0.4655645191669464, 0.9218698740005493, -0.8001840710639954, -0.668846845626831, -0.13249032199382782, 0.5716087818145752, -0.22925309836864471, -0.5253432393074036, -0.4810473322868347, -0.14756788313388824, 0.03478763625025749, 0.7331535220146179, -0.6395123600959778, -0.21736674010753632, 0.16143523156642914, -0.35703834891319275, 0.7475172877311707, -0.5639844536781311, 0.1449374258518219, 0.0699954405426979, -0.10157355666160583, -0.14025284349918365, -0.23622886836528778, 0.20559027791023254, 0.19159072637557983, 0.23156745731830597, 0.3243999183177948, 0.926872968673706, 0.4619038999080658, 0.22893716394901276, -0.26123046875, 0.5412210822105408, 0.3239695131778717, -0.3354352116584778, -0.5900542140007019, 0.04272013157606125, 0.33524224162101746, -0.2009812295436859, -0.0019452368142083287, -0.10503147542476654, -1.0117554664611816, -0.5985636711120605, -0.3497181236743927, 0.023380940780043602, -0.3940123915672302, 0.42105576395988464, -0.2522280812263489, -0.1537172496318817, -0.5248783826828003, -0.31729593873023987, 0.09136731177568436, 0.8053223490715027, -0.4437587261199951, -0.2747017741203308, 0.014616456814110279, 0.5768982768058777, 0.04662509262561798, 0.17426082491874695, -0.4626896381378174, -0.010267919860780239, 0.8310773968696594, -0.2264467030763626, 0.3440306484699249, 0.17486388981342316, 0.13549160957336426, -0.10409596562385559, -0.11843553930521011, -0.5816610455513, 0.08658620715141296, 0.3315359354019165, -0.06109081581234932, -0.021583613008260727, -0.3187633454799652, 0.4571775794029236, -0.13578855991363525, -0.10587339848279953, 0.9251260757446289, -0.14533495903015137, -0.612169623374939, -0.18748711049556732, -0.18892690539360046, 0.3224303126335144, 0.3600151836872101, -0.04882335662841797, 0.6639089584350586, -0.007065670099109411, 0.49704015254974365, -0.20557215809822083, -0.254354864358902, 0.15667955577373505, 0.2374882847070694, 0.013450996950268745, -0.01910082995891571, 0.03385750204324722, 0.1200050339102745, -0.5876308083534241, -0.017035463824868202, -0.8558477163314819, 0.2963694632053375, -0.47973257303237915, 0.009581238962709904, 0.05472470074892044, -0.21250513195991516, -0.5210967659950256, -0.2730705738067627, 0.3184410631656647, 0.18363897502422333, -0.057222284376621246, 0.2801431119441986, -0.008238657377660275, 0.3829607665538788, 0.5870633721351624, -0.25873494148254395, 0.626090943813324, -0.27098003029823303, -0.3041076362133026, 0.21520552039146423, -0.1329428255558014, -0.07595043629407883, 0.2208077758550644, 0.19745413959026337, 0.25533178448677063, 0.5021421909332275, 0.16494639217853546, 0.6291397213935852, -0.055080123245716095, -0.3324780762195587, 0.010690407827496529, -0.08082747459411621, -0.2663658559322357, 0.33141791820526123, 0.43631672859191895, -0.4282412827014923, -0.1383560299873352, -0.16473451256752014, 0.1499093919992447, -0.7806419134140015, 0.4102146625518799, 0.02371896058320999, -0.2087821066379547, -0.1731790453195572, 0.15967601537704468, -0.22204969823360443, 0.42233842611312866, -0.09510704129934311, -0.10837448388338089, 0.12108694761991501, -0.18791157007217407, 0.09474043548107147, 0.3499765694141388, -0.5312767028808594, 0.2110678255558014, -0.3600771725177765, 0.025826631113886833, 0.8840238451957703, -0.16056013107299805, -0.43359556794166565, -0.1464814394712448, 0.6109712719917297, -0.258302241563797, 0.10779137909412384, -0.1885935515165329, -0.11891724169254303, 0.4056849479675293, -0.5641354322433472, -0.20979121327400208, 0.24161452054977417, 0.3572346568107605, -0.4827151298522949, -0.30707886815071106, 0.08312802761793137, 0.24825970828533173, 0.5069746971130371, 0.6759137511253357, -0.16156511008739471, -0.24901516735553741, -0.5815874934196472, 0.45246145129203796, 0.2797092795372009, -0.39388081431388855, 0.28032922744750977, 0.24450628459453583, 0.5006400346755981, 0.30390703678131104, -0.4932761788368225, -0.19133508205413818, -0.03352373093366623, -0.1825844645500183, -0.17638106644153595, 0.5681728720664978, -0.3215281069278717, 0.06715869158506393, -0.21761851012706757, -0.36331960558891296, -0.2679724395275116, 0.7785078287124634, -0.053171586245298386, 0.4966726303100586, 0.034789878875017166, 0.37384405732154846, -0.23019158840179443, 0.03467554599046707, -0.33634716272354126, -0.5112422108650208, 0.10332782566547394, -0.43746793270111084, 0.5777719616889954, -0.11458591371774673, 0.21142488718032837, -0.12387643754482269, 0.3762299716472626, 0.36354491114616394, 0.8797507882118225, -0.27519145607948303, 0.1285383403301239, -0.03810407593846321, 0.3899427652359009, 0.2882021367549896, -1.3258507251739502, 0.34774160385131836, 0.00903105828911066, -0.1251261830329895, -0.18490298092365265, -0.3434903919696808, -0.2932356297969818, 0.12223879247903824, 0.37257909774780273, -0.22790424525737762, 0.07036499679088593, -0.16628678143024445, 0.03108474425971508, -0.07164176553487778, 0.24623297154903412, -0.5170489549636841, -0.35642293095588684, -0.65450519323349, 0.15233385562896729, -0.4709295332431793, 0.10648878663778305, -0.06709172576665878, -0.48449796438217163, 0.05470452085137367, -0.31918540596961975, 0.20132099092006683, 0.06817390024662018, -0.24337245523929596, 0.04000305384397507, 0.018694525584578514, 0.15030309557914734, -0.19167280197143555, -0.3581528961658478, 0.045515645295381546, -0.17662838101387024, 0.16714945435523987, -0.172188401222229, 0.15441051125526428, -0.718109667301178, 0.39946284890174866, -0.5804736614227295, 0.04107251763343811, -0.6842569708824158, 0.0787888690829277, 0.2649685740470886, 0.11452154070138931, 0.1488889455795288, 0.16770631074905396, 0.18323145806789398, -0.0813705325126648, -0.03548063337802887, -1.0844929218292236, -0.4974818229675293, 0.4847091734409332, 0.18692810833454132, -0.4172944128513336, 0.37315186858177185, 0.6807616353034973, 0.44576069712638855, 0.4438311457633972, -0.04496392607688904, 0.2634155750274658, -0.5913704633712769, 0.18017351627349854, -0.23472586274147034, -0.012720264494419098, -0.09849661588668823, 0.7058128714561462, -0.10135834664106369, 0.22456559538841248, 0.09471552819013596, -0.00797527376562357, 0.24285128712654114, 0.1105407103896141, -0.7995692491531372, 0.5182662010192871, 0.0080317547544837, 0.054057568311691284, 0.2962064743041992, 0.3984001874923706, 0.10170921683311462, -0.483820378780365, 0.09700768440961838, 0.29920127987861633, -0.3393701910972595, -0.08933048695325851, 0.20231115818023682, 0.4827866554260254, -0.47825300693511963, 0.11843349039554596, -0.020860297605395317, 0.10710407048463821, 0.31600454449653625, -0.017655977979302406, 0.04611489549279213, -0.20642226934432983, 0.4044419825077057, -0.06599682569503784, 0.3542494773864746, -0.35641032457351685, -0.010113252326846123, 0.32831063866615295, 0.3797571361064911, -0.24614296853542328, -0.012480637058615685, -0.4221256375312805, 0.3232654333114624, 0.004678313620388508, 0.9021561145782471, -0.307388573884964, 0.22373420000076294, 0.042967673391103745, -0.4593542516231537, -0.18107762932777405, 0.4810379445552826, 0.16218708455562592, 1.07901132106781, 0.9484742283821106, -0.5684287548065186, 0.1532663255929947, 0.07227806746959686, -0.19110265374183655, 0.2540524899959564, -0.13182233273983002, 0.17510072886943817, -0.3650815188884735, 0.9368875622749329, -0.30158740282058716, -0.06086859852075577, 0.2596711218357086, -0.061074789613485336, -0.38342973589897156, 0.5719174742698669, -0.8115753531455994, 0.07331129908561707, 0.06077025085687637, -0.10011066496372223, -0.054483190178871155, 0.011996586807072163, 0.027101362124085426, 0.6866055130958557, 0.16024330258369446, -0.38569357991218567, 0.20165757834911346, -0.38254988193511963, -0.13951453566551208, -0.1990739107131958, -0.5681609511375427, 0.21069999039173126, 0.2573845684528351, 0.6188005805015564, 0.5431844592094421, 0.5966960191726685, -0.19523687660694122, -0.20029717683792114, 0.45480427145957947, 0.38438287377357483, 0.11085652559995651, 0.2930141091346741, 0.2223348170518875, 0.03362021967768669, -0.664039134979248, 0.8109966516494751, 0.03524189069867134, 0.6250276565551758, -0.15212135016918182, 0.4656746983528137, -0.02086261846125126, -0.033330030739307404, 0.6793598532676697, -0.4382234215736389, 0.5359883308410645, 0.012416694313287735, 0.14456689357757568, 0.17159295082092285, 0.28597572445869446, -0.351485937833786, -0.6318591833114624, 0.18017815053462982, -0.029266664758324623, 0.28891801834106445, -0.1802861988544464, 0.2542315721511841, 0.10347938537597656, 0.057375047355890274, 0.3450227975845337, 0.35515105724334717, -0.007174489554017782, -0.28931209444999695, 0.41011425852775574, 0.27981165051460266, 0.42445823550224304, 0.04980375990271568, 0.24690623581409454, 0.9001762866973877, -0.12959103286266327, 0.03763090446591377, 0.020510822534561157, 0.06667741388082504, -0.6145031452178955, -0.33641517162323, 0.37582239508628845, -0.434163898229599, -0.6446431875228882, -0.14945322275161743, 0.18433134257793427, -0.26499372720718384, 0.0673702284693718, 0.8073091506958008, 0.009667044505476952, -0.27724489569664, -0.16188183426856995, -0.19863149523735046, 0.535094141960144, -0.15647922456264496, 0.419294536113739, -0.24685215950012207, 0.08037010580301285, -0.2665301263332367, 0.05063880980014801, -0.21681657433509827, -0.1621166318655014, -0.4370274245738983, -0.44762831926345825, 0.29925262928009033, 0.6516491174697876, -0.48878178000450134, -0.07912640273571014, 0.12750661373138428, -0.7503652572631836, 0.12676429748535156, -0.8545497059822083, -0.5846927165985107, 0.6153627634048462, 0.6902344226837158, -0.27052026987075806, -0.18463219702243805, 0.5320042371749878, -0.18586547672748566, 0.7688745856285095, -0.007885921746492386, -0.4345855712890625, 0.42169174551963806, -0.772737443447113, 0.6434287428855896, -0.4603734016418457, -0.24005240201950073, -0.2940550148487091, 0.28353333473205566, -0.07465127855539322, -0.4572281837463379, 0.05980696529150009, -0.114141084253788, -0.2358657866716385, 0.06274408847093582, 0.011082175187766552, 0.6154007315635681, 0.6663343906402588, 0.03664139658212662, 0.2707473337650299, -0.18229861557483673, -0.014610891230404377, 0.04085378348827362, -0.5307900905609131, 0.39279085397720337, -0.2312384992837906, 0.0490264967083931, -0.30391162633895874, -0.24022908508777618, -0.023732107132673264, 0.5211669206619263, -0.4318194091320038, -0.01629037596285343, 0.5515430569648743, -0.5589720010757446, 0.19712471961975098, 0.24917124211788177, -0.6031197309494019, -0.07955233752727509, -0.35887908935546875, -0.2610924243927002, 0.6200641989707947, 0.27573370933532715, 0.009273982606828213, 0.058125581592321396, -0.20899605751037598, 0.15201595425605774, 0.1002260223031044, 0.30541613698005676, 0.7230008244514465, -0.5934193730354309, -0.42850884795188904, 0.26855531334877014, -0.41846349835395813, 0.18097923696041107, -0.765222430229187, 0.6034870147705078, -0.23501431941986084, -0.35243943333625793, 0.03185667470097542, 0.0994330421090126, -0.05963723361492157, 0.15904277563095093, -0.0822213664650917, 0.1830482929944992, 0.1977330595254898, 0.2694358229637146, -0.9073929190635681, -0.25336647033691406, -0.24245427548885345, -0.4456831216812134, -0.07575622946023941, 0.1965661644935608, 0.07244086265563965, -0.4158856272697449, 0.3460274338722229, 0.08804889023303986, -0.46596306562423706, -0.48886507749557495, -0.38564398884773254, -0.5853316783905029, -0.023218737915158272, -0.63118577003479, 0.7090033292770386, 0.12343643605709076, -0.45835766196250916, -0.18269428610801697, 0.42291414737701416, 0.3082946836948395, -0.0655306875705719, 0.5597478747367859, -0.2710760533809662, -0.4647345542907715, -0.3434062600135803, 0.16138282418251038, -0.45880240201950073, -0.4110819101333618, 0.13564829528331757, 0.13178062438964844, 0.07967821508646011, -0.10721705108880997, -0.1716843694448471, -0.478060781955719, -0.12059251219034195, -0.13601769506931305, 0.07650934159755707, -0.25766175985336304, -0.196537047624588, -0.08465218544006348, 0.530413806438446, 0.23717117309570312, 0.1952144056558609, -0.3497168719768524, 0.507764995098114, 0.3236883580684662, -0.08750707656145096, -0.5347679853439331, -0.20620055496692657, 0.1731552928686142, -0.719163715839386, 0.866479754447937, -0.009508137591183186, 0.29030904173851013, 0.2822960317134857, -0.03822783753275871, 0.32601386308670044, -1.070855736732483, 0.37784481048583984, 0.12379055470228195, -0.1222151517868042, -0.12514983117580414, -0.14439314603805542, 0.011011033318936825, -0.596129834651947, -0.1121901348233223, -0.05451704189181328, 0.35443180799484253, 0.160223588347435, -0.19995532929897308, -0.13611674308776855, -0.4640630781650543, -0.5888223648071289, -0.042550161480903625, 0.4128071069717407, 0.7725394368171692, 0.15222784876823425, 0.3126618266105652, -0.015846509486436844, -0.0012109902454540133, -0.059912193566560745, -0.030088244006037712, -0.3188672661781311, -0.16739797592163086, -0.26328638195991516, -0.09530068933963776, -0.5165941119194031, -0.016748353838920593, 0.450656920671463, 0.2070351094007492, 0.6578257083892822, 0.09936687350273132, -0.05159301683306694, -0.40755701065063477, 0.03515113890171051, 0.09969604015350342, -0.3363769054412842, -0.5814526677131653, 0.7142634987831116, -0.1316162794828415, 0.23449648916721344, -0.0454474538564682, 0.21752208471298218, 0.5925191044807434, -0.06716516613960266, -0.22381016612052917, -0.08581078797578812, -0.014904017560184002, -0.11512457579374313, 0.07331297546625137, 0.48755672574043274, 0.1026010736823082], 'source': None, 'author': None, 'publishedat': '2020-12-07T22:00:00Z', 'url': 'https://www.wbaltv.com/article/covid-19-vaccination-plan-in-maryland-update-governor-larry-hogan/34896604', 'urltoimage': 'https://kubrick.htvapps.com/htv-prod-media.s3.amazonaws.com/images/gov-larry-hogan-mask-1607372411.jpg?crop=1.00xw:1.00xh;0,0&resize=1200:*', 'category': 'health', 'umap_embeddings': [9.68056583404541, 7.192801475524902], 'topic_number': 4, 'topic_label': '4_covid_covid 19_vaccine_vaccinated'}\n"
     ]
    }
   ],
   "source": [
    "result = es.search(\n",
    "    {\n",
    "        \"size\": 1,\n",
    "        \"query\": {\n",
    "            \"function_score\": {\n",
    "                \"functions\": [\n",
    "                    {\n",
    "                        \"random_score\": {\n",
    "                            \"seed\": \"1477072619038\"\n",
    "                        }\n",
    "                    }\n",
    "                ]\n",
    "            }\n",
    "        }\n",
    "    },\n",
    "    index=\"document\"\n",
    ")\n",
    "print(f\"Document ID: {result['hits']['hits'][0]['_id']}\", \"\\n\", result['hits']['hits'][0]['_source'])"
   ]
  },
  {
   "cell_type": "markdown",
   "metadata": {},
   "source": [
    "## Collections"
   ]
  },
  {
   "cell_type": "markdown",
   "metadata": {},
   "source": [
    "A database is compose of collections. These collections in turn hold documents."
   ]
  },
  {
   "cell_type": "code",
   "execution_count": 4,
   "metadata": {},
   "outputs": [
    {
     "ename": "NameError",
     "evalue": "name 'db' is not defined",
     "output_type": "error",
     "traceback": [
      "\u001b[0;31m---------------------------------------------------------------------------\u001b[0m",
      "\u001b[0;31mNameError\u001b[0m                                 Traceback (most recent call last)",
      "\u001b[0;32m/tmp/ipykernel_328/1472291047.py\u001b[0m in \u001b[0;36m<module>\u001b[0;34m\u001b[0m\n\u001b[0;32m----> 1\u001b[0;31m \u001b[0mcollection_list\u001b[0m \u001b[0;34m=\u001b[0m \u001b[0mdb\u001b[0m\u001b[0;34m.\u001b[0m\u001b[0mlist_collection_names\u001b[0m\u001b[0;34m(\u001b[0m\u001b[0;34m)\u001b[0m\u001b[0;34m\u001b[0m\u001b[0;34m\u001b[0m\u001b[0m\n\u001b[0m\u001b[1;32m      2\u001b[0m \u001b[0mprint\u001b[0m\u001b[0;34m(\u001b[0m\u001b[0;34mf\"The database contains {len(collection_list)} collections: {collection_list[:5]}\"\u001b[0m\u001b[0;34m)\u001b[0m\u001b[0;34m\u001b[0m\u001b[0;34m\u001b[0m\u001b[0m\n",
      "\u001b[0;31mNameError\u001b[0m: name 'db' is not defined"
     ]
    }
   ],
   "source": [
    "collection_list = db.list_collection_names()\n",
    "print(f\"The database contains {len(collection_list)} collections: {collection_list[:5]}\")"
   ]
  },
  {
   "cell_type": "code",
   "execution_count": null,
   "metadata": {},
   "outputs": [],
   "source": [
    "for col in collection_list:\n",
    "    print(f\"Collection {col} contains {db[col].count_documents({})} documents\")"
   ]
  },
  {
   "cell_type": "markdown",
   "metadata": {},
   "source": [
    "## Documents"
   ]
  },
  {
   "cell_type": "code",
   "execution_count": null,
   "metadata": {},
   "outputs": [],
   "source": [
    "for col in collection_list:\n",
    "    print(f\"EXAMPLE OF {col.upper()}'S DOCUMENTS:\")\n",
    "    pprint(db[col].find_one())\n",
    "    print(\"-------------------------------------------------------------------------------------------------------------------------------\\n\")"
   ]
  },
  {
   "cell_type": "markdown",
   "metadata": {},
   "source": [
    "## Insertion batches"
   ]
  },
  {
   "cell_type": "code",
   "execution_count": null,
   "metadata": {},
   "outputs": [],
   "source": [
    "pipeline_batches = [\n",
    "    {  # project id_timestamp\n",
    "        '$project': {\n",
    "            'id_timestamp': {\n",
    "                '$dateToString': {\n",
    "                    'format': '%d-%m-%Y T%H:%M:%S', \n",
    "                    'date': {'$toDate': '$_id'}\n",
    "                }\n",
    "            }\n",
    "        }\n",
    "    },\n",
    "    {  # groups on id_timestamp and counts the number of documents for each values\n",
    "        '$group': {\n",
    "            '_id': '$id_timestamp',\n",
    "            'document_count': {'$sum': 1}\n",
    "        }\n",
    "    },\n",
    "    {  # sort results in descending order by _id\n",
    "        '$sort': {'_id': -1}\n",
    "    }\n",
    "]\n",
    "\n",
    "for col in collection_list:\n",
    "    batches = db[col].aggregate(pipeline_batches)\n",
    "    print(f\"\\n{col} collection insertion batches history:\")\n",
    "    pprint(list(batches))\n",
    "    print(\"-----------------------------------------------------------\\n\")"
   ]
  },
  {
   "cell_type": "code",
   "execution_count": null,
   "metadata": {},
   "outputs": [],
   "source": [
    "def remove_by_batch_date(batch_date, db, collection=None): \n",
    "    \"\"\"\n",
    "    Function to remove documents with a given batch date from db's specified collection or all of them (default).\n",
    "    batch_date should have '%d-%m-%Y T%H:%M:%S' format.\n",
    "    \"\"\"\n",
    "    pipeline_remove = [\n",
    "        {  # project id_timestamp\n",
    "            '$project': {\n",
    "                '_id': 1,\n",
    "                'id_timestamp': {\n",
    "                    '$dateToString': {\n",
    "                        'format': '%d-%m-%Y T%H:%M:%S', \n",
    "                        'date': {'$toDate': '$_id'}\n",
    "                    }\n",
    "                }\n",
    "            }\n",
    "        },\n",
    "        {  # match id_timestamp to batch_date we want to remove\n",
    "            '$match': {'id_timestamp': batch_date}\n",
    "        },\n",
    "        {  # project just _id\n",
    "            '$project': {'_id': 1}\n",
    "        }\n",
    "    ]\n",
    "    \n",
    "    if collection is None:\n",
    "        collection_list = db.list_collection_names()\n",
    "        for col in collection_list:\n",
    "            idsList = list(map(lambda x: x['_id'], db[col].aggregate(pipeline_remove)))\n",
    "            db[col].delete_many({'_id': {'$in': idsList}})\n",
    "            print(f\"{len(idsList)} documents with batch_date {batch_date} were removed from {col}\\n\")\n",
    "    else:\n",
    "        idsList = list(map(lambda x: x['_id'], db[collection].aggregate(pipeline_remove)))\n",
    "        db[collection].delete_many({'_id': {'$in': idsList}})\n",
    "        print(f\"{len(idsList)} documents with batch_date {batch_date} were removed from {collection}\\n\")\n",
    "\n",
    "# remove_by_batch_date()"
   ]
  },
  {
   "cell_type": "markdown",
   "metadata": {},
   "source": [
    "## Exploratory Data Analysis"
   ]
  },
  {
   "cell_type": "markdown",
   "metadata": {},
   "source": [
    "### publishedAt"
   ]
  },
  {
   "cell_type": "code",
   "execution_count": null,
   "metadata": {},
   "outputs": [],
   "source": [
    "pipeline = [\n",
    "    {  # project publishedAtDay and publishedAtHour\n",
    "        '$project': {\n",
    "            'publishedAtDay': {\n",
    "                '$dateToString': {\n",
    "                    'format': '%d-%m-%YT%H', \n",
    "                    'date': {'$toDate': '$publishedAt'}\n",
    "                }\n",
    "            },\n",
    "            'publishedAtHour': {\n",
    "                '$hour': {\n",
    "                    'date': {'$toDate': '$publishedAt'}\n",
    "                }\n",
    "            }\n",
    "        }\n",
    "    },\n",
    "    {  # groups on publishedAtDay and gets number of documents per day and hour (document_count) and publishedAtHour\n",
    "        '$group': {\n",
    "            '_id': '$publishedAtDay',\n",
    "            'document_count': {'$sum': 1},\n",
    "            'publishedAtHour': {'$first': '$publishedAtHour'}\n",
    "        }\n",
    "    },\n",
    "    {  # groups on publishedAtHour and gets average of documents per hour over days\n",
    "        '$group': {\n",
    "            '_id': '$publishedAtHour',\n",
    "            'avg_document_count': {'$avg': '$document_count'}\n",
    "        }\n",
    "    },\n",
    "    {  # sort results in descending order by _id\n",
    "        '$sort': {'_id': -1}\n",
    "    }\n",
    "]\n",
    "\n",
    "fig, axes = plt.subplots(2, 1, figsize=(13, 9))\n",
    "for ax, col in zip(axes.flatten(), collection_list):\n",
    "    x, y = [], []\n",
    "    for i in list(db[col].aggregate(pipeline)):\n",
    "        x.append(i['_id'])\n",
    "        y.append(i['avg_document_count'])\n",
    "    ax.plot(x, y, linestyle=\"-\")\n",
    "    ax.set_xticks(x)\n",
    "    ax.set_title(f\"Average number of documents per publishedAt Hour - {col} collection\")\n",
    "    \n",
    "plt.show()"
   ]
  },
  {
   "cell_type": "markdown",
   "metadata": {},
   "source": [
    "## category"
   ]
  },
  {
   "cell_type": "code",
   "execution_count": null,
   "metadata": {},
   "outputs": [],
   "source": [
    "pipeline = [\n",
    "    {  # project category\n",
    "        '$project': {\n",
    "            '_id': 0,\n",
    "            'category': 1\n",
    "        }\n",
    "    },\n",
    "    {  # groups on category and gets number of documents for each category\n",
    "        '$group': {\n",
    "            '_id': '$category',\n",
    "            'document_count': {'$sum': 1},\n",
    "        }\n",
    "    },\n",
    "    {  # sort results in descending order by _id\n",
    "        '$sort': {'_id': 1}\n",
    "    }\n",
    "]\n",
    "\n",
    "fig, axes = plt.subplots(2, 1, figsize=(13, 9))\n",
    "for ax, col in zip(axes.flatten(), collection_list):\n",
    "    x, y = [], []\n",
    "    for i in list(db[col].aggregate(pipeline)):\n",
    "        x.append(i['_id'])\n",
    "        y.append(i['document_count'])\n",
    "    ax.bar(x, y)\n",
    "    ax.set_xticks(x)\n",
    "    ax.set_title(f\"Number of documents per category - {col} collection\")\n",
    "    \n",
    "plt.show()"
   ]
  },
  {
   "cell_type": "markdown",
   "metadata": {},
   "source": [
    "## source"
   ]
  },
  {
   "cell_type": "code",
   "execution_count": null,
   "metadata": {},
   "outputs": [],
   "source": [
    "pipeline = [\n",
    "    {  # project source\n",
    "        '$project': {\n",
    "            '_id': 0,\n",
    "            'source': 1\n",
    "        }\n",
    "    },\n",
    "    {  # groups on source and gets number of documents for each source\n",
    "        '$group': {\n",
    "            '_id': '$source',\n",
    "            'document_count': {'$sum': 1},\n",
    "        }\n",
    "    },\n",
    "    {  # sort results in descending order by _id\n",
    "        '$sort': {'_id': 1}\n",
    "    }\n",
    "]\n",
    "\n",
    "fig, axes = plt.subplots(2, 1, figsize=(19, 9))\n",
    "for ax, col in zip(axes.flatten(), collection_list):\n",
    "    x, y = [], []\n",
    "    for i in list(db[col].aggregate(pipeline)):\n",
    "        if i['_id'] is None:\n",
    "            x.append(\"Null\")\n",
    "        else:\n",
    "            x.append(i['_id'])\n",
    "        y.append(i['document_count'])\n",
    "    ax.bar(x, y)\n",
    "    ax.set_xticks(x)\n",
    "    ax.set_xticklabels(x, rotation=30, ha='right')\n",
    "    ax.set_title(f\"Number of documents per source - {col} collection\")\n",
    "\n",
    "plt.subplots_adjust(hspace=0.4)\n",
    "plt.show()"
   ]
  },
  {
   "cell_type": "markdown",
   "metadata": {},
   "source": [
    "## relationship between categories and sources"
   ]
  },
  {
   "cell_type": "code",
   "execution_count": null,
   "metadata": {},
   "outputs": [],
   "source": [
    "# use stacked bar chart\n",
    "pipeline = [\n",
    "    {  # project source and category\n",
    "        '$project': {\n",
    "            '_id': 0,\n",
    "            'source': 1,\n",
    "            'category': 1\n",
    "        }\n",
    "    },\n",
    "    {  # groups on source and gets number of documents for each source\n",
    "        '$group': {\n",
    "            '_id': {\n",
    "                'category': '$category',\n",
    "                'source': '$source'\n",
    "            },\n",
    "            'document_count': {'$sum': 1},\n",
    "        }\n",
    "    },\n",
    "    {\n",
    "        '$project':{\n",
    "            '_id': 0,\n",
    "            'document_count': 1,\n",
    "            'category': '$_id.category',\n",
    "            'source': '$_id.source'            \n",
    "        }\n",
    "    },\n",
    "    {  # sort results in descending order by _id\n",
    "        '$sort': {'category': 1}\n",
    "    }\n",
    "]\n",
    "\n",
    "fig, axes = plt.subplots(2, 1, figsize=(19, 11))\n",
    "for ax, col in zip(axes.flatten(), collection_list):\n",
    "    plt_data = pd.DataFrame(list(db[col].aggregate(pipeline))).pivot(index=\"source\", columns=\"category\", values=\"document_count\")\n",
    "    plt_data[\"sum\"] = plt_data.sum(axis=1)\n",
    "    plt_data.sort_values(\"sum\", ascending=False).drop(\"sum\", axis=1).plot(kind='bar', stacked=True, rot=90, ax=ax)\n",
    "    ax.set_title(f\"Source frequencies by category - {col} collection\")\n",
    "\n",
    "plt.subplots_adjust(hspace=0.9)\n",
    "plt.show()"
   ]
  },
  {
   "cell_type": "markdown",
   "metadata": {},
   "source": [
    "## missing values"
   ]
  },
  {
   "cell_type": "code",
   "execution_count": null,
   "metadata": {},
   "outputs": [],
   "source": [
    "def remove_missing_values(db, collection=None): \n",
    "    \"\"\"\n",
    "    Function to remove documents with missing values on both description and content from db's specified collection\n",
    "    or all of them (default).\n",
    "    \"\"\"\n",
    "    pipeline_remove = [\n",
    "        {\n",
    "            '$project': {\n",
    "                '_id': 1,\n",
    "                'description': 1,\n",
    "                'content': 1\n",
    "            }\n",
    "        },\n",
    "        {\n",
    "            \"$match\": {\n",
    "                '$or': [\n",
    "                    {\n",
    "                        \"description\" : {\"$eq\" : None},\n",
    "                        \"content\" : {\"$eq\": None}\n",
    "                    },\n",
    "                    {\n",
    "                        \"description\" : {\"$eq\" : ''},\n",
    "                        \"content\" : {\"$eq\": ''}\n",
    "                    },\n",
    "                    {\n",
    "                        \"description\" : {\"$eq\" : None},\n",
    "                        \"content\" : {\"$eq\": ''}\n",
    "                    },\n",
    "                    {\n",
    "                        \"description\" : {\"$eq\" : ''},\n",
    "                        \"content\" : {\"$eq\": None}\n",
    "                    }                    \n",
    "                ]\n",
    "            } \n",
    "        }, \n",
    "\n",
    "        {\n",
    "            \"$project\": {\n",
    "                \"id\" : 1\n",
    "            }\n",
    "        }\n",
    "    ]\n",
    "    \n",
    "    if collection is None:\n",
    "        collection_list = db.list_collection_names()\n",
    "        for col in collection_list:\n",
    "            idsList = list(map(lambda x: x['_id'], db[col].aggregate(pipeline_remove)))\n",
    "            db[col].delete_many({'_id': {'$in': idsList}})\n",
    "            print(f\"{len(idsList)} documents with missing values were removed from {col}\\n\")\n",
    "    else:\n",
    "        idsList = list(map(lambda x: x['_id'], db[collection].aggregate(pipeline_remove)))\n",
    "        db[collection].delete_many({'_id': {'$in': idsList}})\n",
    "        print(f\"{len(idsList)} documents with missing values were removed from {collection}\\n\")\n",
    "\n",
    "remove_missing_values(db)"
   ]
  },
  {
   "cell_type": "markdown",
   "metadata": {},
   "source": [
    "## duplicates"
   ]
  },
  {
   "cell_type": "code",
   "execution_count": null,
   "metadata": {},
   "outputs": [],
   "source": [
    "def remove_duplicates(db, collection=None): \n",
    "    \"\"\"\n",
    "    Function to remove documents with missing values on both description and content from db's specified collection\n",
    "    or all of them (default).\n",
    "    \"\"\"\n",
    "    pipeline_remove = [\n",
    "        {\n",
    "            \"$group\": {\n",
    "                \"_id\": {'description': '$description', 'content': '$content'},\n",
    "                \"_idsNeedsToBeDeleted\": {\"$push\": \"$$ROOT._id\"} # push all `_id`'s to an array\n",
    "            }\n",
    "        },\n",
    "        # Remove first element - which is removing a doc\n",
    "        {\n",
    "            \"$project\": {\n",
    "                \"_id\": 0,\n",
    "                \"_idsNeedsToBeDeleted\": {  \n",
    "                    \"$slice\": [\n",
    "                        \"$_idsNeedsToBeDeleted\", 1, {\"$size\": \"$_idsNeedsToBeDeleted\"}\n",
    "                    ]\n",
    "                }\n",
    "            }\n",
    "        },\n",
    "        {\n",
    "            \"$unwind\": \"$_idsNeedsToBeDeleted\" # Unwind `_idsNeedsToBeDeleted`\n",
    "        },\n",
    "        # Group without a condition & push all `_idsNeedsToBeDeleted` fields to an array\n",
    "        {\n",
    "            \"$group\": { \"_id\": \"\", \"_idsNeedsToBeDeleted\": { \"$push\": \"$_idsNeedsToBeDeleted\" } }\n",
    "        },\n",
    "        { \n",
    "            \"$project\" : { \"_id\" : 0 }  # Optional stage\n",
    "        }\n",
    "        # At the end you'll have an [{ _idsNeedsToBeDeleted: [_ids] }] or []\n",
    "    ]\n",
    "    \n",
    "    if collection is None:\n",
    "        collection_list = db.list_collection_names()\n",
    "        for col in collection_list:\n",
    "            try:\n",
    "                idsList = list(db[col].aggregate(pipeline_remove))[0][\"_idsNeedsToBeDeleted\"]\n",
    "                db[col].delete_many({'_id': {'$in': idsList}})\n",
    "                print(f\"{len(idsList)} documents with duplicated documents were removed from {col}\\n\")\n",
    "            except IndexError:\n",
    "                print(f\"0 documents with duplicated documents in {col}\\n\")\n",
    "    else:\n",
    "        try:\n",
    "            idsList = list(db[collection].aggregate(pipeline_remove))[0][\"_idsNeedsToBeDeleted\"]\n",
    "            db[collection].delete_many({'_id': {'$in': idsList}})\n",
    "            print(f\"{len(idsList)} documents with duplicated documents were removed from {collection}\\n\")\n",
    "        except IndexError:\n",
    "                print(f\"0 documents with duplicated documents in {collection}\\n\")\n",
    "\n",
    "remove_duplicates(db)"
   ]
  },
  {
   "cell_type": "markdown",
   "metadata": {},
   "source": [
    "### duplicates across collections"
   ]
  },
  {
   "cell_type": "code",
   "execution_count": null,
   "metadata": {},
   "outputs": [],
   "source": [
    "pipeline = [\n",
    "    {  # project fields\n",
    "        '$project': {\n",
    "            '_id': 0,\n",
    "            'text': {\n",
    "                '$concat': [\n",
    "                    {'$ifNull': ['$title', '']},\n",
    "                    ' - ',\n",
    "                    {'$ifNull': ['$description', '']},\n",
    "                    ' - ',\n",
    "                    {'$ifNull': ['$content', '']},\n",
    "                ]\n",
    "            }\n",
    "        }\n",
    "    }\n",
    "]\n",
    "\n",
    "r_everything = list(map(lambda x: x['text'], db.everything.aggregate(pipeline)))\n",
    "r_top_headlines = list(map(lambda x: x['text'], db.top_headlines.aggregate(pipeline)))"
   ]
  },
  {
   "cell_type": "code",
   "execution_count": null,
   "metadata": {},
   "outputs": [],
   "source": [
    "# union allows to join the elements of two sets while removing the duplicates\n",
    "len(set(r_top_headlines).union(set(r_everything)))"
   ]
  },
  {
   "cell_type": "code",
   "execution_count": null,
   "metadata": {},
   "outputs": [],
   "source": []
  }
 ],
 "metadata": {
  "kernelspec": {
   "display_name": "Python 3.7.9 64-bit ('mapintel': conda)",
   "language": "python",
   "name": "python37964bitmapintelconda1b18194af5a94b938b565a042464e6b8"
  },
  "language_info": {
   "codemirror_mode": {
    "name": "ipython",
    "version": 3
   },
   "file_extension": ".py",
   "mimetype": "text/x-python",
   "name": "python",
   "nbconvert_exporter": "python",
   "pygments_lexer": "ipython3",
   "version": "3.7.9-final"
  }
 },
 "nbformat": 4,
 "nbformat_minor": 4
}